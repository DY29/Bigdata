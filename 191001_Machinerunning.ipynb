{
  "nbformat": 4,
  "nbformat_minor": 0,
  "metadata": {
    "colab": {
      "name": "191001_Machinerunning.ipynb",
      "provenance": [],
      "collapsed_sections": [
        "quJH5P-aSBeX"
      ]
    },
    "kernelspec": {
      "name": "python3",
      "display_name": "Python 3"
    },
    "accelerator": "GPU"
  },
  "cells": [
    {
      "cell_type": "code",
      "metadata": {
        "id": "y1QSpsIkt7ZU",
        "colab_type": "code",
        "colab": {}
      },
      "source": [
        "# 텐서플로우 복습\n",
        "# random.normal : 정규분포를 따르는 랜덤 난수를 발생시킴(종모양)\n",
        "# 정규분포: \n",
        "# matmull: 행렬 곱\n",
        "# 텐서플로우, 케라스 , 파이토치\n",
        "# 255로 나눠 주는 이유는? : \n",
        "# tf.keras.layers.Flatten : 2차원 -> 1차원\n",
        "# dropout: 과적합을 해결하기 위해서 사용\n",
        "# activate fnc: relu, step, rect\n",
        "# 책 사서 공부하라고? 밑바닥에서 시작하는 딥러닝?\n",
        "# optimizer: 최적의 w값 가지는 것손실이 최소가 되는 w값을 찾아가는 방법중 하나\n",
        "# cs231n(convolutional Neural networks for visual recognitions):  준비해오기 (스탠포드 인공지능 관련 강의)\n",
        "# running rate: 속도 조절\n",
        "# cost가 미분하면 \n",
        "# mnist: 손으로 쓴 숫자들로 이루어진 대형 데이터베이스. 숫자로 예측\n",
        "# cross validation: 데이터 셋을 나눠서 하나는 validation set으로 쓰고 validation으로 예측, 다른건 학습용으로 쓰고 validations set으로 예측하고 \n",
        "# manufold :  7:3 방법     \n",
        "# l1 distance l2 distance\n",
        "# 지도학습-비지도학습 차이 : 먼저 답 정해놓고 하느냐 답 정하지 않고 하느냐\n",
        "# 책 사기: 강사님한테 자료랑 정보 받기"
      ],
      "execution_count": 0,
      "outputs": []
    },
    {
      "cell_type": "code",
      "metadata": {
        "id": "LlW83P6lH5tS",
        "colab_type": "code",
        "colab": {}
      },
      "source": [
        "# 비지도 : k-means (k-clustering) \n",
        "# k = n : n:데이터 갯수\n",
        "# 거리개념으로 자기 데이터 중 가장 가까운 데이터로 이동\n",
        "# 중심으로 이동 -> 거리개념으로 가까운 데이터로 이동 -> 싸우고 -> 싸울거 없으면 이동"
      ],
      "execution_count": 0,
      "outputs": []
    },
    {
      "cell_type": "code",
      "metadata": {
        "id": "hcpswVOAJPNF",
        "colab_type": "code",
        "colab": {}
      },
      "source": [
        ""
      ],
      "execution_count": 0,
      "outputs": []
    },
    {
      "cell_type": "code",
      "metadata": {
        "id": "HhM9a3xrxudE",
        "colab_type": "code",
        "outputId": "21767875-a5de-4e6b-e678-645b348bc435",
        "colab": {
          "base_uri": "https://localhost:8080/",
          "height": 397
        }
      },
      "source": [
        "pip install tensorflow"
      ],
      "execution_count": 0,
      "outputs": [
        {
          "output_type": "stream",
          "text": [
            "Requirement already satisfied: tensorflow in /usr/local/lib/python3.6/dist-packages (1.14.0)\n",
            "Requirement already satisfied: keras-applications>=1.0.6 in /usr/local/lib/python3.6/dist-packages (from tensorflow) (1.0.8)\n",
            "Requirement already satisfied: astor>=0.6.0 in /usr/local/lib/python3.6/dist-packages (from tensorflow) (0.8.0)\n",
            "Requirement already satisfied: grpcio>=1.8.6 in /usr/local/lib/python3.6/dist-packages (from tensorflow) (1.15.0)\n",
            "Requirement already satisfied: six>=1.10.0 in /usr/local/lib/python3.6/dist-packages (from tensorflow) (1.12.0)\n",
            "Requirement already satisfied: absl-py>=0.7.0 in /usr/local/lib/python3.6/dist-packages (from tensorflow) (0.8.0)\n",
            "Requirement already satisfied: google-pasta>=0.1.6 in /usr/local/lib/python3.6/dist-packages (from tensorflow) (0.1.7)\n",
            "Requirement already satisfied: wrapt>=1.11.1 in /usr/local/lib/python3.6/dist-packages (from tensorflow) (1.11.2)\n",
            "Requirement already satisfied: tensorboard<1.15.0,>=1.14.0 in /usr/local/lib/python3.6/dist-packages (from tensorflow) (1.14.0)\n",
            "Requirement already satisfied: keras-preprocessing>=1.0.5 in /usr/local/lib/python3.6/dist-packages (from tensorflow) (1.1.0)\n",
            "Requirement already satisfied: numpy<2.0,>=1.14.5 in /usr/local/lib/python3.6/dist-packages (from tensorflow) (1.16.5)\n",
            "Requirement already satisfied: termcolor>=1.1.0 in /usr/local/lib/python3.6/dist-packages (from tensorflow) (1.1.0)\n",
            "Requirement already satisfied: protobuf>=3.6.1 in /usr/local/lib/python3.6/dist-packages (from tensorflow) (3.7.1)\n",
            "Requirement already satisfied: tensorflow-estimator<1.15.0rc0,>=1.14.0rc0 in /usr/local/lib/python3.6/dist-packages (from tensorflow) (1.14.0)\n",
            "Requirement already satisfied: wheel>=0.26 in /usr/local/lib/python3.6/dist-packages (from tensorflow) (0.33.6)\n",
            "Requirement already satisfied: gast>=0.2.0 in /usr/local/lib/python3.6/dist-packages (from tensorflow) (0.3.2)\n",
            "Requirement already satisfied: h5py in /usr/local/lib/python3.6/dist-packages (from keras-applications>=1.0.6->tensorflow) (2.8.0)\n",
            "Requirement already satisfied: werkzeug>=0.11.15 in /usr/local/lib/python3.6/dist-packages (from tensorboard<1.15.0,>=1.14.0->tensorflow) (0.16.0)\n",
            "Requirement already satisfied: setuptools>=41.0.0 in /usr/local/lib/python3.6/dist-packages (from tensorboard<1.15.0,>=1.14.0->tensorflow) (41.2.0)\n",
            "Requirement already satisfied: markdown>=2.6.8 in /usr/local/lib/python3.6/dist-packages (from tensorboard<1.15.0,>=1.14.0->tensorflow) (3.1.1)\n"
          ],
          "name": "stdout"
        }
      ]
    },
    {
      "cell_type": "code",
      "metadata": {
        "id": "n6sQJchk3_aN",
        "colab_type": "code",
        "colab": {}
      },
      "source": [
        "import tensorflow as tf\n",
        "from IPython.display import display, Image"
      ],
      "execution_count": 0,
      "outputs": []
    },
    {
      "cell_type": "code",
      "metadata": {
        "id": "xoNMOhqMJTk1",
        "colab_type": "code",
        "outputId": "323eea7c-b944-447f-fdc8-706bb0a44546",
        "colab": {
          "base_uri": "https://localhost:8080/",
          "height": 505
        }
      },
      "source": [
        "pip install mglearn"
      ],
      "execution_count": 0,
      "outputs": [
        {
          "output_type": "stream",
          "text": [
            "Collecting mglearn\n",
            "\u001b[?25l  Downloading https://files.pythonhosted.org/packages/fb/01/8d3630ecc767c9de96a9c46e055f2a3a5f9e14a47d3d0348a36a5005fe67/mglearn-0.1.7.tar.gz (540kB)\n",
            "\u001b[K     |████████████████████████████████| 542kB 2.8MB/s \n",
            "\u001b[?25hRequirement already satisfied: numpy in /usr/local/lib/python3.6/dist-packages (from mglearn) (1.16.5)\n",
            "Requirement already satisfied: matplotlib in /usr/local/lib/python3.6/dist-packages (from mglearn) (3.0.3)\n",
            "Requirement already satisfied: scikit-learn in /usr/local/lib/python3.6/dist-packages (from mglearn) (0.21.3)\n",
            "Requirement already satisfied: pandas in /usr/local/lib/python3.6/dist-packages (from mglearn) (0.24.2)\n",
            "Requirement already satisfied: pillow in /usr/local/lib/python3.6/dist-packages (from mglearn) (4.3.0)\n",
            "Requirement already satisfied: cycler in /usr/local/lib/python3.6/dist-packages (from mglearn) (0.10.0)\n",
            "Requirement already satisfied: imageio in /usr/local/lib/python3.6/dist-packages (from mglearn) (2.4.1)\n",
            "Requirement already satisfied: python-dateutil>=2.1 in /usr/local/lib/python3.6/dist-packages (from matplotlib->mglearn) (2.5.3)\n",
            "Requirement already satisfied: pyparsing!=2.0.4,!=2.1.2,!=2.1.6,>=2.0.1 in /usr/local/lib/python3.6/dist-packages (from matplotlib->mglearn) (2.4.2)\n",
            "Requirement already satisfied: kiwisolver>=1.0.1 in /usr/local/lib/python3.6/dist-packages (from matplotlib->mglearn) (1.1.0)\n",
            "Requirement already satisfied: joblib>=0.11 in /usr/local/lib/python3.6/dist-packages (from scikit-learn->mglearn) (0.13.2)\n",
            "Requirement already satisfied: scipy>=0.17.0 in /usr/local/lib/python3.6/dist-packages (from scikit-learn->mglearn) (1.3.1)\n",
            "Requirement already satisfied: pytz>=2011k in /usr/local/lib/python3.6/dist-packages (from pandas->mglearn) (2018.9)\n",
            "Requirement already satisfied: olefile in /usr/local/lib/python3.6/dist-packages (from pillow->mglearn) (0.46)\n",
            "Requirement already satisfied: six in /usr/local/lib/python3.6/dist-packages (from cycler->mglearn) (1.12.0)\n",
            "Requirement already satisfied: setuptools in /usr/local/lib/python3.6/dist-packages (from kiwisolver>=1.0.1->matplotlib->mglearn) (41.2.0)\n",
            "Building wheels for collected packages: mglearn\n",
            "  Building wheel for mglearn (setup.py) ... \u001b[?25l\u001b[?25hdone\n",
            "  Created wheel for mglearn: filename=mglearn-0.1.7-py2.py3-none-any.whl size=582705 sha256=c8bcbf12007784dae08ef94b907810dc62521671a62b2622fa43b16679ddc813\n",
            "  Stored in directory: /root/.cache/pip/wheels/74/cf/8d/04f4932d15854a36726c6210763c7127e62de28f5c8ddfcf3b\n",
            "Successfully built mglearn\n",
            "Installing collected packages: mglearn\n",
            "Successfully installed mglearn-0.1.7\n"
          ],
          "name": "stdout"
        }
      ]
    },
    {
      "cell_type": "code",
      "metadata": {
        "id": "lz8SQQA14KCR",
        "colab_type": "code",
        "outputId": "5c0dde48-f483-45c6-b52b-772833e0ba0b",
        "colab": {
          "base_uri": "https://localhost:8080/",
          "height": 109
        }
      },
      "source": [
        "import mglearn"
      ],
      "execution_count": 0,
      "outputs": [
        {
          "output_type": "stream",
          "text": [
            "/usr/local/lib/python3.6/dist-packages/sklearn/externals/six.py:31: DeprecationWarning: The module is deprecated in version 0.21 and will be removed in version 0.23 since we've dropped support for Python 2.7. Please rely on the official version of six (https://pypi.org/project/six/).\n",
            "  \"(https://pypi.org/project/six/).\", DeprecationWarning)\n",
            "/usr/local/lib/python3.6/dist-packages/sklearn/externals/joblib/__init__.py:15: DeprecationWarning: sklearn.externals.joblib is deprecated in 0.21 and will be removed in 0.23. Please import this functionality directly from joblib, which can be installed with: pip install joblib. If this warning is raised when loading pickled models, you may need to re-serialize those models with scikit-learn 0.21+.\n",
            "  warnings.warn(msg, category=DeprecationWarning)\n"
          ],
          "name": "stderr"
        }
      ]
    },
    {
      "cell_type": "code",
      "metadata": {
        "id": "kScoinFAJQlA",
        "colab_type": "code",
        "outputId": "3921be86-741c-49dc-ef58-921828d2c627",
        "colab": {
          "base_uri": "https://localhost:8080/",
          "height": 485
        }
      },
      "source": [
        "mglearn.plots.plot_kmeans_algorithm()"
      ],
      "execution_count": 0,
      "outputs": [
        {
          "output_type": "display_data",
          "data": {
            "image/png": "[encoded data removed]",
            "text/plain": [
              "<Figure size 720x576 with 9 Axes>"
            ]
          },
          "metadata": {
            "tags": []
          }
        }
      ]
    },
    {
      "cell_type": "code",
      "metadata": {
        "id": "IXe-GSFa5AeG",
        "colab_type": "code",
        "colab": {}
      },
      "source": [
        "from sklearn.datasets import make_moons"
      ],
      "execution_count": 0,
      "outputs": []
    },
    {
      "cell_type": "code",
      "metadata": {
        "id": "1q3jAS0PJegs",
        "colab_type": "code",
        "colab": {}
      },
      "source": [
        "from sklearn.cluster import KMeans"
      ],
      "execution_count": 0,
      "outputs": []
    },
    {
      "cell_type": "code",
      "metadata": {
        "id": "1d6q5TAk5AiK",
        "colab_type": "code",
        "colab": {}
      },
      "source": [
        "X, y =make_moons(n_samples=200, noise = 0.05, random_state=0 )"
      ],
      "execution_count": 0,
      "outputs": []
    },
    {
      "cell_type": "code",
      "metadata": {
        "id": "5rrx4x8LJ0tx",
        "colab_type": "code",
        "outputId": "1b67b484-5cd6-45ad-8350-ed535728ec88",
        "colab": {
          "base_uri": "https://localhost:8080/",
          "height": 71
        }
      },
      "source": [
        "kmeans= KMeans(n_clusters = 2)\n",
        "kmeans.fit(X)"
      ],
      "execution_count": 0,
      "outputs": [
        {
          "output_type": "execute_result",
          "data": {
            "text/plain": [
              "KMeans(algorithm='auto', copy_x=True, init='k-means++', max_iter=300,\n",
              "       n_clusters=2, n_init=10, n_jobs=None, precompute_distances='auto',\n",
              "       random_state=None, tol=0.0001, verbose=0)"
            ]
          },
          "metadata": {
            "tags": []
          },
          "execution_count": 24
        }
      ]
    },
    {
      "cell_type": "code",
      "metadata": {
        "id": "6C_uhy4R5Al1",
        "colab_type": "code",
        "colab": {}
      },
      "source": [
        "y_pred= kmeans.predict(X)"
      ],
      "execution_count": 0,
      "outputs": []
    },
    {
      "cell_type": "code",
      "metadata": {
        "id": "lQyuEM-gA3u_",
        "colab_type": "code",
        "outputId": "1f29d8ae-34b3-4f65-d057-e43e0b63737a",
        "colab": {
          "base_uri": "https://localhost:8080/",
          "height": 197
        }
      },
      "source": [
        "y_pred"
      ],
      "execution_count": 0,
      "outputs": [
        {
          "output_type": "execute_result",
          "data": {
            "text/plain": [
              "array([0, 0, 1, 1, 0, 0, 0, 0, 0, 0, 1, 1, 0, 0, 1, 0, 1, 0, 1, 1, 0, 0,\n",
              "       1, 0, 1, 1, 0, 0, 1, 1, 0, 1, 0, 1, 0, 0, 0, 0, 1, 1, 0, 1, 1, 1,\n",
              "       0, 1, 0, 1, 1, 0, 1, 0, 0, 1, 0, 0, 1, 0, 1, 1, 0, 1, 0, 0, 0, 1,\n",
              "       1, 0, 1, 1, 0, 1, 0, 1, 0, 1, 1, 0, 1, 0, 0, 1, 0, 0, 1, 1, 0, 1,\n",
              "       0, 0, 1, 0, 0, 1, 0, 0, 0, 0, 1, 1, 0, 0, 1, 0, 1, 1, 1, 1, 0, 1,\n",
              "       1, 1, 1, 1, 0, 0, 1, 0, 0, 0, 0, 1, 1, 1, 1, 1, 0, 1, 0, 0, 0, 1,\n",
              "       1, 1, 0, 0, 0, 1, 0, 0, 1, 1, 1, 1, 1, 0, 1, 0, 1, 1, 0, 0, 0, 1,\n",
              "       0, 1, 0, 0, 1, 1, 1, 0, 1, 0, 0, 0, 1, 0, 0, 0, 1, 1, 1, 1, 1, 0,\n",
              "       0, 1, 1, 1, 0, 1, 0, 0, 0, 1, 1, 0, 1, 1, 1, 1, 0, 0, 1, 1, 0, 1,\n",
              "       1, 0], dtype=int32)"
            ]
          },
          "metadata": {
            "tags": []
          },
          "execution_count": 26
        }
      ]
    },
    {
      "cell_type": "code",
      "metadata": {
        "id": "srq3aYYEKHbR",
        "colab_type": "code",
        "outputId": "2904fbbd-ccfa-4d94-a79c-43debc40a1d7",
        "colab": {
          "base_uri": "https://localhost:8080/",
          "height": 35
        }
      },
      "source": [
        "print(X.shape, y.shape)"
      ],
      "execution_count": 0,
      "outputs": [
        {
          "output_type": "stream",
          "text": [
            "(200, 2) (200,)\n"
          ],
          "name": "stdout"
        }
      ]
    },
    {
      "cell_type": "code",
      "metadata": {
        "id": "vAfQMzxkKSp2",
        "colab_type": "code",
        "colab": {}
      },
      "source": [
        "import matplotlib.pyplot as plt"
      ],
      "execution_count": 0,
      "outputs": []
    },
    {
      "cell_type": "code",
      "metadata": {
        "id": "j5rPIS71KVqS",
        "colab_type": "code",
        "colab": {}
      },
      "source": [
        "col1 = X[:, 0]\n",
        "col2 = X[:, 1]"
      ],
      "execution_count": 0,
      "outputs": []
    },
    {
      "cell_type": "code",
      "metadata": {
        "id": "_1RP0ert5Apg",
        "colab_type": "code",
        "outputId": "6bc8d916-20e6-4049-a443-143699cf9344",
        "colab": {
          "base_uri": "https://localhost:8080/",
          "height": 287
        }
      },
      "source": [
        "plt.scatter(col1,col2, c=y_pred, cmap = mglearn.cm3, s= 60)"
      ],
      "execution_count": 0,
      "outputs": [
        {
          "output_type": "execute_result",
          "data": {
            "text/plain": [
              "<matplotlib.collections.PathCollection at 0x7f590e998160>"
            ]
          },
          "metadata": {
            "tags": []
          },
          "execution_count": 30
        },
        {
          "output_type": "display_data",
          "data": {
            "image/png": "[encoded data removed]",
            "text/plain": [
              "<Figure size 432x288 with 1 Axes>"
            ]
          },
          "metadata": {
            "tags": []
          }
        }
      ]
    },
    {
      "cell_type": "code",
      "metadata": {
        "id": "8F1_BY2RLUg-",
        "colab_type": "code",
        "colab": {}
      },
      "source": [
        "from sklearn.datasets import make_blobs"
      ],
      "execution_count": 0,
      "outputs": []
    },
    {
      "cell_type": "code",
      "metadata": {
        "id": "thy3jb7w5As0",
        "colab_type": "code",
        "colab": {}
      },
      "source": [
        "#1-1 인위적으로 2차원 데이터 만들기, \n",
        "X, y = make_blobs(random_state =1 )"
      ],
      "execution_count": 0,
      "outputs": []
    },
    {
      "cell_type": "code",
      "metadata": {
        "id": "HMvGh0o04Uq4",
        "colab_type": "code",
        "outputId": "9b2df6b8-b8d3-4562-e762-0e0a0fa1c6ef",
        "colab": {
          "base_uri": "https://localhost:8080/",
          "height": 71
        }
      },
      "source": [
        "\n",
        "kmeans= KMeans(n_clusters = 3)\n",
        "kmeans.fit(X)"
      ],
      "execution_count": 0,
      "outputs": [
        {
          "output_type": "execute_result",
          "data": {
            "text/plain": [
              "KMeans(algorithm='auto', copy_x=True, init='k-means++', max_iter=300,\n",
              "       n_clusters=3, n_init=10, n_jobs=None, precompute_distances='auto',\n",
              "       random_state=None, tol=0.0001, verbose=0)"
            ]
          },
          "metadata": {
            "tags": []
          },
          "execution_count": 33
        }
      ]
    },
    {
      "cell_type": "code",
      "metadata": {
        "id": "ZDU4rydPLYLp",
        "colab_type": "code",
        "colab": {}
      },
      "source": [
        "y_pred= kmeans.predict(X)"
      ],
      "execution_count": 0,
      "outputs": []
    },
    {
      "cell_type": "code",
      "metadata": {
        "id": "DNVHNMgJLaB3",
        "colab_type": "code",
        "outputId": "65331aff-8b2e-446f-935d-a9b6d576d110",
        "colab": {
          "base_uri": "https://localhost:8080/",
          "height": 107
        }
      },
      "source": [
        "y_pred"
      ],
      "execution_count": 0,
      "outputs": [
        {
          "output_type": "execute_result",
          "data": {
            "text/plain": [
              "array([0, 1, 1, 1, 2, 2, 2, 1, 0, 0, 1, 1, 2, 0, 2, 2, 2, 0, 1, 1, 2, 1,\n",
              "       2, 0, 1, 2, 2, 0, 0, 2, 0, 0, 2, 0, 1, 2, 1, 1, 1, 2, 2, 1, 0, 1,\n",
              "       1, 2, 0, 0, 0, 0, 1, 2, 2, 2, 0, 2, 1, 1, 0, 0, 1, 2, 2, 1, 1, 2,\n",
              "       0, 2, 0, 1, 1, 1, 2, 0, 0, 1, 2, 2, 0, 1, 0, 1, 1, 2, 0, 0, 0, 0,\n",
              "       1, 0, 2, 0, 0, 1, 1, 2, 2, 0, 2, 0], dtype=int32)"
            ]
          },
          "metadata": {
            "tags": []
          },
          "execution_count": 35
        }
      ]
    },
    {
      "cell_type": "code",
      "metadata": {
        "id": "z00AUgTrLdYK",
        "colab_type": "code",
        "outputId": "1a2a5d04-1185-4916-fe40-f7cb2c9916aa",
        "colab": {
          "base_uri": "https://localhost:8080/",
          "height": 35
        }
      },
      "source": [
        "print(X.shape, y.shape)"
      ],
      "execution_count": 0,
      "outputs": [
        {
          "output_type": "stream",
          "text": [
            "(100, 2) (100,)\n"
          ],
          "name": "stdout"
        }
      ]
    },
    {
      "cell_type": "code",
      "metadata": {
        "id": "-TBWBS2bLd4F",
        "colab_type": "code",
        "colab": {}
      },
      "source": [
        "col1 = X[:, 0]\n",
        "col2 = X[:, 1]"
      ],
      "execution_count": 0,
      "outputs": []
    },
    {
      "cell_type": "code",
      "metadata": {
        "id": "dckaZGxWLgyM",
        "colab_type": "code",
        "outputId": "af1555ac-5d55-4c18-d313-f69f668947e4",
        "colab": {
          "base_uri": "https://localhost:8080/",
          "height": 287
        }
      },
      "source": [
        "plt.scatter(col1,col2, c=y_pred, cmap = mglearn.cm3, s= 60)"
      ],
      "execution_count": 0,
      "outputs": [
        {
          "output_type": "execute_result",
          "data": {
            "text/plain": [
              "<matplotlib.collections.PathCollection at 0x7f590d10c400>"
            ]
          },
          "metadata": {
            "tags": []
          },
          "execution_count": 38
        },
        {
          "output_type": "display_data",
          "data": {
            "image/png": "[encoded data removed]",
            "text/plain": [
              "<Figure size 432x288 with 1 Axes>"
            ]
          },
          "metadata": {
            "tags": []
          }
        }
      ]
    },
    {
      "cell_type": "code",
      "metadata": {
        "id": "9hT7m8lULiT5",
        "colab_type": "code",
        "colab": {}
      },
      "source": [
        ""
      ],
      "execution_count": 0,
      "outputs": []
    },
    {
      "cell_type": "code",
      "metadata": {
        "id": "mVjuiAkthMjW",
        "colab_type": "code",
        "colab": {}
      },
      "source": [
        "# grate뭐시기 : \n",
        "# 이미지: 3D채널, rgb: "
      ],
      "execution_count": 0,
      "outputs": []
    },
    {
      "cell_type": "code",
      "metadata": {
        "id": "weKZWWKoh7XH",
        "colab_type": "code",
        "outputId": "3071e47b-9dcd-4ea7-9b25-b2d136f6d5a2",
        "colab": {
          "base_uri": "https://localhost:8080/",
          "height": 181
        }
      },
      "source": [
        "pip install keras"
      ],
      "execution_count": 0,
      "outputs": [
        {
          "output_type": "stream",
          "text": [
            "Requirement already satisfied: keras in /usr/local/lib/python3.6/dist-packages (2.2.5)\n",
            "Requirement already satisfied: scipy>=0.14 in /usr/local/lib/python3.6/dist-packages (from keras) (1.3.1)\n",
            "Requirement already satisfied: keras-applications>=1.0.8 in /usr/local/lib/python3.6/dist-packages (from keras) (1.0.8)\n",
            "Requirement already satisfied: keras-preprocessing>=1.1.0 in /usr/local/lib/python3.6/dist-packages (from keras) (1.1.0)\n",
            "Requirement already satisfied: h5py in /usr/local/lib/python3.6/dist-packages (from keras) (2.8.0)\n",
            "Requirement already satisfied: six>=1.9.0 in /usr/local/lib/python3.6/dist-packages (from keras) (1.12.0)\n",
            "Requirement already satisfied: numpy>=1.9.1 in /usr/local/lib/python3.6/dist-packages (from keras) (1.16.5)\n",
            "Requirement already satisfied: pyyaml in /usr/local/lib/python3.6/dist-packages (from keras) (3.13)\n"
          ],
          "name": "stdout"
        }
      ]
    },
    {
      "cell_type": "code",
      "metadata": {
        "id": "zAeHzmULgug1",
        "colab_type": "code",
        "outputId": "4a544dab-eaa4-4943-8502-272139ef2ac9",
        "colab": {
          "base_uri": "https://localhost:8080/",
          "height": 35
        }
      },
      "source": [
        "import tensorflow as tf\n",
        "from keras.datasets import mnist"
      ],
      "execution_count": 0,
      "outputs": [
        {
          "output_type": "stream",
          "text": [
            "Using TensorFlow backend.\n"
          ],
          "name": "stderr"
        }
      ]
    },
    {
      "cell_type": "code",
      "metadata": {
        "id": "KoDlg8BkiADV",
        "colab_type": "code",
        "colab": {}
      },
      "source": [
        ""
      ],
      "execution_count": 0,
      "outputs": []
    },
    {
      "cell_type": "code",
      "metadata": {
        "id": "1cixhT53fEK6",
        "colab_type": "code",
        "colab": {}
      },
      "source": [
        "mnist1 = tf.keras.datasets.mnist\n",
        "(X_train, y_train),(X_test, y_test)= mnist1.load_data()\n",
        "\n",
        "(X_train, y_train),(X_test, y_test) = mnist1.load_data()"
      ],
      "execution_count": 0,
      "outputs": []
    },
    {
      "cell_type": "code",
      "metadata": {
        "id": "OpF_9SLmfEN9",
        "colab_type": "code",
        "outputId": "9bd3ea22-a17e-4f29-81b3-eec540804839",
        "colab": {
          "base_uri": "https://localhost:8080/",
          "height": 35
        }
      },
      "source": [
        "print(type(X_train), type(y_train), type(X_test), type(y_test))"
      ],
      "execution_count": 0,
      "outputs": [
        {
          "output_type": "stream",
          "text": [
            "<class 'numpy.ndarray'> <class 'numpy.ndarray'> <class 'numpy.ndarray'> <class 'numpy.ndarray'>\n"
          ],
          "name": "stdout"
        }
      ]
    },
    {
      "cell_type": "code",
      "metadata": {
        "id": "8f40ArZGfERX",
        "colab_type": "code",
        "outputId": "c6c46997-d2e0-4032-a539-5eb8f334be98",
        "colab": {
          "base_uri": "https://localhost:8080/",
          "height": 35
        }
      },
      "source": [
        "print(X_train.shape, y_train.shape)"
      ],
      "execution_count": 0,
      "outputs": [
        {
          "output_type": "stream",
          "text": [
            "(60000, 28, 28) (60000,)\n"
          ],
          "name": "stdout"
        }
      ]
    },
    {
      "cell_type": "code",
      "metadata": {
        "id": "FFKzFqERfEUa",
        "colab_type": "code",
        "outputId": "144d79b4-9b3e-4e42-8fb2-70d0b1d5cade",
        "colab": {
          "base_uri": "https://localhost:8080/",
          "height": 35
        }
      },
      "source": [
        "print(X_test.shape, y_test.shape)"
      ],
      "execution_count": 0,
      "outputs": [
        {
          "output_type": "stream",
          "text": [
            "(10000, 28, 28) (10000,)\n"
          ],
          "name": "stdout"
        }
      ]
    },
    {
      "cell_type": "code",
      "metadata": {
        "id": "dTw21qlriswf",
        "colab_type": "code",
        "outputId": "912993fb-4b31-47b0-a45e-12a615f956cb",
        "colab": {
          "base_uri": "https://localhost:8080/",
          "height": 89
        }
      },
      "source": [
        "print(X_train.shape[0])\n",
        "print(X_test.shape[0])\n",
        "print(y_train.shape[0])\n",
        "print(y_test.shape[0])"
      ],
      "execution_count": 0,
      "outputs": [
        {
          "output_type": "stream",
          "text": [
            "60000\n",
            "10000\n",
            "60000\n",
            "10000\n"
          ],
          "name": "stdout"
        }
      ]
    },
    {
      "cell_type": "code",
      "metadata": {
        "id": "99zgkIaxipQx",
        "colab_type": "code",
        "outputId": "90155fd9-e1ef-49e1-d138-0fbc09950f52",
        "colab": {
          "base_uri": "https://localhost:8080/",
          "height": 433
        }
      },
      "source": [
        "#불러오는 방법\n",
        "# 원 핫 인코딩 : 데이터를 0이랑 1로 바꿔주는 방법\n",
        "from tensorflow.examples.tutorials.mnist import input_data\n",
        "mnist2 = input_data.read_data_sets(\"./mnist/data/\",one_hot=True)"
      ],
      "execution_count": 0,
      "outputs": [
        {
          "output_type": "stream",
          "text": [
            "WARNING:tensorflow:From <ipython-input-47-cbeb6cf0d3f6>:2: read_data_sets (from tensorflow.contrib.learn.python.learn.datasets.mnist) is deprecated and will be removed in a future version.\n",
            "Instructions for updating:\n",
            "Please use alternatives such as official/mnist/dataset.py from tensorflow/models.\n",
            "WARNING:tensorflow:From /usr/local/lib/python3.6/dist-packages/tensorflow/contrib/learn/python/learn/datasets/mnist.py:260: maybe_download (from tensorflow.contrib.learn.python.learn.datasets.base) is deprecated and will be removed in a future version.\n",
            "Instructions for updating:\n",
            "Please write your own downloading logic.\n",
            "WARNING:tensorflow:From /usr/local/lib/python3.6/dist-packages/tensorflow/contrib/learn/python/learn/datasets/mnist.py:262: extract_images (from tensorflow.contrib.learn.python.learn.datasets.mnist) is deprecated and will be removed in a future version.\n",
            "Instructions for updating:\n",
            "Please use tf.data to implement this functionality.\n",
            "Extracting ./mnist/data/train-images-idx3-ubyte.gz\n",
            "WARNING:tensorflow:From /usr/local/lib/python3.6/dist-packages/tensorflow/contrib/learn/python/learn/datasets/mnist.py:267: extract_labels (from tensorflow.contrib.learn.python.learn.datasets.mnist) is deprecated and will be removed in a future version.\n",
            "Instructions for updating:\n",
            "Please use tf.data to implement this functionality.\n",
            "Extracting ./mnist/data/train-labels-idx1-ubyte.gz\n",
            "WARNING:tensorflow:From /usr/local/lib/python3.6/dist-packages/tensorflow/contrib/learn/python/learn/datasets/mnist.py:110: dense_to_one_hot (from tensorflow.contrib.learn.python.learn.datasets.mnist) is deprecated and will be removed in a future version.\n",
            "Instructions for updating:\n",
            "Please use tf.one_hot on tensors.\n",
            "Extracting ./mnist/data/t10k-images-idx3-ubyte.gz\n",
            "Extracting ./mnist/data/t10k-labels-idx1-ubyte.gz\n",
            "WARNING:tensorflow:From /usr/local/lib/python3.6/dist-packages/tensorflow/contrib/learn/python/learn/datasets/mnist.py:290: DataSet.__init__ (from tensorflow.contrib.learn.python.learn.datasets.mnist) is deprecated and will be removed in a future version.\n",
            "Instructions for updating:\n",
            "Please use alternatives such as official/mnist/dataset.py from tensorflow/models.\n"
          ],
          "name": "stdout"
        }
      ]
    },
    {
      "cell_type": "code",
      "metadata": {
        "id": "rnrNNINKjfzA",
        "colab_type": "code",
        "colab": {}
      },
      "source": [
        "# softmax란? "
      ],
      "execution_count": 0,
      "outputs": []
    },
    {
      "cell_type": "code",
      "metadata": {
        "id": "-gDoZcmGkBdy",
        "colab_type": "code",
        "outputId": "11ee891e-7840-4e04-db8f-5cace141e740",
        "colab": {
          "base_uri": "https://localhost:8080/",
          "height": 71
        }
      },
      "source": [
        "print(type(mnist2.train))\n",
        "print(type(mnist2.train.images), type(mnist2.test.images))\n",
        "print(type(mnist2.train.labels), type(mnist2.test.labels))"
      ],
      "execution_count": 0,
      "outputs": [
        {
          "output_type": "stream",
          "text": [
            "<class 'tensorflow.contrib.learn.python.learn.datasets.mnist.DataSet'>\n",
            "<class 'numpy.ndarray'> <class 'numpy.ndarray'>\n",
            "<class 'numpy.ndarray'> <class 'numpy.ndarray'>\n"
          ],
          "name": "stdout"
        }
      ]
    },
    {
      "cell_type": "code",
      "metadata": {
        "id": "8nvnyt7KlL8e",
        "colab_type": "code",
        "colab": {}
      },
      "source": [
        "import numpy as np\n",
        "import pandas as pd"
      ],
      "execution_count": 0,
      "outputs": []
    },
    {
      "cell_type": "code",
      "metadata": {
        "id": "i_NwFRssiyX0",
        "colab_type": "code",
        "colab": {}
      },
      "source": [
        "# shape 쓸수 있는 자료형 : pandas, numpy\n",
        "# numpy.zeros(배열, dtype=자료형)을 사용하여 모든 원소의 값이 0인 배열을 생성할 수 있습니다.\n",
        "# numpy.zeros_like(배열, dtype=자료형)을 사용하여 배열의 크기와 동일하며 모든 원소의 값이 0인 배열을 생성할 수 있습니다."
      ],
      "execution_count": 0,
      "outputs": []
    },
    {
      "cell_type": "code",
      "metadata": {
        "id": "otR6T6JIljP7",
        "colab_type": "code",
        "colab": {}
      },
      "source": [
        "from keras.datasets import mnist"
      ],
      "execution_count": 0,
      "outputs": []
    },
    {
      "cell_type": "code",
      "metadata": {
        "id": "LOCTqFYtGV5N",
        "colab_type": "code",
        "colab": {}
      },
      "source": [
        ""
      ],
      "execution_count": 0,
      "outputs": []
    },
    {
      "cell_type": "code",
      "metadata": {
        "id": "MWfws5ppmSTn",
        "colab_type": "code",
        "colab": {}
      },
      "source": [
        "(X_train, y_train),(X_test, y_test)= mnist1.load_data()"
      ],
      "execution_count": 0,
      "outputs": []
    },
    {
      "cell_type": "code",
      "metadata": {
        "id": "9c72D_rjirXG",
        "colab_type": "code",
        "outputId": "261c2e2c-dd34-44fe-a43c-4ba04761dda1",
        "colab": {
          "base_uri": "https://localhost:8080/",
          "height": 53
        }
      },
      "source": [
        "print(X_train.shape, X_test.shape)\n",
        "print(y_train.shape, y_test.shape)\n"
      ],
      "execution_count": 0,
      "outputs": [
        {
          "output_type": "stream",
          "text": [
            "(60000, 28, 28) (10000, 28, 28)\n",
            "(60000,) (10000,)\n"
          ],
          "name": "stdout"
        }
      ]
    },
    {
      "cell_type": "code",
      "metadata": {
        "id": "kV02EyQcpuQv",
        "colab_type": "code",
        "colab": {}
      },
      "source": [
        "import matplotlib.pyplot   as plt"
      ],
      "execution_count": 0,
      "outputs": []
    },
    {
      "cell_type": "code",
      "metadata": {
        "id": "aUHKc7cJsiiC",
        "colab_type": "code",
        "colab": {}
      },
      "source": [
        ""
      ],
      "execution_count": 0,
      "outputs": []
    },
    {
      "cell_type": "code",
      "metadata": {
        "id": "QguN75ZFsikN",
        "colab_type": "code",
        "colab": {}
      },
      "source": [
        ""
      ],
      "execution_count": 0,
      "outputs": []
    },
    {
      "cell_type": "code",
      "metadata": {
        "id": "B0iXbEX8simV",
        "colab_type": "code",
        "outputId": "6710a084-f328-474b-a848-6f2bd29e99bf",
        "colab": {
          "base_uri": "https://localhost:8080/",
          "height": 315
        }
      },
      "source": [
        "# 2-1 이미지 표시하기. matshow\n",
        "figure = plt.figure()\n",
        "figure.set_size_inches(12,5)\n",
        "axes = []\n",
        "for i in range(1,11):\n",
        "  axes.append(figure.add_subplot(2,5,i))\n",
        "for i in range(10):\n",
        "  axes[i].matshow(X_train[i])"
      ],
      "execution_count": 0,
      "outputs": [
        {
          "output_type": "display_data",
          "data": {
            "image/png": "[encoded data removed]",
            "text/plain": [
              "<Figure size 864x360 with 10 Axes>"
            ]
          },
          "metadata": {
            "tags": []
          }
        }
      ]
    },
    {
      "cell_type": "code",
      "metadata": {
        "id": "Zk2ircQFuI3c",
        "colab_type": "code",
        "colab": {}
      },
      "source": [
        "(X_train, y_train),(X_test, y_test)= mnist.load_data()\n",
        "X_train = X_train.reshape(60000, 28*28)"
      ],
      "execution_count": 0,
      "outputs": []
    },
    {
      "cell_type": "code",
      "metadata": {
        "id": "GqVi4moPxnsf",
        "colab_type": "code",
        "colab": {}
      },
      "source": [
        "X_test = X_test.reshape(10000, 28*28)"
      ],
      "execution_count": 0,
      "outputs": []
    },
    {
      "cell_type": "code",
      "metadata": {
        "id": "qlO1LINjxA69",
        "colab_type": "code",
        "outputId": "0130fdbd-2b98-4284-c403-e64f3ce36c33",
        "colab": {
          "base_uri": "https://localhost:8080/",
          "height": 269
        }
      },
      "source": [
        "print(X_train)\n",
        "print(X_test)"
      ],
      "execution_count": 0,
      "outputs": [
        {
          "output_type": "stream",
          "text": [
            "[[0 0 0 ... 0 0 0]\n",
            " [0 0 0 ... 0 0 0]\n",
            " [0 0 0 ... 0 0 0]\n",
            " ...\n",
            " [0 0 0 ... 0 0 0]\n",
            " [0 0 0 ... 0 0 0]\n",
            " [0 0 0 ... 0 0 0]]\n",
            "[[0 0 0 ... 0 0 0]\n",
            " [0 0 0 ... 0 0 0]\n",
            " [0 0 0 ... 0 0 0]\n",
            " ...\n",
            " [0 0 0 ... 0 0 0]\n",
            " [0 0 0 ... 0 0 0]\n",
            " [0 0 0 ... 0 0 0]]\n"
          ],
          "name": "stdout"
        }
      ]
    },
    {
      "cell_type": "code",
      "metadata": {
        "id": "Dh6t-_SKuI53",
        "colab_type": "code",
        "colab": {}
      },
      "source": [
        "import numpy as np"
      ],
      "execution_count": 0,
      "outputs": []
    },
    {
      "cell_type": "code",
      "metadata": {
        "id": "USO4AUxeuI8K",
        "colab_type": "code",
        "outputId": "3f05830d-9bfa-4d5e-aaaf-7ca032c61fd4",
        "colab": {
          "base_uri": "https://localhost:8080/",
          "height": 53
        }
      },
      "source": [
        "print(y_train.shape)\n",
        "y_train_hot = np.eye(10)[y_train]\n",
        "print(y_train_hot.shape)"
      ],
      "execution_count": 0,
      "outputs": [
        {
          "output_type": "stream",
          "text": [
            "(60000,)\n",
            "(60000, 10)\n"
          ],
          "name": "stdout"
        }
      ]
    },
    {
      "cell_type": "code",
      "metadata": {
        "id": "2ila8mSXuI-U",
        "colab_type": "code",
        "outputId": "2d871c8d-a7dd-43b0-e64b-4cb9c5ec5aa3",
        "colab": {
          "base_uri": "https://localhost:8080/",
          "height": 53
        }
      },
      "source": [
        "print(y_test.shape)\n",
        "y_test_hot = np.eye(10)[y_test]\n",
        "print(y_test_hot.shape)"
      ],
      "execution_count": 0,
      "outputs": [
        {
          "output_type": "stream",
          "text": [
            "(10000,)\n",
            "(10000, 10)\n"
          ],
          "name": "stdout"
        }
      ]
    },
    {
      "cell_type": "code",
      "metadata": {
        "id": "VEW_qH6ouJAN",
        "colab_type": "code",
        "colab": {}
      },
      "source": [
        ""
      ],
      "execution_count": 0,
      "outputs": []
    },
    {
      "cell_type": "markdown",
      "metadata": {
        "id": "MIcDD86A2r8S",
        "colab_type": "text"
      },
      "source": [
        "## DNN 신경망 구성하기\n",
        "(Deep newral network)"
      ]
    },
    {
      "cell_type": "code",
      "metadata": {
        "id": "FB_Oy78X2t85",
        "colab_type": "code",
        "colab": {}
      },
      "source": [
        ""
      ],
      "execution_count": 0,
      "outputs": []
    },
    {
      "cell_type": "code",
      "metadata": {
        "id": "qbwspLvtuJCf",
        "colab_type": "code",
        "colab": {}
      },
      "source": [
        "import tensorflow as tf"
      ],
      "execution_count": 0,
      "outputs": []
    },
    {
      "cell_type": "code",
      "metadata": {
        "id": "-yAShtwxz3i0",
        "colab_type": "code",
        "colab": {}
      },
      "source": [
        "import os, warnings\n",
        "# 경고 메시지 무시하거나 숨길때(ignore), 다시보이게(default)\n",
        "# warnings.filterwarnings(action='default')\n",
        "warnings.filterwarnings(action='ignore')"
      ],
      "execution_count": 0,
      "outputs": []
    },
    {
      "cell_type": "code",
      "metadata": {
        "id": "5WmTdwlez3mE",
        "colab_type": "code",
        "outputId": "8c3a58eb-9e20-4a6e-a3d1-2a83625d3c05",
        "colab": {
          "base_uri": "https://localhost:8080/",
          "height": 89
        }
      },
      "source": [
        "from tensorflow.examples.tutorials.mnist import input_data\n",
        "mnist = input_data.read_data_sets(\"./mnist/data/\", one_hot=True)"
      ],
      "execution_count": 0,
      "outputs": [
        {
          "output_type": "stream",
          "text": [
            "Extracting ./mnist/data/train-images-idx3-ubyte.gz\n",
            "Extracting ./mnist/data/train-labels-idx1-ubyte.gz\n",
            "Extracting ./mnist/data/t10k-images-idx3-ubyte.gz\n",
            "Extracting ./mnist/data/t10k-labels-idx1-ubyte.gz\n"
          ],
          "name": "stdout"
        }
      ]
    },
    {
      "cell_type": "code",
      "metadata": {
        "id": "Y603VVW3z3pV",
        "colab_type": "code",
        "outputId": "d6d1afba-f90e-4e0a-996a-4c2264462f7e",
        "colab": {
          "base_uri": "https://localhost:8080/",
          "height": 89
        }
      },
      "source": [
        "# 데이터의 개수\n",
        "print(mnist.test.num_examples, mnist.train.num_examples, mnist.validation.num_examples)\n",
        "# 데이터의 행열 사이즈\n",
        "print(mnist.train.labels.shape, mnist.train.images.shape)\n",
        "print(mnist.test.labels.shape, mnist.test.images.shape)\n",
        "print(mnist.validation.labels.shape, mnist.validation.images.shape)"
      ],
      "execution_count": 0,
      "outputs": [
        {
          "output_type": "stream",
          "text": [
            "10000 55000 5000\n",
            "(55000, 10) (55000, 784)\n",
            "(10000, 10) (10000, 784)\n",
            "(5000, 10) (5000, 784)\n"
          ],
          "name": "stdout"
        }
      ]
    },
    {
      "cell_type": "code",
      "metadata": {
        "id": "DW4bwoOtz3sG",
        "colab_type": "code",
        "colab": {}
      },
      "source": [
        "# input 데이터에 들어가는 갯수 정리\n",
        "# 세부 신경망 세부 설정\n",
        "# -노드 몇개를 할지. \n",
        "# 입력층 - 784노드(unit)\n",
        "# 은닉층(3개층) - 64노드(unit)\n",
        "# 출력층(범주10개) - 10노드(unit)"
      ],
      "execution_count": 0,
      "outputs": []
    },
    {
      "cell_type": "code",
      "metadata": {
        "id": "NBVleXbsz3ud",
        "colab_type": "code",
        "outputId": "5fb2c877-ffbd-4cbf-f71d-8a1c525c73ad",
        "colab": {
          "base_uri": "https://localhost:8080/",
          "height": 35
        }
      },
      "source": [
        "import tensorflow as tf\n",
        "device_name = tf.test.gpu_device_name()\n",
        "if device_name != '/device:GPU:0':\n",
        "  raise SystemError('GPU device not found')\n",
        "print('Found GPU at: {}'.format(device_name))"
      ],
      "execution_count": 0,
      "outputs": [
        {
          "output_type": "stream",
          "text": [
            "Found GPU at: /device:GPU:0\n"
          ],
          "name": "stdout"
        }
      ]
    },
    {
      "cell_type": "code",
      "metadata": {
        "id": "xKZL_U4Y42OW",
        "colab_type": "code",
        "outputId": "88f11cb2-da3b-40ba-8729-b77a10d1ce63",
        "colab": {
          "base_uri": "https://localhost:8080/",
          "height": 325
        }
      },
      "source": [
        "import tensorflow as tf\n",
        "import timeit\n",
        "\n",
        "# See https://www.tensorflow.org/tutorials/using_gpu#allowing_gpu_memory_growth\n",
        "config = tf.ConfigProto()\n",
        "config.gpu_options.allow_growth = True\n",
        "\n",
        "with tf.device('/cpu:0'):\n",
        "  random_image_cpu = tf.random_normal((100, 100, 100, 3))\n",
        "  net_cpu = tf.layers.conv2d(random_image_cpu, 32, 7)\n",
        "  net_cpu = tf.reduce_sum(net_cpu)\n",
        "\n",
        "with tf.device('/device:GPU:0'):\n",
        "  random_image_gpu = tf.random_normal((100, 100, 100, 3))\n",
        "  net_gpu = tf.layers.conv2d(random_image_gpu, 32, 7)\n",
        "  net_gpu = tf.reduce_sum(net_gpu)\n",
        "\n",
        "sess = tf.Session(config=config)\n",
        "\n",
        "# Ensure that TF can detect the GPU.\n",
        "try:\n",
        "  sess.run(tf.global_variables_initializer())\n",
        "except tf.errors.InvalidArgumentError:\n",
        "  print(\n",
        "      '\\n\\nThis error most likely means that this notebook is not '\n",
        "      'configured to use a GPU.  Change this in Notebook Settings via the '\n",
        "      'command palette (cmd/ctrl-shift-P) or the Edit menu.\\n\\n')\n",
        "  raise\n",
        "\n",
        "def cpu():\n",
        "  sess.run(net_cpu)\n",
        "  \n",
        "def gpu():\n",
        "  sess.run(net_gpu)\n",
        "  \n",
        "# We run each op once to warm up; see: https://stackoverflow.com/a/45067900\n",
        "cpu()\n",
        "gpu()\n",
        "\n",
        "# Run the op several times.\n",
        "print('Time (s) to convolve 32x7x7x3 filter over random 100x100x100x3 images '\n",
        "      '(batch x height x width x channel). Sum of ten runs.')\n",
        "print('CPU (s):')\n",
        "cpu_time = timeit.timeit('cpu()', number=10, setup=\"from __main__ import cpu\")\n",
        "print(cpu_time)\n",
        "print('GPU (s):')\n",
        "gpu_time = timeit.timeit('gpu()', number=10, setup=\"from __main__ import gpu\")\n",
        "print(gpu_time)\n",
        "print('GPU speedup over CPU: {}x'.format(int(cpu_time/gpu_time)))\n",
        "\n",
        "sess.close()"
      ],
      "execution_count": 0,
      "outputs": [
        {
          "output_type": "stream",
          "text": [
            "WARNING:tensorflow:From <ipython-input-69-fdbcd0911609>:10: conv2d (from tensorflow.python.layers.convolutional) is deprecated and will be removed in a future version.\n",
            "Instructions for updating:\n",
            "Use `tf.keras.layers.Conv2D` instead.\n",
            "WARNING:tensorflow:From /usr/local/lib/python3.6/dist-packages/tensorflow/python/ops/init_ops.py:1251: calling VarianceScaling.__init__ (from tensorflow.python.ops.init_ops) with dtype is deprecated and will be removed in a future version.\n",
            "Instructions for updating:\n",
            "Call initializer instance with the dtype argument instead of passing it to the constructor\n",
            "WARNING:tensorflow:Entity <bound method Conv.call of <tensorflow.python.layers.convolutional.Conv2D object at 0x7f5905f90e48>> could not be transformed and will be executed as-is. Please report this to the AutgoGraph team. When filing the bug, set the verbosity to 10 (on Linux, `export AUTOGRAPH_VERBOSITY=10`) and attach the full output. Cause: converting <bound method Conv.call of <tensorflow.python.layers.convolutional.Conv2D object at 0x7f5905f90e48>>: AssertionError: Bad argument number for Name: 3, expecting 4\n",
            "WARNING: Entity <bound method Conv.call of <tensorflow.python.layers.convolutional.Conv2D object at 0x7f5905f90e48>> could not be transformed and will be executed as-is. Please report this to the AutgoGraph team. When filing the bug, set the verbosity to 10 (on Linux, `export AUTOGRAPH_VERBOSITY=10`) and attach the full output. Cause: converting <bound method Conv.call of <tensorflow.python.layers.convolutional.Conv2D object at 0x7f5905f90e48>>: AssertionError: Bad argument number for Name: 3, expecting 4\n",
            "WARNING:tensorflow:Entity <bound method Conv.call of <tensorflow.python.layers.convolutional.Conv2D object at 0x7f5905f92be0>> could not be transformed and will be executed as-is. Please report this to the AutgoGraph team. When filing the bug, set the verbosity to 10 (on Linux, `export AUTOGRAPH_VERBOSITY=10`) and attach the full output. Cause: converting <bound method Conv.call of <tensorflow.python.layers.convolutional.Conv2D object at 0x7f5905f92be0>>: AssertionError: Bad argument number for Name: 3, expecting 4\n",
            "WARNING: Entity <bound method Conv.call of <tensorflow.python.layers.convolutional.Conv2D object at 0x7f5905f92be0>> could not be transformed and will be executed as-is. Please report this to the AutgoGraph team. When filing the bug, set the verbosity to 10 (on Linux, `export AUTOGRAPH_VERBOSITY=10`) and attach the full output. Cause: converting <bound method Conv.call of <tensorflow.python.layers.convolutional.Conv2D object at 0x7f5905f92be0>>: AssertionError: Bad argument number for Name: 3, expecting 4\n",
            "Time (s) to convolve 32x7x7x3 filter over random 100x100x100x3 images (batch x height x width x channel). Sum of ten runs.\n",
            "CPU (s):\n",
            "3.6107205889993566\n",
            "GPU (s):\n",
            "0.18535425499976554\n",
            "GPU speedup over CPU: 19x\n"
          ],
          "name": "stdout"
        }
      ]
    },
    {
      "cell_type": "code",
      "metadata": {
        "id": "CFRLDUK07E7y",
        "colab_type": "code",
        "colab": {}
      },
      "source": [
        "# W : 가중치, weight\n",
        "\n",
        "# input 데이터에 들어가는 갯수 정리\n",
        "# 세부 신경망 세부 설정\n",
        "# 노드 몇개를 할지. \n",
        "# 입력층 - 784노드(unit)\n",
        "# 은닉층(3개층) - 64노드(unit)\n",
        "# 출력층(범주10개) - 10노드(unit)"
      ],
      "execution_count": 0,
      "outputs": []
    },
    {
      "cell_type": "code",
      "metadata": {
        "id": "RnnN4xM17OsI",
        "colab_type": "code",
        "colab": {}
      },
      "source": [
        "X = tf.placeholder(tf.float32, [None, 784])\n",
        "Y = tf.placeholder(tf.float32, [None, 10])\n",
        "\n",
        "W1 = tf.Variable(tf.random_normal([784, 64], stddev = 0.01))\n",
        "L1 = tf.nn.relu(tf.matmul(X, W1)) # L이 무슨 뜻?"
      ],
      "execution_count": 0,
      "outputs": []
    },
    {
      "cell_type": "code",
      "metadata": {
        "id": "3Mb9Swtx7rOT",
        "colab_type": "code",
        "colab": {}
      },
      "source": [
        "X = tf.placeholder(tf.float32, [None, 784])\n",
        "Y = tf.placeholder(tf.float32, [None, 10])"
      ],
      "execution_count": 0,
      "outputs": []
    },
    {
      "cell_type": "code",
      "metadata": {
        "id": "sHpwiISk8W9O",
        "colab_type": "code",
        "outputId": "802102f3-6d8b-4836-ded6-464902c64a66",
        "colab": {
          "base_uri": "https://localhost:8080/",
          "height": 35
        }
      },
      "source": [
        "W1 = tf.Variable(tf.random_normal([784, 64], stddev = 0.01))\n",
        "L1 = tf.nn.relu(tf.matmul(X,W1)) \n",
        "\n",
        "W2 = tf.Variable(tf.random_normal([64, 64], stddev = 0.01))\n",
        "L2 = tf.nn.relu(tf.matmul(L1, W2)) \n",
        "\n",
        "W3 = tf.Variable(tf.random_normal([64, 64], stddev = 0.01))\n",
        "L3 = tf.nn.relu(tf.matmul(L2, W3)) \n",
        "\n",
        "W4 = tf.Variable(tf.random_normal([64, 10], stddev = 0.01))\n",
        "model = tf.matmul(L3, W4)\n",
        "\n",
        "print(model)"
      ],
      "execution_count": 0,
      "outputs": [
        {
          "output_type": "stream",
          "text": [
            "Tensor(\"MatMul_4:0\", shape=(?, 10), dtype=float32)\n"
          ],
          "name": "stdout"
        }
      ]
    },
    {
      "cell_type": "code",
      "metadata": {
        "id": "27-VC4bI8q_G",
        "colab_type": "code",
        "colab": {}
      },
      "source": [
        "cost = tf.reduce_mean(tf.nn.softmax_cross_entropy_with_logits_v2(logits=model, labels=Y))\n",
        "optimizer = tf.train.AdamOptimizer(0.001).minimize(cost)"
      ],
      "execution_count": 0,
      "outputs": []
    },
    {
      "cell_type": "code",
      "metadata": {
        "id": "5fd5QJx8-G44",
        "colab_type": "code",
        "colab": {}
      },
      "source": [
        "init = tf.global_variables_initializer()\n",
        "sess = tf.Session()\n",
        "sess.run(init)"
      ],
      "execution_count": 0,
      "outputs": []
    },
    {
      "cell_type": "code",
      "metadata": {
        "id": "Pa5nztDT_mgl",
        "colab_type": "code",
        "colab": {}
      },
      "source": [
        "#머신러닝에서 loss 데이터 합 : cost\n",
        "# epoch : 훈련데이터 훈련할때 한번 도는거"
      ],
      "execution_count": 0,
      "outputs": []
    },
    {
      "cell_type": "code",
      "metadata": {
        "id": "Qzzzkhz8Jea-",
        "colab_type": "code",
        "colab": {}
      },
      "source": [
        ""
      ],
      "execution_count": 0,
      "outputs": []
    },
    {
      "cell_type": "code",
      "metadata": {
        "id": "yvybPvqt_Csn",
        "colab_type": "code",
        "colab": {}
      },
      "source": [
        "# 3-1 한 에폭만 for문으로 안에서 "
      ],
      "execution_count": 0,
      "outputs": []
    },
    {
      "cell_type": "code",
      "metadata": {
        "id": "lSDUAVZNGtDG",
        "colab_type": "code",
        "colab": {}
      },
      "source": [
        "from keras.datasets import mnist"
      ],
      "execution_count": 0,
      "outputs": []
    },
    {
      "cell_type": "code",
      "metadata": {
        "id": "uxZh1ISNJEBB",
        "colab_type": "code",
        "colab": {}
      },
      "source": [
        ""
      ],
      "execution_count": 0,
      "outputs": []
    },
    {
      "cell_type": "code",
      "metadata": {
        "id": "mUYgqZTHGdAQ",
        "colab_type": "code",
        "colab": {}
      },
      "source": [
        "mnist1 = tf.keras.datasets.mnist\n",
        "(X_train, y_train),(X_test, y_test)= mnist1.load_data()"
      ],
      "execution_count": 0,
      "outputs": []
    },
    {
      "cell_type": "code",
      "metadata": {
        "id": "Qn0CZMpy_MOx",
        "colab_type": "code",
        "outputId": "1c1157c7-7e8c-4f60-8ba6-b5206b0473ac",
        "colab": {
          "base_uri": "https://localhost:8080/",
          "height": 107
        }
      },
      "source": [
        "from tensorflow.examples.tutorials.mnist import input_data\n",
        "mnist2 = input_data.read_data_sets(\"./mnist/data/\", one_hot=True)\n",
        "type(mnist)"
      ],
      "execution_count": 0,
      "outputs": [
        {
          "output_type": "stream",
          "text": [
            "Extracting ./mnist/data/train-images-idx3-ubyte.gz\n",
            "Extracting ./mnist/data/train-labels-idx1-ubyte.gz\n",
            "Extracting ./mnist/data/t10k-images-idx3-ubyte.gz\n",
            "Extracting ./mnist/data/t10k-labels-idx1-ubyte.gz\n"
          ],
          "name": "stdout"
        },
        {
          "output_type": "execute_result",
          "data": {
            "text/plain": [
              "module"
            ]
          },
          "metadata": {
            "tags": []
          },
          "execution_count": 85
        }
      ]
    },
    {
      "cell_type": "code",
      "metadata": {
        "id": "Mqt_PziIAODN",
        "colab_type": "code",
        "outputId": "f5234781-ebe9-47b6-e069-c13b82fa2b4b",
        "colab": {
          "base_uri": "https://localhost:8080/",
          "height": 35
        }
      },
      "source": [
        "# 3-1\n",
        "total_cost = 0\n",
        "for i in range(30):\n",
        "  batch_xs, batch_ys = mnist2.train.next_batch(100)\n",
        "  x, cost_val = sess.run([optimizer, cost], feed_dict = {X:batch_xs, Y:batch_ys})\n",
        "  # 총 Loss  의 계산\n",
        "  total_cost = total_cost+ cost_val \n",
        "print('1 Epoch 평균 cost: {:.3f}'.format(total_cost/30)) # 전체 에폭의 평균 구하는거\n",
        "\n",
        "# 데이터 1000개(batch사이즈)를 매칭 시켜서 55번 다 돌리면 1에폭"
      ],
      "execution_count": 0,
      "outputs": [
        {
          "output_type": "stream",
          "text": [
            "1 Epoch 평균 cost: 1.772\n"
          ],
          "name": "stdout"
        }
      ]
    },
    {
      "cell_type": "code",
      "metadata": {
        "id": "bKNf-uo0RIqm",
        "colab_type": "code",
        "colab": {}
      },
      "source": [
        "# 강의 및 발표 내용 : svm loss, hindge loss "
      ],
      "execution_count": 0,
      "outputs": []
    },
    {
      "cell_type": "markdown",
      "metadata": {
        "id": "quJH5P-aSBeX",
        "colab_type": "text"
      },
      "source": [
        "#과제\n",
        "\n",
        "\n"
      ]
    },
    {
      "cell_type": "code",
      "metadata": {
        "id": "Qvqj_0raSJLm",
        "colab_type": "code",
        "colab": {}
      },
      "source": [
        "import tensorflow as tf"
      ],
      "execution_count": 0,
      "outputs": []
    },
    {
      "cell_type": "code",
      "metadata": {
        "id": "k_5i20ZdSGVT",
        "colab_type": "code",
        "colab": {}
      },
      "source": [
        "x_data = [1,2,3,4,5]\n",
        "y_data = [10,20,30,40,50]"
      ],
      "execution_count": 0,
      "outputs": []
    },
    {
      "cell_type": "code",
      "metadata": {
        "id": "8mpIHnM9SsNh",
        "colab_type": "code",
        "colab": {}
      },
      "source": [
        "# 가중치와 바이어스를 -1~1사이의 균등분포 값을 갖는 무작위 값으로 설정\n",
        "W = tf.Variable(tf.random_uniform([1], -1.0, 1.0))\n",
        "b = tf.Variable(tf.random_uniform([1], -1.0, 1.0))"
      ],
      "execution_count": 0,
      "outputs": []
    },
    {
      "cell_type": "code",
      "metadata": {
        "id": "10FpEu1OSDov",
        "colab_type": "code",
        "outputId": "e6638410-6fb3-4ae1-f67f-bbb7376c7d3b",
        "colab": {
          "base_uri": "https://localhost:8080/",
          "height": 53
        }
      },
      "source": [
        "print(W)\n",
        "print(b)"
      ],
      "execution_count": 0,
      "outputs": [
        {
          "output_type": "stream",
          "text": [
            "<tf.Variable 'Variable_5:0' shape=(1,) dtype=float32_ref>\n",
            "<tf.Variable 'Variable_6:0' shape=(1,) dtype=float32_ref>\n"
          ],
          "name": "stdout"
        }
      ]
    },
    {
      "cell_type": "code",
      "metadata": {
        "id": "-yKXaG3-SCEy",
        "colab_type": "code",
        "outputId": "f6d9d401-2e8f-4b3b-b1aa-0c50b37bbc46",
        "colab": {
          "base_uri": "https://localhost:8080/",
          "height": 53
        }
      },
      "source": [
        "# 플레이스 홀더 설정(값을 넣을 빈 공간을 만든다. 실수가 들어갈 수 있고, 그 공간의 이름을 X, Y로 한다\n",
        "X = tf.placeholder(tf.float32, name='X')\n",
        "Y = tf.placeholder(tf.float32, name='Y')\n",
        "print(X)\n",
        "print(Y)"
      ],
      "execution_count": 0,
      "outputs": [
        {
          "output_type": "stream",
          "text": [
            "Tensor(\"X:0\", dtype=float32)\n",
            "Tensor(\"Y:0\", dtype=float32)\n"
          ],
          "name": "stdout"
        }
      ]
    },
    {
      "cell_type": "code",
      "metadata": {
        "id": "5aDdbMevS8MC",
        "colab_type": "code",
        "colab": {}
      },
      "source": [
        "# score 함수 만들기\n",
        "score = W*X + b"
      ],
      "execution_count": 0,
      "outputs": []
    },
    {
      "cell_type": "code",
      "metadata": {
        "id": "eS_RJtXdS8N8",
        "colab_type": "code",
        "outputId": "5db2c943-106e-426f-c7e6-93d4ca738d12",
        "colab": {
          "base_uri": "https://localhost:8080/",
          "height": 35
        }
      },
      "source": [
        "# 손실함수(loss function) 만들기, simple한 loss function 사용.\n",
        "# score에서 실제 Y값을 뺀 것의 제곱의 평균을 loss로 사용하겠다.\n",
        "loss = tf.reduce_mean(tf.square(score - Y))\n",
        "loss"
      ],
      "execution_count": 0,
      "outputs": [
        {
          "output_type": "execute_result",
          "data": {
            "text/plain": [
              "<tf.Tensor 'Mean_1:0' shape=() dtype=float32>"
            ]
          },
          "metadata": {
            "tags": []
          },
          "execution_count": 103
        }
      ]
    },
    {
      "cell_type": "code",
      "metadata": {
        "id": "p3BOwDVvS8QO",
        "colab_type": "code",
        "outputId": "decf3a6d-72f9-45bf-af3a-50054f694f71",
        "colab": {
          "base_uri": "https://localhost:8080/",
          "height": 35
        }
      },
      "source": [
        "# 최적화 함수(경사하강법)\n",
        "# GradientDescentOptimizer 객체 만들기\n",
        "# learning_rate는 학습 속도로 0.01로 주겠다.\n",
        "optimizer = tf.train.GradientDescentOptimizer(learning_rate=0.01)\n",
        "# GradientDescentOptimizer에 최적화 방법을 loss가 최소가 되게하는 minimize() 메서드 사용하기\n",
        "train_op = optimizer.minimize(loss)\n",
        "train_op"
      ],
      "execution_count": 0,
      "outputs": [
        {
          "output_type": "execute_result",
          "data": {
            "text/plain": [
              "<tf.Operation 'GradientDescent' type=NoOp>"
            ]
          },
          "metadata": {
            "tags": []
          },
          "execution_count": 105
        }
      ]
    },
    {
      "cell_type": "code",
      "metadata": {
        "id": "RoXe8w8qS8So",
        "colab_type": "code",
        "outputId": "02dea11b-8c9e-4da4-cfaf-86b0fc64e714",
        "colab": {
          "base_uri": "https://localhost:8080/",
          "height": 1000
        }
      },
      "source": [
        "# 세션을 with구문으로 열자.\n",
        "with tf.Session() as sess:\n",
        "# 값을 초기화 하는 함수를 먼저 실행한다.\n",
        "  sess.run(tf.global_variables_initializer())\n",
        "# training data로 101번 학습 시키기\n",
        "# 학습시 경사하강법을 최적화 함수로 사용하고, loss 값을 최소가 되게 만든다.\n",
        "# 데이터는 플레이스홀더 X에는 x_data를 넣어주고\n",
        "# 플레이스 홀더 Y에는 y_data를 넣어준다.\n",
        "# 값을 2개 반환 받게 되는데 loss값만 loss_val 변수로 저장하자.\n",
        "  for step in range(100):\n",
        "    _, loss_val = sess.run([train_op,loss], feed_dict={X:x_data, Y:y_data})\n",
        "  # 횟수, cost, W, B 찍어보기\n",
        "    print(step, 'Loss = %-10.5f' % loss_val, 'W = %10.6f' % sess.run(W), 'B = %10.6f' % sess.run(b))"
      ],
      "execution_count": 0,
      "outputs": [
        {
          "output_type": "stream",
          "text": [
            "0 Loss = 865.72278  W =  -0.506991 B =  -0.325092\n",
            "1 Loss = 505.17734  W =  -0.506991 B =  -0.325092\n",
            "2 Loss = 295.06476  W =  -0.506991 B =  -0.325092\n",
            "3 Loss = 172.61699  W =  -0.506991 B =  -0.325092\n",
            "4 Loss = 101.25600  W =  -0.506991 B =  -0.325092\n",
            "5 Loss = 59.66587   W =  -0.506991 B =  -0.325092\n",
            "6 Loss = 35.42473   W =  -0.506991 B =  -0.325092\n",
            "7 Loss = 21.29380   W =  -0.506991 B =  -0.325092\n",
            "8 Loss = 13.05460   W =  -0.506991 B =  -0.325092\n",
            "9 Loss = 8.24885    W =  -0.506991 B =  -0.325092\n",
            "10 Loss = 5.44396    W =  -0.506991 B =  -0.325092\n",
            "11 Loss = 3.80511    W =  -0.506991 B =  -0.325092\n",
            "12 Loss = 2.84580    W =  -0.506991 B =  -0.325092\n",
            "13 Loss = 2.28252    W =  -0.506991 B =  -0.325092\n",
            "14 Loss = 1.95005    W =  -0.506991 B =  -0.325092\n",
            "15 Loss = 1.75212    W =  -0.506991 B =  -0.325092\n",
            "16 Loss = 1.63262    W =  -0.506991 B =  -0.325092\n",
            "17 Loss = 1.55886    W =  -0.506991 B =  -0.325092\n",
            "18 Loss = 1.51177    W =  -0.506991 B =  -0.325092\n",
            "19 Loss = 1.48025    W =  -0.506991 B =  -0.325092\n",
            "20 Loss = 1.45784    W =  -0.506991 B =  -0.325092\n",
            "21 Loss = 1.44077    W =  -0.506991 B =  -0.325092\n",
            "22 Loss = 1.42682    W =  -0.506991 B =  -0.325092\n",
            "23 Loss = 1.41473    W =  -0.506991 B =  -0.325092\n",
            "24 Loss = 1.40375    W =  -0.506991 B =  -0.325092\n",
            "25 Loss = 1.39344    W =  -0.506991 B =  -0.325092\n",
            "26 Loss = 1.38355    W =  -0.506991 B =  -0.325092\n",
            "27 Loss = 1.37392    W =  -0.506991 B =  -0.325092\n",
            "28 Loss = 1.36448    W =  -0.506991 B =  -0.325092\n",
            "29 Loss = 1.35518    W =  -0.506991 B =  -0.325092\n",
            "30 Loss = 1.34597    W =  -0.506991 B =  -0.325092\n",
            "31 Loss = 1.33685    W =  -0.506991 B =  -0.325092\n",
            "32 Loss = 1.32781    W =  -0.506991 B =  -0.325092\n",
            "33 Loss = 1.31884    W =  -0.506991 B =  -0.325092\n",
            "34 Loss = 1.30993    W =  -0.506991 B =  -0.325092\n",
            "35 Loss = 1.30108    W =  -0.506991 B =  -0.325092\n",
            "36 Loss = 1.29230    W =  -0.506991 B =  -0.325092\n",
            "37 Loss = 1.28357    W =  -0.506991 B =  -0.325092\n",
            "38 Loss = 1.27490    W =  -0.506991 B =  -0.325092\n",
            "39 Loss = 1.26630    W =  -0.506991 B =  -0.325092\n",
            "40 Loss = 1.25775    W =  -0.506991 B =  -0.325092\n",
            "41 Loss = 1.24926    W =  -0.506991 B =  -0.325092\n",
            "42 Loss = 1.24083    W =  -0.506991 B =  -0.325092\n",
            "43 Loss = 1.23245    W =  -0.506991 B =  -0.325092\n",
            "44 Loss = 1.22413    W =  -0.506991 B =  -0.325092\n",
            "45 Loss = 1.21587    W =  -0.506991 B =  -0.325092\n",
            "46 Loss = 1.20766    W =  -0.506991 B =  -0.325092\n",
            "47 Loss = 1.19951    W =  -0.506991 B =  -0.325092\n",
            "48 Loss = 1.19141    W =  -0.506991 B =  -0.325092\n",
            "49 Loss = 1.18337    W =  -0.506991 B =  -0.325092\n",
            "50 Loss = 1.17538    W =  -0.506991 B =  -0.325092\n",
            "51 Loss = 1.16745    W =  -0.506991 B =  -0.325092\n",
            "52 Loss = 1.15956    W =  -0.506991 B =  -0.325092\n",
            "53 Loss = 1.15174    W =  -0.506991 B =  -0.325092\n",
            "54 Loss = 1.14396    W =  -0.506991 B =  -0.325092\n",
            "55 Loss = 1.13624    W =  -0.506991 B =  -0.325092\n",
            "56 Loss = 1.12857    W =  -0.506991 B =  -0.325092\n",
            "57 Loss = 1.12095    W =  -0.506991 B =  -0.325092\n",
            "58 Loss = 1.11338    W =  -0.506991 B =  -0.325092\n",
            "59 Loss = 1.10587    W =  -0.506991 B =  -0.325092\n",
            "60 Loss = 1.09840    W =  -0.506991 B =  -0.325092\n",
            "61 Loss = 1.09099    W =  -0.506991 B =  -0.325092\n",
            "62 Loss = 1.08362    W =  -0.506991 B =  -0.325092\n",
            "63 Loss = 1.07631    W =  -0.506991 B =  -0.325092\n",
            "64 Loss = 1.06904    W =  -0.506991 B =  -0.325092\n",
            "65 Loss = 1.06183    W =  -0.506991 B =  -0.325092\n",
            "66 Loss = 1.05466    W =  -0.506991 B =  -0.325092\n",
            "67 Loss = 1.04754    W =  -0.506991 B =  -0.325092\n",
            "68 Loss = 1.04047    W =  -0.506991 B =  -0.325092\n",
            "69 Loss = 1.03344    W =  -0.506991 B =  -0.325092\n",
            "70 Loss = 1.02647    W =  -0.506991 B =  -0.325092\n",
            "71 Loss = 1.01954    W =  -0.506991 B =  -0.325092\n",
            "72 Loss = 1.01266    W =  -0.506991 B =  -0.325092\n",
            "73 Loss = 1.00582    W =  -0.506991 B =  -0.325092\n",
            "74 Loss = 0.99903    W =  -0.506991 B =  -0.325092\n",
            "75 Loss = 0.99229    W =  -0.506991 B =  -0.325092\n",
            "76 Loss = 0.98559    W =  -0.506991 B =  -0.325092\n",
            "77 Loss = 0.97893    W =  -0.506991 B =  -0.325092\n",
            "78 Loss = 0.97233    W =  -0.506991 B =  -0.325092\n",
            "79 Loss = 0.96576    W =  -0.506991 B =  -0.325092\n",
            "80 Loss = 0.95924    W =  -0.506991 B =  -0.325092\n",
            "81 Loss = 0.95277    W =  -0.506991 B =  -0.325092\n",
            "82 Loss = 0.94634    W =  -0.506991 B =  -0.325092\n",
            "83 Loss = 0.93995    W =  -0.506991 B =  -0.325092\n",
            "84 Loss = 0.93360    W =  -0.506991 B =  -0.325092\n",
            "85 Loss = 0.92730    W =  -0.506991 B =  -0.325092\n",
            "86 Loss = 0.92104    W =  -0.506991 B =  -0.325092\n",
            "87 Loss = 0.91482    W =  -0.506991 B =  -0.325092\n",
            "88 Loss = 0.90865    W =  -0.506991 B =  -0.325092\n",
            "89 Loss = 0.90251    W =  -0.506991 B =  -0.325092\n",
            "90 Loss = 0.89642    W =  -0.506991 B =  -0.325092\n",
            "91 Loss = 0.89037    W =  -0.506991 B =  -0.325092\n",
            "92 Loss = 0.88436    W =  -0.506991 B =  -0.325092\n",
            "93 Loss = 0.87839    W =  -0.506991 B =  -0.325092\n",
            "94 Loss = 0.87246    W =  -0.506991 B =  -0.325092\n",
            "95 Loss = 0.86657    W =  -0.506991 B =  -0.325092\n",
            "96 Loss = 0.86072    W =  -0.506991 B =  -0.325092\n",
            "97 Loss = 0.85491    W =  -0.506991 B =  -0.325092\n",
            "98 Loss = 0.84914    W =  -0.506991 B =  -0.325092\n",
            "99 Loss = 0.84341    W =  -0.506991 B =  -0.325092\n"
          ],
          "name": "stdout"
        }
      ]
    },
    {
      "cell_type": "code",
      "metadata": {
        "id": "q17qLDu2S8VI",
        "colab_type": "code",
        "outputId": "87b0110b-659a-40fd-a9dd-05207e046688",
        "colab": {
          "base_uri": "https://localhost:8080/",
          "height": 1000
        }
      },
      "source": [
        "# 세션을 with구문으로 열자.\n",
        "with tf.Session() as sess:\n",
        "# 값을 초기화 하는 함수를 먼저 실행한다.\n",
        "  sess.run(tf.global_variables_initializer())\n",
        "  # 0~1000 까지 1001번 학습시킨다.\n",
        "  # 학습시 경사하강법을 최적화 함수로 사용하고, loss 값을 최소가 되게 만든다.\n",
        "  # 데이터는 플레이스홀더 X에는 x_data를 넣어주고\n",
        "  # 플레이스 홀더 Y에는 y_data를 넣어준다.\n",
        "  # 값을 2개 반환 받게 되는데 loss값만 loss_val 변수로 저장하자.\n",
        "  for step in range(1001):\n",
        "    _, loss_val = sess.run([train_op, loss], feed_dict = {X:x_data, Y:y_data})\n",
        "    # 10번마다 횟수, loss값, W값, b값을 확인해보자.\n",
        "    if step%10 ==0:\n",
        "      print(step, loss_val, sess.run(W), sess.run(b))\n",
        "\n",
        "  print('Y = {Weight} * X + {Bias}'.format(Weight = sess.run(W), Bias = sess.run(b)))\n",
        "  # score 함수에 x값으로 5를 넣어 예측되는 Y값을 보자. X라는 플레이스홀더를 이용하자.\n",
        "  print('X:5, Y:', sess.run(score, feed_dict={X:x_data}))\n",
        "  # score 함수에 x값으로 2.5를 넣어 예측되는 Y값을 보자. X라는 플레이스홀더를 이용하자.\n",
        "  print('X:2.5, Y:', sess.run(score, feed_dict={X:x_data}))"
      ],
      "execution_count": 0,
      "outputs": [
        {
          "output_type": "stream",
          "text": [
            "0 1193.8616 [-0.57192874] [-0.6894293]\n",
            "10 6.761926 [-0.57192874] [-0.6894293]\n",
            "20 1.3103979 [-0.57192874] [-0.6894293]\n",
            "30 1.2019553 [-0.57192874] [-0.6894293]\n",
            "40 1.1231344 [-0.57192874] [-0.6894293]\n",
            "50 1.0495806 [-0.57192874] [-0.6894293]\n",
            "60 0.9808427 [-0.57192874] [-0.6894293]\n",
            "70 0.916605 [-0.57192874] [-0.6894293]\n",
            "80 0.85657704 [-0.57192874] [-0.6894293]\n",
            "90 0.80047953 [-0.57192874] [-0.6894293]\n",
            "100 0.7480546 [-0.57192874] [-0.6894293]\n",
            "110 0.6990637 [-0.57192874] [-0.6894293]\n",
            "120 0.6532823 [-0.57192874] [-0.6894293]\n",
            "130 0.6104974 [-0.57192874] [-0.6894293]\n",
            "140 0.57051605 [-0.57192874] [-0.6894293]\n",
            "150 0.5331516 [-0.57192874] [-0.6894293]\n",
            "160 0.49823517 [-0.57192874] [-0.6894293]\n",
            "170 0.46560654 [-0.57192874] [-0.6894293]\n",
            "180 0.43511406 [-0.57192874] [-0.6894293]\n",
            "190 0.4066167 [-0.57192874] [-0.6894293]\n",
            "200 0.37998742 [-0.57192874] [-0.6894293]\n",
            "210 0.3551013 [-0.57192874] [-0.6894293]\n",
            "220 0.3318461 [-0.57192874] [-0.6894293]\n",
            "230 0.31011286 [-0.57192874] [-0.6894293]\n",
            "240 0.2898037 [-0.57192874] [-0.6894293]\n",
            "250 0.27082393 [-0.57192874] [-0.6894293]\n",
            "260 0.25308776 [-0.57192874] [-0.6894293]\n",
            "270 0.2365117 [-0.57192874] [-0.6894293]\n",
            "280 0.22102277 [-0.57192874] [-0.6894293]\n",
            "290 0.20654774 [-0.57192874] [-0.6894293]\n",
            "300 0.1930205 [-0.57192874] [-0.6894293]\n",
            "310 0.18038028 [-0.57192874] [-0.6894293]\n",
            "320 0.16856761 [-0.57192874] [-0.6894293]\n",
            "330 0.1575271 [-0.57192874] [-0.6894293]\n",
            "340 0.14721139 [-0.57192874] [-0.6894293]\n",
            "350 0.13756987 [-0.57192874] [-0.6894293]\n",
            "360 0.12856051 [-0.57192874] [-0.6894293]\n",
            "370 0.120141014 [-0.57192874] [-0.6894293]\n",
            "380 0.112272546 [-0.57192874] [-0.6894293]\n",
            "390 0.10491979 [-0.57192874] [-0.6894293]\n",
            "400 0.09804847 [-0.57192874] [-0.6894293]\n",
            "410 0.09162709 [-0.57192874] [-0.6894293]\n",
            "420 0.08562683 [-0.57192874] [-0.6894293]\n",
            "430 0.08001865 [-0.57192874] [-0.6894293]\n",
            "440 0.07477837 [-0.57192874] [-0.6894293]\n",
            "450 0.06988109 [-0.57192874] [-0.6894293]\n",
            "460 0.0653046 [-0.57192874] [-0.6894293]\n",
            "470 0.061027758 [-0.57192874] [-0.6894293]\n",
            "480 0.057031162 [-0.57192874] [-0.6894293]\n",
            "490 0.05329572 [-0.57192874] [-0.6894293]\n",
            "500 0.049805727 [-0.57192874] [-0.6894293]\n",
            "510 0.046543635 [-0.57192874] [-0.6894293]\n",
            "520 0.04349578 [-0.57192874] [-0.6894293]\n",
            "530 0.040647008 [-0.57192874] [-0.6894293]\n",
            "540 0.037985116 [-0.57192874] [-0.6894293]\n",
            "550 0.035497524 [-0.57192874] [-0.6894293]\n",
            "560 0.033172786 [-0.57192874] [-0.6894293]\n",
            "570 0.03100017 [-0.57192874] [-0.6894293]\n",
            "580 0.028970027 [-0.57192874] [-0.6894293]\n",
            "590 0.027072838 [-0.57192874] [-0.6894293]\n",
            "600 0.025299614 [-0.57192874] [-0.6894293]\n",
            "610 0.023642952 [-0.57192874] [-0.6894293]\n",
            "620 0.022094611 [-0.57192874] [-0.6894293]\n",
            "630 0.020647373 [-0.57192874] [-0.6894293]\n",
            "640 0.019295271 [-0.57192874] [-0.6894293]\n",
            "650 0.018031746 [-0.57192874] [-0.6894293]\n",
            "660 0.016850784 [-0.57192874] [-0.6894293]\n",
            "670 0.015747154 [-0.57192874] [-0.6894293]\n",
            "680 0.014715938 [-0.57192874] [-0.6894293]\n",
            "690 0.01375206 [-0.57192874] [-0.6894293]\n",
            "700 0.012851235 [-0.57192874] [-0.6894293]\n",
            "710 0.012009653 [-0.57192874] [-0.6894293]\n",
            "720 0.011223162 [-0.57192874] [-0.6894293]\n",
            "730 0.01048827 [-0.57192874] [-0.6894293]\n",
            "740 0.009801207 [-0.57192874] [-0.6894293]\n",
            "750 0.0091592865 [-0.57192874] [-0.6894293]\n",
            "760 0.008559546 [-0.57192874] [-0.6894293]\n",
            "770 0.007998877 [-0.57192874] [-0.6894293]\n",
            "780 0.0074750036 [-0.57192874] [-0.6894293]\n",
            "790 0.006985462 [-0.57192874] [-0.6894293]\n",
            "800 0.0065280423 [-0.57192874] [-0.6894293]\n",
            "810 0.0061004404 [-0.57192874] [-0.6894293]\n",
            "820 0.00570085 [-0.57192874] [-0.6894293]\n",
            "830 0.0053274664 [-0.57192874] [-0.6894293]\n",
            "840 0.004978738 [-0.57192874] [-0.6894293]\n",
            "850 0.0046527325 [-0.57192874] [-0.6894293]\n",
            "860 0.0043478925 [-0.57192874] [-0.6894293]\n",
            "870 0.00406325 [-0.57192874] [-0.6894293]\n",
            "880 0.0037970967 [-0.57192874] [-0.6894293]\n",
            "890 0.0035484377 [-0.57192874] [-0.6894293]\n",
            "900 0.003316021 [-0.57192874] [-0.6894293]\n",
            "910 0.003098811 [-0.57192874] [-0.6894293]\n",
            "920 0.0028959196 [-0.57192874] [-0.6894293]\n",
            "930 0.002706275 [-0.57192874] [-0.6894293]\n",
            "940 0.0025291042 [-0.57192874] [-0.6894293]\n",
            "950 0.0023635007 [-0.57192874] [-0.6894293]\n",
            "960 0.0022085898 [-0.57192874] [-0.6894293]\n",
            "970 0.0020639945 [-0.57192874] [-0.6894293]\n",
            "980 0.001928838 [-0.57192874] [-0.6894293]\n",
            "990 0.0018025495 [-0.57192874] [-0.6894293]\n",
            "1000 0.0016844969 [-0.57192874] [-0.6894293]\n",
            "Y = [-0.57192874] * X + [-0.6894293]\n",
            "X:5, Y: [10.069319 20.042763 30.016207 39.98965  49.963093]\n",
            "X:2.5, Y: [10.069319 20.042763 30.016207 39.98965  49.963093]\n"
          ],
          "name": "stdout"
        }
      ]
    },
    {
      "cell_type": "code",
      "metadata": {
        "id": "k1DRqu36S8Xk",
        "colab_type": "code",
        "colab": {}
      },
      "source": [
        ""
      ],
      "execution_count": 0,
      "outputs": []
    },
    {
      "cell_type": "code",
      "metadata": {
        "id": "F5R6FeTaS8aB",
        "colab_type": "code",
        "colab": {}
      },
      "source": [
        "# 추가 과제 \n",
        "# c p 10\n",
        "# 나만의 신경망 모델 만들어 보기"
      ],
      "execution_count": 0,
      "outputs": []
    }
  ]
}