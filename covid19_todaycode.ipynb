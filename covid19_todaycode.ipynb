{
 "cells": [
  {
   "cell_type": "code",
   "execution_count": 1,
   "metadata": {},
   "outputs": [],
   "source": [
    "import pandas as pd"
   ]
  },
  {
   "cell_type": "code",
   "execution_count": 10,
   "metadata": {},
   "outputs": [
    {
     "data": {
      "text/plain": [
       "'https://www.seoul.go.kr/coronaV/coronaStatus.do'"
      ]
     },
     "execution_count": 10,
     "metadata": {},
     "output_type": "execute_result"
    }
   ],
   "source": [
    "url = \"https://www.seoul.go.kr/coronaV/coronaStatus.do\"\n",
    "url"
   ]
  },
  {
   "cell_type": "code",
   "execution_count": 11,
   "metadata": {},
   "outputs": [
    {
     "data": {
      "text/plain": [
       "[   종로구   중구  용산구  성동구  광진구  동대문구  중랑구  성북구  강북구  도봉구  노원구  은평구 서대문구\n",
       " 0   29   22   54   57   22    45   44   44   28   65   50   64   41\n",
       " 1  마포구  양천구  강서구  구로구  금천구  영등포구  동작구  관악구  서초구  강남구  송파구  강동구   기타\n",
       " 2   54   72  108   91   39    72   70  145   64   98   99   49   95,\n",
       "     종로구   중구  용산구  성동구  광진구 동대문구\n",
       " 0    29   22   54   57   22   45\n",
       " 1   중랑구  성북구  강북구  도봉구  노원구  은평구\n",
       " 2    44   44   28   65   50   64\n",
       " 3  서대문구  마포구  양천구  강서구  구로구  금천구\n",
       " 4    41   54   72  108   91   39\n",
       " 5  영등포구  동작구  관악구  서초구  강남구  송파구\n",
       " 6    72   70  145   64   98   99\n",
       " 7   강동구   기타  NaN  NaN  NaN  NaN\n",
       " 8    49   95  NaN  NaN  NaN  NaN,\n",
       "      소계  해외접촉관련  송파구교회관련  강서구요양시설관련  강남구사무실관련  강남구사무실K빌딩  강남구역삼동모임  리치웨이관련  \\\n",
       " 0  1621     349       18         26        29          7        13     122   \n",
       " \n",
       "    부천시쿠팡관련  관악구사무실관련  이태원클럽관련  구로구콜센터관련  타 시·도확진자접촉자   기타  경로확인중  \n",
       " 0       24        14      139        98           55  556    171  ,\n",
       "                                                    0\n",
       " 0  < 신종 코로나바이러스 감염증 예방 국민 행동수칙 >○ 기침 등 호흡기 증상이 있을...,\n",
       "                                                    0\n",
       " 0  < 신종 코로나바이러스 감염증 예방 의료기관 행동수칙 >○ 호흡기 질환자 진료시 마...,\n",
       "                                                    0\n",
       " 0  이 보도자료는 관련 발생 상황에 대한 정보를 신속 투명하게 공개하기 위한 것으로, ...,\n",
       "         연번     환자    확진일  거주지     여행력       접촉력         조치사항\n",
       " 0     1621  14412   8.3.  관악구       -      확인 중       강남성심병원\n",
       " 1     1620  14400   8.3.  성북구      미국  해외 접촉 추정         서북병원\n",
       " 2     1619  14399   8.3.   중구     러시아  해외 접촉 추정        보라매병원\n",
       " 3     1618  14402   8.3.   중구     러시아  해외 접촉 추정        보라매병원\n",
       " 4     1617  14401   8.3.  도봉구       -      확인 중        원자력병원\n",
       " ...    ...    ...    ...  ...     ...       ...          ...\n",
       " 1616     5      9  1.31.  성북구       -     #5 접촉    서울의료원(퇴원)\n",
       " 1617     4      7  1.30.  마포구  중국 우한시     해외 접촉    서울의료원(퇴원)\n",
       " 1618     3      6  1.30.  종로구       -     #3 접촉  서울대학교병원(퇴원)\n",
       " 1619     2      5  1.30.  중랑구  중국 우한시     해외 접촉    서울의료원(퇴원)\n",
       " 1620     1      2  1.24.  강서구  중국 우한시     해외 접촉  국립중앙의료원(퇴원)\n",
       " \n",
       " [1621 rows x 7 columns],\n",
       "                                                      연번    환자번호  \\\n",
       " 0     1621  <tr>  <td class=\"tdl\" colspan=\"5\">  <p>확...  #14412   \n",
       " 1     1620  <tr>  <td class=\"tdl\" colspan=\"5\">  <p>확...  #14400   \n",
       " 2     1619  <tr>  <td class=\"tdl\" colspan=\"5\">  <p>확...  #14399   \n",
       " 3     1618  <tr>  <td class=\"tdl\" colspan=\"5\">  <p>확...  #14402   \n",
       " 4     1617  <tr>  <td class=\"tdl\" colspan=\"5\">  <p>확...  #14401   \n",
       " ...                                                 ...     ...   \n",
       " 1616  5  <tr>  <td class=\"tdl\" colspan=\"5\">  <p>이동경로...      #9   \n",
       " 1617  4  <tr>  <td class=\"tdl\" colspan=\"5\">  <p>이동경로...      #7   \n",
       " 1618  3  <tr>  <td class=\"tdl\" colspan=\"5\">  <p>이동경로...      #6   \n",
       " 1619  2  <tr>  <td class=\"tdl\" colspan=\"5\">  <p>이동경로...      #5   \n",
       " 1620  1  <tr>  <td class=\"tdl\" colspan=\"5\">  <p>이동경로...      #2   \n",
       " \n",
       "                감염경로   확진일  거주지         격리시설  \n",
       " 0              확인 중   8/3  관악구       강남성심병원  \n",
       " 1      해외 접촉 추정(미국)   8/3  성북구         서북병원  \n",
       " 2     해외 접촉 추정(러시아)   8/3   중구        보라매병원  \n",
       " 3     해외 접촉 추정(러시아)   8/3   중구        보라매병원  \n",
       " 4              확인 중   8/3  도봉구        원자력병원  \n",
       " ...             ...   ...  ...          ...  \n",
       " 1616          #5 접촉  1/31  성북구    서울의료원(퇴원)  \n",
       " 1617  해외 접촉(중국 우한시)  1/30  마포구    서울의료원(퇴원)  \n",
       " 1618          #3 접촉  1/30  종로구  서울대학교병원(퇴원)  \n",
       " 1619  해외 접촉(중국 우한시)  1/30  중랑구    서울의료원(퇴원)  \n",
       " 1620  해외 접촉(중국 우한시)  1/24  강서구  국립중앙의료원(퇴원)  \n",
       " \n",
       " [1621 rows x 6 columns]]"
      ]
     },
     "execution_count": 11,
     "metadata": {},
     "output_type": "execute_result"
    }
   ],
   "source": [
    "pd.read_html(url)"
   ]
  },
  {
   "cell_type": "code",
   "execution_count": 12,
   "metadata": {},
   "outputs": [
    {
     "data": {
      "text/plain": [
       "8"
      ]
     },
     "execution_count": 12,
     "metadata": {},
     "output_type": "execute_result"
    }
   ],
   "source": [
    "table = pd.read_html(url)\n",
    "len(table)"
   ]
  },
  {
   "cell_type": "code",
   "execution_count": 21,
   "metadata": {},
   "outputs": [
    {
     "data": {
      "text/html": [
       "<div>\n",
       "<style scoped>\n",
       "    .dataframe tbody tr th:only-of-type {\n",
       "        vertical-align: middle;\n",
       "    }\n",
       "\n",
       "    .dataframe tbody tr th {\n",
       "        vertical-align: top;\n",
       "    }\n",
       "\n",
       "    .dataframe thead th {\n",
       "        text-align: right;\n",
       "    }\n",
       "</style>\n",
       "<table border=\"1\" class=\"dataframe\">\n",
       "  <thead>\n",
       "    <tr style=\"text-align: right;\">\n",
       "      <th></th>\n",
       "      <th>0</th>\n",
       "    </tr>\n",
       "  </thead>\n",
       "  <tbody>\n",
       "    <tr>\n",
       "      <td>소계</td>\n",
       "      <td>1621</td>\n",
       "    </tr>\n",
       "    <tr>\n",
       "      <td>해외접촉관련</td>\n",
       "      <td>349</td>\n",
       "    </tr>\n",
       "    <tr>\n",
       "      <td>송파구교회관련</td>\n",
       "      <td>18</td>\n",
       "    </tr>\n",
       "    <tr>\n",
       "      <td>강서구요양시설관련</td>\n",
       "      <td>26</td>\n",
       "    </tr>\n",
       "    <tr>\n",
       "      <td>강남구사무실관련</td>\n",
       "      <td>29</td>\n",
       "    </tr>\n",
       "    <tr>\n",
       "      <td>강남구사무실K빌딩</td>\n",
       "      <td>7</td>\n",
       "    </tr>\n",
       "    <tr>\n",
       "      <td>강남구역삼동모임</td>\n",
       "      <td>13</td>\n",
       "    </tr>\n",
       "    <tr>\n",
       "      <td>리치웨이관련</td>\n",
       "      <td>122</td>\n",
       "    </tr>\n",
       "    <tr>\n",
       "      <td>부천시쿠팡관련</td>\n",
       "      <td>24</td>\n",
       "    </tr>\n",
       "    <tr>\n",
       "      <td>관악구사무실관련</td>\n",
       "      <td>14</td>\n",
       "    </tr>\n",
       "    <tr>\n",
       "      <td>이태원클럽관련</td>\n",
       "      <td>139</td>\n",
       "    </tr>\n",
       "    <tr>\n",
       "      <td>구로구콜센터관련</td>\n",
       "      <td>98</td>\n",
       "    </tr>\n",
       "    <tr>\n",
       "      <td>타 시·도확진자접촉자</td>\n",
       "      <td>55</td>\n",
       "    </tr>\n",
       "    <tr>\n",
       "      <td>기타</td>\n",
       "      <td>556</td>\n",
       "    </tr>\n",
       "    <tr>\n",
       "      <td>경로확인중</td>\n",
       "      <td>171</td>\n",
       "    </tr>\n",
       "  </tbody>\n",
       "</table>\n",
       "</div>"
      ],
      "text/plain": [
       "                0\n",
       "소계           1621\n",
       "해외접촉관련        349\n",
       "송파구교회관련        18\n",
       "강서구요양시설관련      26\n",
       "강남구사무실관련       29\n",
       "강남구사무실K빌딩       7\n",
       "강남구역삼동모임       13\n",
       "리치웨이관련        122\n",
       "부천시쿠팡관련        24\n",
       "관악구사무실관련       14\n",
       "이태원클럽관련       139\n",
       "구로구콜센터관련       98\n",
       "타 시·도확진자접촉자    55\n",
       "기타            556\n",
       "경로확인중         171"
      ]
     },
     "execution_count": 21,
     "metadata": {},
     "output_type": "execute_result"
    }
   ],
   "source": [
    "#행과 열 순서 바꾸기 : .T\n",
    "table[2].T"
   ]
  },
  {
   "cell_type": "code",
   "execution_count": 24,
   "metadata": {},
   "outputs": [
    {
     "data": {
      "text/plain": [
       "(1621, 7)"
      ]
     },
     "execution_count": 24,
     "metadata": {},
     "output_type": "execute_result"
    }
   ],
   "source": [
    "df = table[6]\n",
    "df.shape"
   ]
  },
  {
   "cell_type": "code",
   "execution_count": 25,
   "metadata": {},
   "outputs": [
    {
     "data": {
      "text/html": [
       "<div>\n",
       "<style scoped>\n",
       "    .dataframe tbody tr th:only-of-type {\n",
       "        vertical-align: middle;\n",
       "    }\n",
       "\n",
       "    .dataframe tbody tr th {\n",
       "        vertical-align: top;\n",
       "    }\n",
       "\n",
       "    .dataframe thead th {\n",
       "        text-align: right;\n",
       "    }\n",
       "</style>\n",
       "<table border=\"1\" class=\"dataframe\">\n",
       "  <thead>\n",
       "    <tr style=\"text-align: right;\">\n",
       "      <th></th>\n",
       "      <th>연번</th>\n",
       "      <th>환자</th>\n",
       "      <th>확진일</th>\n",
       "      <th>거주지</th>\n",
       "      <th>여행력</th>\n",
       "      <th>접촉력</th>\n",
       "      <th>조치사항</th>\n",
       "    </tr>\n",
       "  </thead>\n",
       "  <tbody>\n",
       "    <tr>\n",
       "      <td>0</td>\n",
       "      <td>1621</td>\n",
       "      <td>14412</td>\n",
       "      <td>8.3.</td>\n",
       "      <td>관악구</td>\n",
       "      <td>-</td>\n",
       "      <td>확인 중</td>\n",
       "      <td>강남성심병원</td>\n",
       "    </tr>\n",
       "    <tr>\n",
       "      <td>1</td>\n",
       "      <td>1620</td>\n",
       "      <td>14400</td>\n",
       "      <td>8.3.</td>\n",
       "      <td>성북구</td>\n",
       "      <td>미국</td>\n",
       "      <td>해외 접촉 추정</td>\n",
       "      <td>서북병원</td>\n",
       "    </tr>\n",
       "    <tr>\n",
       "      <td>2</td>\n",
       "      <td>1619</td>\n",
       "      <td>14399</td>\n",
       "      <td>8.3.</td>\n",
       "      <td>중구</td>\n",
       "      <td>러시아</td>\n",
       "      <td>해외 접촉 추정</td>\n",
       "      <td>보라매병원</td>\n",
       "    </tr>\n",
       "    <tr>\n",
       "      <td>3</td>\n",
       "      <td>1618</td>\n",
       "      <td>14402</td>\n",
       "      <td>8.3.</td>\n",
       "      <td>중구</td>\n",
       "      <td>러시아</td>\n",
       "      <td>해외 접촉 추정</td>\n",
       "      <td>보라매병원</td>\n",
       "    </tr>\n",
       "    <tr>\n",
       "      <td>4</td>\n",
       "      <td>1617</td>\n",
       "      <td>14401</td>\n",
       "      <td>8.3.</td>\n",
       "      <td>도봉구</td>\n",
       "      <td>-</td>\n",
       "      <td>확인 중</td>\n",
       "      <td>원자력병원</td>\n",
       "    </tr>\n",
       "  </tbody>\n",
       "</table>\n",
       "</div>"
      ],
      "text/plain": [
       "     연번     환자   확진일  거주지  여행력       접촉력    조치사항\n",
       "0  1621  14412  8.3.  관악구    -      확인 중  강남성심병원\n",
       "1  1620  14400  8.3.  성북구   미국  해외 접촉 추정    서북병원\n",
       "2  1619  14399  8.3.   중구  러시아  해외 접촉 추정   보라매병원\n",
       "3  1618  14402  8.3.   중구  러시아  해외 접촉 추정   보라매병원\n",
       "4  1617  14401  8.3.  도봉구    -      확인 중   원자력병원"
      ]
     },
     "execution_count": 25,
     "metadata": {},
     "output_type": "execute_result"
    }
   ],
   "source": [
    "df.head()"
   ]
  },
  {
   "cell_type": "code",
   "execution_count": 30,
   "metadata": {},
   "outputs": [
    {
     "data": {
      "text/plain": [
       "'8_3_'"
      ]
     },
     "execution_count": 30,
     "metadata": {},
     "output_type": "execute_result"
    }
   ],
   "source": [
    "# 확진일 데이터를 n번 인덱스 정보만 가져오기\n",
    "last_day = df.loc[0, \"확진일\"]\n",
    "\n",
    "last_day"
   ]
  },
  {
   "cell_type": "code",
   "execution_count": 31,
   "metadata": {},
   "outputs": [
    {
     "data": {
      "text/plain": [
       "'8_3_'"
      ]
     },
     "execution_count": 31,
     "metadata": {},
     "output_type": "execute_result"
    }
   ],
   "source": [
    "# last_day의 .을 _로 대체해줘라\n",
    "last_day = last_day.replace(\".\",\"_\")\n",
    "last_day"
   ]
  },
  {
   "cell_type": "code",
   "execution_count": 33,
   "metadata": {},
   "outputs": [
    {
     "data": {
      "text/plain": [
       "'seoul-covid19_8_3_.csv'"
      ]
     },
     "execution_count": 33,
     "metadata": {},
     "output_type": "execute_result"
    }
   ],
   "source": [
    "#파일명 만들어 주기\n",
    "file_name = f\"seoul-covid19_{last_day}.csv\"\n",
    "file_name"
   ]
  },
  {
   "cell_type": "code",
   "execution_count": 43,
   "metadata": {},
   "outputs": [],
   "source": [
    "#csv 파일로 저장하기\n",
    "df.to_csv(file_name, index = False)\n",
    "#encoding = 'cp949': 엑셀로 읽어오는 인코딩\n",
    "#index = False: df.head()에서 생긴 인덱스 삭제"
   ]
  },
  {
   "cell_type": "code",
   "execution_count": 44,
   "metadata": {},
   "outputs": [
    {
     "data": {
      "text/html": [
       "<div>\n",
       "<style scoped>\n",
       "    .dataframe tbody tr th:only-of-type {\n",
       "        vertical-align: middle;\n",
       "    }\n",
       "\n",
       "    .dataframe tbody tr th {\n",
       "        vertical-align: top;\n",
       "    }\n",
       "\n",
       "    .dataframe thead th {\n",
       "        text-align: right;\n",
       "    }\n",
       "</style>\n",
       "<table border=\"1\" class=\"dataframe\">\n",
       "  <thead>\n",
       "    <tr style=\"text-align: right;\">\n",
       "      <th></th>\n",
       "      <th>연번</th>\n",
       "      <th>환자</th>\n",
       "      <th>확진일</th>\n",
       "      <th>거주지</th>\n",
       "      <th>여행력</th>\n",
       "      <th>접촉력</th>\n",
       "      <th>조치사항</th>\n",
       "    </tr>\n",
       "  </thead>\n",
       "  <tbody>\n",
       "    <tr>\n",
       "      <td>0</td>\n",
       "      <td>1621</td>\n",
       "      <td>14412</td>\n",
       "      <td>8.3.</td>\n",
       "      <td>관악구</td>\n",
       "      <td>-</td>\n",
       "      <td>확인 중</td>\n",
       "      <td>강남성심병원</td>\n",
       "    </tr>\n",
       "    <tr>\n",
       "      <td>1</td>\n",
       "      <td>1620</td>\n",
       "      <td>14400</td>\n",
       "      <td>8.3.</td>\n",
       "      <td>성북구</td>\n",
       "      <td>미국</td>\n",
       "      <td>해외 접촉 추정</td>\n",
       "      <td>서북병원</td>\n",
       "    </tr>\n",
       "    <tr>\n",
       "      <td>2</td>\n",
       "      <td>1619</td>\n",
       "      <td>14399</td>\n",
       "      <td>8.3.</td>\n",
       "      <td>중구</td>\n",
       "      <td>러시아</td>\n",
       "      <td>해외 접촉 추정</td>\n",
       "      <td>보라매병원</td>\n",
       "    </tr>\n",
       "    <tr>\n",
       "      <td>3</td>\n",
       "      <td>1618</td>\n",
       "      <td>14402</td>\n",
       "      <td>8.3.</td>\n",
       "      <td>중구</td>\n",
       "      <td>러시아</td>\n",
       "      <td>해외 접촉 추정</td>\n",
       "      <td>보라매병원</td>\n",
       "    </tr>\n",
       "    <tr>\n",
       "      <td>4</td>\n",
       "      <td>1617</td>\n",
       "      <td>14401</td>\n",
       "      <td>8.3.</td>\n",
       "      <td>도봉구</td>\n",
       "      <td>-</td>\n",
       "      <td>확인 중</td>\n",
       "      <td>원자력병원</td>\n",
       "    </tr>\n",
       "    <tr>\n",
       "      <td>...</td>\n",
       "      <td>...</td>\n",
       "      <td>...</td>\n",
       "      <td>...</td>\n",
       "      <td>...</td>\n",
       "      <td>...</td>\n",
       "      <td>...</td>\n",
       "      <td>...</td>\n",
       "    </tr>\n",
       "    <tr>\n",
       "      <td>1616</td>\n",
       "      <td>5</td>\n",
       "      <td>9</td>\n",
       "      <td>1.31.</td>\n",
       "      <td>성북구</td>\n",
       "      <td>-</td>\n",
       "      <td>#5 접촉</td>\n",
       "      <td>서울의료원(퇴원)</td>\n",
       "    </tr>\n",
       "    <tr>\n",
       "      <td>1617</td>\n",
       "      <td>4</td>\n",
       "      <td>7</td>\n",
       "      <td>1.30.</td>\n",
       "      <td>마포구</td>\n",
       "      <td>중국 우한시</td>\n",
       "      <td>해외 접촉</td>\n",
       "      <td>서울의료원(퇴원)</td>\n",
       "    </tr>\n",
       "    <tr>\n",
       "      <td>1618</td>\n",
       "      <td>3</td>\n",
       "      <td>6</td>\n",
       "      <td>1.30.</td>\n",
       "      <td>종로구</td>\n",
       "      <td>-</td>\n",
       "      <td>#3 접촉</td>\n",
       "      <td>서울대학교병원(퇴원)</td>\n",
       "    </tr>\n",
       "    <tr>\n",
       "      <td>1619</td>\n",
       "      <td>2</td>\n",
       "      <td>5</td>\n",
       "      <td>1.30.</td>\n",
       "      <td>중랑구</td>\n",
       "      <td>중국 우한시</td>\n",
       "      <td>해외 접촉</td>\n",
       "      <td>서울의료원(퇴원)</td>\n",
       "    </tr>\n",
       "    <tr>\n",
       "      <td>1620</td>\n",
       "      <td>1</td>\n",
       "      <td>2</td>\n",
       "      <td>1.24.</td>\n",
       "      <td>강서구</td>\n",
       "      <td>중국 우한시</td>\n",
       "      <td>해외 접촉</td>\n",
       "      <td>국립중앙의료원(퇴원)</td>\n",
       "    </tr>\n",
       "  </tbody>\n",
       "</table>\n",
       "<p>1621 rows × 7 columns</p>\n",
       "</div>"
      ],
      "text/plain": [
       "        연번     환자    확진일  거주지     여행력       접촉력         조치사항\n",
       "0     1621  14412   8.3.  관악구       -      확인 중       강남성심병원\n",
       "1     1620  14400   8.3.  성북구      미국  해외 접촉 추정         서북병원\n",
       "2     1619  14399   8.3.   중구     러시아  해외 접촉 추정        보라매병원\n",
       "3     1618  14402   8.3.   중구     러시아  해외 접촉 추정        보라매병원\n",
       "4     1617  14401   8.3.  도봉구       -      확인 중        원자력병원\n",
       "...    ...    ...    ...  ...     ...       ...          ...\n",
       "1616     5      9  1.31.  성북구       -     #5 접촉    서울의료원(퇴원)\n",
       "1617     4      7  1.30.  마포구  중국 우한시     해외 접촉    서울의료원(퇴원)\n",
       "1618     3      6  1.30.  종로구       -     #3 접촉  서울대학교병원(퇴원)\n",
       "1619     2      5  1.30.  중랑구  중국 우한시     해외 접촉    서울의료원(퇴원)\n",
       "1620     1      2  1.24.  강서구  중국 우한시     해외 접촉  국립중앙의료원(퇴원)\n",
       "\n",
       "[1621 rows x 7 columns]"
      ]
     },
     "execution_count": 44,
     "metadata": {},
     "output_type": "execute_result"
    }
   ],
   "source": [
    "# 제대로 저장되었는지 확인하기\n",
    "pd.read_csv(file_name)"
   ]
  },
  {
   "cell_type": "code",
   "execution_count": null,
   "metadata": {},
   "outputs": [],
   "source": []
  },
  {
   "cell_type": "code",
   "execution_count": null,
   "metadata": {},
   "outputs": [],
   "source": []
  }
 ],
 "metadata": {
  "kernelspec": {
   "display_name": "Python 3",
   "language": "python",
   "name": "python3"
  },
  "language_info": {
   "codemirror_mode": {
    "name": "ipython",
    "version": 3
   },
   "file_extension": ".py",
   "mimetype": "text/x-python",
   "name": "python",
   "nbconvert_exporter": "python",
   "pygments_lexer": "ipython3",
   "version": "3.7.4"
  }
 },
 "nbformat": 4,
 "nbformat_minor": 2
}
