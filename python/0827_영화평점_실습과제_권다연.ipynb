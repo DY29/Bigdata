{
 "cells": [
  {
   "cell_type": "code",
   "execution_count": 1,
   "metadata": {},
   "outputs": [
    {
     "data": {
      "text/plain": [
       "'C:\\\\Users\\\\202-001\\\\실습'"
      ]
     },
     "execution_count": 1,
     "metadata": {},
     "output_type": "execute_result"
    }
   ],
   "source": [
    "%pwd"
   ]
  },
  {
   "cell_type": "code",
   "execution_count": null,
   "metadata": {},
   "outputs": [],
   "source": [
    "from IPython.display import Image \n",
    "\n",
    "Image('./images/naver_movie_20190827.png')\n"
   ]
  },
  {
   "cell_type": "code",
   "execution_count": null,
   "metadata": {},
   "outputs": [],
   "source": [
    "import matplotlib.pyplot as plt\n",
    "import pandas as pd\n",
    "import numpy as np\n",
    "\n",
    "from matplotlib import font_manager, rc\n",
    "\n",
    "t = np.array([0,1,2,3,4,5,6,7,8,9])\n",
    "\n",
    "# gwan = np.array([-0.25, 0.75, 1.75, 2.75, 3.75, 4.75, 5.75, 6.75, 7.75, 8.75])\n",
    "# pyung = np.array([0.0, 1.0, 2.0, 3.0, 4.0, 5.0, 6.0, 7.0, 8.0, 9.0])\n",
    "# net = np.array([0.25, 1.25, 2.25, 3.25, 4.25, 5.25, 6.25, 7.25, 8.25, 9.25])\n",
    "\n",
    "\n",
    "\n",
    "plt.figure(figsize  = (10,4))\n",
    "\n",
    "plt.bar(t,gwan,color = 'r',width = 0.2, label = '관람객')\n",
    "plt.bar(t + 0.2 , pyung, color = 'g', width = 0.2, label = '평론가')\n",
    "plt.bar(t + 0.4 , net, color = 'b', width = 0.2, label = '네티즌')\n",
    "\n",
    "plt.xticks(t, ('엑시트', '분노의 질주', '변신', '봉오동 전투', '광대들', '커런트워', '안녕티라노', \n",
    "               '마이펫의 이중생활','애프터', '레드슈즈' ))\n",
    "\n",
    "plt.title('현재 상영작 평점')\n",
    "plt.xlabel('영화제목')\n",
    "plt.ylabel('영화평점')\n",
    "plt.legend()\n",
    "plt.grid()\n",
    "\n",
    "plt.show()"
   ]
  },
  {
   "cell_type": "code",
   "execution_count": null,
   "metadata": {},
   "outputs": [],
   "source": [
    "import matplotlib.pyplot as plt\n",
    "import pandas as pd\n",
    "import numpy as np\n",
    "\n",
    "from matplotlib import font_manager, rc\n",
    "\n",
    "plt.figure(figsize=(6,6))\n",
    "\n",
    "label = ['엑시트', '분노의 질주', '변신', '봉오동 전투', '광대들', '커런트워', '안녕티라노', '마이펫의 이중생활','애프터', '레드슈즈']\n",
    "\n",
    "sizes =[0,2.2,4.4,6.7,8.9,11.1,13.3,15.6,17.8,20.0]\n",
    "explode = (0, 0, 0, 0,0,0,0,0,0,0.1)\n",
    "\n",
    "y = np.array([8.48, 8.01, 7.32, 7.88, 8.31, 6.00, 7.4, 8.85,7.13, 9.28])\n",
    "plt.pie(y, labels=label)    # labels : A sequence of strings providing the labels for each wedge\n",
    "\n",
    "\n",
    "\n",
    "# fig1, ax1 = plt.subplots()\n",
    "plt.pie(sizes, explode=explode, labels=labels,  autopct='%1.1f%%',shadow=True, startangle=90)\n",
    "\n",
    "# ax1.axis('equal')\n",
    "\n",
    "plt.show()"
   ]
  },
  {
   "cell_type": "code",
   "execution_count": null,
   "metadata": {},
   "outputs": [],
   "source": [
    "import matplotlib.pyplot as plt\n",
    "import numpy as np\n",
    "from matplotlib import font_manager, rc\n",
    "from matplotlib import style\n",
    "\n",
    "font_name = font_manager.FontProperties(fname=\"c:/Windows/Fonts/malgun.ttf\").get_name()\n",
    "rc('font', family=font_name)\n",
    "style.use('ggplot')\n",
    "\n",
    "labels = ['엑시트', '분노의 질주', '변신', '봉오동 전투', '광대들', \n",
    "          '커런트워', '안녕티라노', '마이펫의 이중생활','애프터', '레드슈즈']\n",
    "\n",
    "\n",
    "colors = ['gold', 'yellowgreen', 'lightcoral', 'lightskyblue', \n",
    "          'red','gold', 'yellowgreen', 'lightcoral', 'lightskyblue', 'red']\n",
    "ratio = [0, 2.2, 4.4, 6.7, 8.9, 11.1, 13.3, 15.6, 17.8, 20.0]\n",
    "\n",
    "explode = (0.0, 0.0, 0.0, 0.0, 0.0,0.0, 0.0, 0.0, 0.0, 0.1)\n",
    "\n",
    "plt.pie(ratio, explode=explode, labels=labels, colors=colors, autopct='%1.1f%%', shadow=True, startangle=3)\n",
    "plt.show()"
   ]
  }
 ],
 "metadata": {
  "kernelspec": {
   "display_name": "Python 3",
   "language": "python",
   "name": "python3"
  },
  "language_info": {
   "codemirror_mode": {
    "name": "ipython",
    "version": 3
   },
   "file_extension": ".py",
   "mimetype": "text/x-python",
   "name": "python",
   "nbconvert_exporter": "python",
   "pygments_lexer": "ipython3",
   "version": "3.7.3"
  }
 },
 "nbformat": 4,
 "nbformat_minor": 2
}
