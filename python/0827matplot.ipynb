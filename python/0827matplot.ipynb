{
 "cells": [
  {
   "cell_type": "code",
   "execution_count": 1,
   "metadata": {},
   "outputs": [
    {
     "ename": "SyntaxError",
     "evalue": "invalid syntax (<ipython-input-1-b6c425161f4e>, line 17)",
     "output_type": "error",
     "traceback": [
      "\u001b[1;36m  File \u001b[1;32m\"<ipython-input-1-b6c425161f4e>\"\u001b[1;36m, line \u001b[1;32m17\u001b[0m\n\u001b[1;33m    email_cnt = len(result))\u001b[0m\n\u001b[1;37m            ^\u001b[0m\n\u001b[1;31mSyntaxError\u001b[0m\u001b[1;31m:\u001b[0m invalid syntax\n"
     ]
    }
   ],
   "source": [
    "# 이메일에 대한 파싱 선생님 코드\n",
    "result = sorted(set(result))\n",
    "\n",
    "result = pattern.findall(text)\n",
    "result = sorted(set(result))\n",
    "email_cnt = len(result)\n",
    "\n",
    "def getEmailList(filname):\n",
    "    fp = open(filename, encoding= 'utf-8')\n",
    "    text = fp.resd()\n",
    "    fp.close()\n",
    "    \n",
    "    regex = '[]'\n",
    "    pattern = re.compile(regex)\n",
    "    result = pattern.findall(text)\n",
    "    rexult = sorted(set(result)\n",
    "    email_cnt = len(result))\n",
    "    \n",
    "    valid_email_end = ['com', 'gw']"
   ]
  },
  {
   "cell_type": "code",
   "execution_count": null,
   "metadata": {},
   "outputs": [],
   "source": []
  }
 ],
 "metadata": {
  "kernelspec": {
   "display_name": "Python 3",
   "language": "python",
   "name": "python3"
  },
  "language_info": {
   "codemirror_mode": {
    "name": "ipython",
    "version": 3
   },
   "file_extension": ".py",
   "mimetype": "text/x-python",
   "name": "python",
   "nbconvert_exporter": "python",
   "pygments_lexer": "ipython3",
   "version": "3.7.3"
  }
 },
 "nbformat": 4,
 "nbformat_minor": 2
}
