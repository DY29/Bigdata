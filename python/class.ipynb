{
 "cells": [
  {
   "cell_type": "code",
   "execution_count": 12,
   "metadata": {},
   "outputs": [
    {
     "name": "stdout",
     "output_type": "stream",
     "text": [
      "Jinsoo is reading book\n"
     ]
    }
   ],
   "source": [
    "class BookReader:\n",
    "    name = str()\n",
    "    \n",
    "    def read_book(self):\n",
    "        print(self.name + ' is reading book')\n",
    "              \n",
    "reader = BookReader()\n",
    "reader.name = 'Jinsoo'\n",
    "reader.read_book()\n"
   ]
  },
  {
   "cell_type": "code",
   "execution_count": 21,
   "metadata": {},
   "outputs": [
    {
     "name": "stdout",
     "output_type": "stream",
     "text": [
      "황금잉어빵 20개를 주문하였고, 10000원을 지불하였습니다.\n",
      "--------------------------------------------------\n",
      "손님, 금액이 2000원 부족합니다.\n"
     ]
    }
   ],
   "source": [
    "class 빵틀 : \n",
    "    모양 = str()\n",
    "    반죽 = str()\n",
    "    앙꼬 = str()\n",
    "    단가 = int()\n",
    "    \n",
    "    def 굽기(self, 주문갯수):\n",
    "        굽는횟수 = (주문갯수 -1)/10+1\n",
    "        완성시간 = int(굽는횟수)*5\n",
    "        return 완성시간\n",
    "    \n",
    "    def 가격(self, 주문갯수):\n",
    "        금액 = 주문갯수 * self.단가\n",
    "        return 금액\n",
    "    \n",
    "    def 주문(self, 주문갯수, 지불금액):\n",
    "        대기시간 = self.굽기(주문갯수)\n",
    "        주문금액 = self.가격(주문갯수)\n",
    "        거스름돈 = 지불금액-주문금액\n",
    "        return 대기시간, 거스름돈\n",
    "    \n",
    "붕어빵 = 빵틀()\n",
    "잉어빵 = 빵틀()\n",
    "\n",
    "붕어빵.모양= '붕어'\n",
    "붕어빵.반죽 = '밀가루'\n",
    "붕어빵.앙꼬 = '팥'\n",
    "붕어빵.단가 = 300\n",
    "\n",
    "잉어빵.모양='황금잉어'\n",
    "잉어빵.반죽 = '찹쌀가루'\n",
    "잉어빵.앙꼬 = '슈크림'\n",
    "잉어빵.단가 = 600\n",
    "\n",
    "order = 20\n",
    "payment = 10000\n",
    "\n",
    "wait_time, change = 잉어빵.주문(order, payment)\n",
    "shape = 잉어빵.모양\n",
    "print('{}빵 {}개를 주문하였고, {}원을 지불하였습니다.'.format(shape, order, payment))\n",
    "\n",
    "if change == 0:\n",
    "    message = '손님, {wt}분만 기다려주세요.'.format(wt=wait_time)\n",
    "elif change > 0:\n",
    "    message = '잔돈은 {ch}원 입니다. {wt}분만 기다려주세요.'.format(ch=change, wt=wait_time)\n",
    "elif change < 0:\n",
    "    message = '손님, 금액이 {ch}원 부족합니다.'.format(ch=-change)\n",
    "else:\n",
    "    message = 'Error'\n",
    "    \n",
    "print('-'*50)\n",
    "print(message)"
   ]
  },
  {
   "cell_type": "code",
   "execution_count": 25,
   "metadata": {},
   "outputs": [],
   "source": [
    "class 빵틀 : \n",
    "    모양 = str()\n",
    "    반죽 = str()\n",
    "    앙꼬 = str()\n",
    "    단가 = int()\n",
    "    \n",
    "    def __init__(self,모양,반죽,앙꼬,단가):\n",
    "        self.모양=모양\n",
    "        self.반죽 = 반죽\n",
    "        self.앙꼬 = 앙꼬\n",
    "        self.단가 =단가\n",
    "        \n",
    "    def 굽기(self,주문갯수):\n",
    "        굽는횟수 = (주문갯수 -1)/10+1\n",
    "        완성시간 = int(굽는횟수)*5\n",
    "        return 완성시간\n",
    "    \n",
    "    def 가격(self,주문갯수):\n",
    "        금액=주문갯수*self.단가\n",
    "        return 금액\n",
    "    def 주문(self, 주문갯수, 지불금액):\n",
    "        대기시간 = self.굽기(주문갯수)\n",
    "        주문금액= self.가격(주문갯수)\n",
    "        거스름돈 = 지불금액 = 주문금액\n",
    "        return 대기시간, 거스름돈\n",
    "    \n",
    "다꼬야끼 = 빵틀('다꼬야끼', '밀가루','낙지',500)"
   ]
  },
  {
   "cell_type": "code",
   "execution_count": 27,
   "metadata": {},
   "outputs": [
    {
     "name": "stdout",
     "output_type": "stream",
     "text": [
      "다꼬야끼빵 20개를 주문하였고, 10000원을 지불하였습니다.\n",
      "--------------------------------------------------\n",
      "잔돈은 10000원 입니다. 10분만 기다려주세요.\n"
     ]
    }
   ],
   "source": [
    "order = 20\n",
    "payment = 10000\n",
    "\n",
    "wait_time, change = 다꼬야끼.주문(order, payment)\n",
    "shape = 다꼬야끼.모양\n",
    "print('{}빵 {}개를 주문하였고, {}원을 지불하였습니다.'.format(shape, order, payment))\n",
    "\n",
    "if change == 0:\n",
    "    message = '손님, {wt}분만 기다려주세요.'.format(wt=wait_time)\n",
    "elif change > 0:\n",
    "    message = '잔돈은 {ch}원 입니다. {wt}분만 기다려주세요.'.format(ch=change, wt=wait_time)\n",
    "elif change < 0:\n",
    "    message = '손님, 금액이 {ch}원 부족합니다.'.format(ch=-change)\n",
    "else:\n",
    "    message = 'Error'\n",
    "    \n",
    "print('-'*50)\n",
    "print(message)\n"
   ]
  },
  {
   "cell_type": "code",
   "execution_count": 30,
   "metadata": {},
   "outputs": [
    {
     "name": "stdout",
     "output_type": "stream",
     "text": [
      "마음이 : ['구르기', '두발로 서기', '죽은척 하기']\n",
      "진돌이 : ['구르기', '두발로 서기', '죽은척 하기']\n"
     ]
    }
   ],
   "source": [
    "# 클래스 변수(인스턴스간 공유 됨)\n",
    "class Dog:\n",
    "    tricks = []  # 클래스 변수 선언\n",
    "\n",
    "    def __init__(self, name):\n",
    "        self.name = name\n",
    "\n",
    "    def add_trick(self, trick):\n",
    "        self.tricks.append(trick)  # 클래스 변수에 값 추가\n",
    "\n",
    "\n",
    "dog1 = Dog('마음이')\n",
    "dog2 = Dog('진돌이')\n",
    "\n",
    "dog1.add_trick('구르기')\n",
    "dog2.add_trick('두발로 서기')\n",
    "dog2.add_trick('죽은척 하기')\n",
    "\n",
    "print(dog1.name, ':', dog1.tricks)\n",
    "print(dog2.name, ':', dog2.tricks)"
   ]
  },
  {
   "cell_type": "code",
   "execution_count": 33,
   "metadata": {},
   "outputs": [
    {
     "name": "stdout",
     "output_type": "stream",
     "text": [
      "하늘이 : ['구르기']\n",
      "야옹이 : ['두발로 서기', '죽은척 하기']\n"
     ]
    }
   ],
   "source": [
    "# 인스턴스 변수(인스턴스간 공유 안됨)\n",
    "class Cat:\n",
    "    def __init__(self, name):\n",
    "        self.name = name\n",
    "        self.tricks = []  # 인스턴스 변수 선언\n",
    "\n",
    "    def add_trick(self, trick):\n",
    "        self.tricks.append(trick)  # 인스턴스 변수에 값 추가\n",
    "\n",
    "\n",
    "cat1 = Cat('하늘이')\n",
    "cat2 = Cat('야옹이')\n",
    "\n",
    "cat1.add_trick('구르기')\n",
    "cat2.add_trick('두발로 서기')\n",
    "cat2.add_trick('죽은척 하기')\n",
    "\n",
    "print(cat1.name, ':', cat1.tricks)\n",
    "print(cat2.name, ':', cat2.tricks)"
   ]
  },
  {
   "cell_type": "code",
   "execution_count": null,
   "metadata": {},
   "outputs": [],
   "source": []
  },
  {
   "cell_type": "code",
   "execution_count": 35,
   "metadata": {},
   "outputs": [],
   "source": [
    "# Unit 부모클래스 선언\n",
    "class Unit:\n",
    "    def __init__(self, name, energy,  is_fly):\n",
    "        self.name = name\n",
    "        self.energy = energy\n",
    "        self.is_fly = is_fly\n",
    "        self.is_alive = True\n",
    "\n",
    "    def get_tribe(self):\n",
    "        print(self.name + ' is a basic tribe !!')\n",
    "\n",
    "    def get_energy(self):\n",
    "        if self.energy > 0:\n",
    "            print(self.name + '의 현재 에너지는 ', self.energy, '입니다!')\n",
    "        else:\n",
    "            self.is_alive = False\n",
    "            print(self.name + ' 유닛은 전사했습니다. ㅠㅠ')\n",
    "        #return self.energy\n",
    "\n",
    "\n",
    "# 테란 종족 클래스\n",
    "class Terran(Unit):\n",
    "    def get_tribe(self):\n",
    "        print(self.name + ' is a Terran !!')\n",
    "\n",
    "    def be_attactted(self):\n",
    "        self.energy -= 3\n",
    "\n",
    "# 프로토스 종족 클래스\n",
    "class Protoss(Unit):\n",
    "    def get_tribe(self):\n",
    "        print(self.name + ' is a Protoss !!')\n",
    "\n",
    "    def be_attactted(self):\n",
    "        self.energy -= 2\n",
    "\n",
    "# 저그 종족 클래스\n",
    "class Zerg(Unit):\n",
    "    def get_tribe(self):\n",
    "        print(self.name + ' is a Zerg !!')\n",
    "\n",
    "    def be_attactted(self):\n",
    "        self.energy -= 4"
   ]
  },
  {
   "cell_type": "code",
   "execution_count": 37,
   "metadata": {},
   "outputs": [
    {
     "data": {
      "application/vnd.jupyter.widget-view+json": {
       "model_id": "f1c21e85f7b14cc7a7d2ab5cf15ced56",
       "version_major": 2,
       "version_minor": 0
      },
      "text/plain": [
       "HBox(children=(IntProgress(value=0, max=5), HTML(value='')))"
      ]
     },
     "metadata": {},
     "output_type": "display_data"
    },
    {
     "name": "stdout",
     "output_type": "stream",
     "text": [
      "게임 시작, 유닛의 에너지는 다음과 같습니다!! \n",
      "--------------------------------------------------\n",
      "마린의 현재 에너지는  15 입니다!\n",
      "커세어의 현재 에너지는  20 입니다!\n",
      "히드라의 현재 에너지는  10 입니다!\n",
      "\n",
      "유닛간에 1차 공방전이 이루어졌습니다! \n",
      "--------------------------------------------------\n",
      "마린의 현재 에너지는  12 입니다!\n",
      "커세어의 현재 에너지는  18 입니다!\n",
      "히드라의 현재 에너지는  6 입니다!\n",
      "\n",
      "유닛간에 2차 공방전이 이루어졌습니다! \n",
      "--------------------------------------------------\n",
      "마린의 현재 에너지는  9 입니다!\n",
      "커세어의 현재 에너지는  16 입니다!\n",
      "히드라의 현재 에너지는  2 입니다!\n",
      "\n",
      "유닛간에 3차 공방전이 이루어졌습니다! \n",
      "--------------------------------------------------\n",
      "마린의 현재 에너지는  6 입니다!\n",
      "커세어의 현재 에너지는  14 입니다!\n",
      "히드라 유닛은 전사했습니다. ㅠㅠ\n",
      "================================================== \n",
      "GG, 게임이 종료되었습니다 !!!\n"
     ]
    }
   ],
   "source": [
    "import time\n",
    "from tqdm import tqdm_notebook\n",
    "\n",
    "# 종족별 유닛 생성\n",
    "marine = Terran('마린', 15, False)\n",
    "corsair = Protoss('커세어', 20, True)\n",
    "hydra = Zerg('히드라', 10, False)\n",
    "\n",
    "for x in tqdm_notebook(range(5)):\n",
    "\n",
    "    if x == 0:\n",
    "        print('게임 시작, 유닛의 에너지는 다음과 같습니다!! \\n' + '-' * 50)\n",
    "        marine.get_energy()\n",
    "        corsair.get_energy()\n",
    "        hydra.get_energy()\n",
    "        time.sleep(2)\n",
    "        continue\n",
    "\n",
    "    marine.be_attactted()\n",
    "    corsair.be_attactted()\n",
    "    hydra.be_attactted()\n",
    "\n",
    "    print('\\n유닛간에 %d차 공방전이 이루어졌습니다! \\n' % (x) + '-' * 50)\n",
    "    time.sleep(1)\n",
    "    marine.get_energy();\n",
    "    time.sleep(1)\n",
    "    corsair.get_energy();\n",
    "    time.sleep(1)\n",
    "    hydra.get_energy();\n",
    "    time.sleep(1)\n",
    "\n",
    "    if (marine.is_alive & corsair.is_alive & hydra.is_alive):\n",
    "        time.sleep(1)\n",
    "    else:\n",
    "        break\n",
    "\n",
    "print('=' * 50, '\\nGG, 게임이 종료되었습니다 !!!')"
   ]
  },
  {
   "cell_type": "code",
   "execution_count": 38,
   "metadata": {},
   "outputs": [
    {
     "name": "stdout",
     "output_type": "stream",
     "text": [
      "['_KpopGroup__country', '__class__', '__delattr__', '__dict__', '__dir__', '__doc__', '__eq__', '__format__', '__ge__', '__getattribute__', '__gt__', '__hash__', '__init__', '__init_subclass__', '__le__', '__lt__', '__module__', '__ne__', '__new__', '__reduce__', '__reduce_ex__', '__repr__', '__setattr__', '__sizeof__', '__str__', '__subclasshook__', '__weakref__']\n"
     ]
    }
   ],
   "source": [
    "class KpopGroup:\n",
    "    __country='Korea'\n",
    "    \n",
    "result = dir(KpopGroup)\n",
    "print(result)\n"
   ]
  },
  {
   "cell_type": "code",
   "execution_count": 39,
   "metadata": {},
   "outputs": [
    {
     "name": "stdout",
     "output_type": "stream",
     "text": [
      "1 _KpopGroup__country\n",
      "2 __class__\n",
      "3 __delattr__\n",
      "4 __dict__\n",
      "5 __dir__\n",
      "6 __doc__\n",
      "7 __eq__\n",
      "8 __format__\n",
      "9 __ge__\n",
      "10 __getattribute__\n",
      "11 __gt__\n",
      "12 __hash__\n",
      "13 __init__\n",
      "14 __init_subclass__\n",
      "15 __le__\n",
      "16 __lt__\n",
      "17 __module__\n",
      "18 __ne__\n",
      "19 __new__\n",
      "20 __reduce__\n",
      "21 __reduce_ex__\n",
      "22 __repr__\n",
      "23 __setattr__\n",
      "24 __sizeof__\n",
      "25 __str__\n",
      "26 __subclasshook__\n",
      "27 __weakref__\n"
     ]
    }
   ],
   "source": [
    "num = 0 \n",
    "for internal_element in result:\n",
    "    num +=1\n",
    "    print(num,internal_element)\n",
    "    "
   ]
  },
  {
   "cell_type": "code",
   "execution_count": 45,
   "metadata": {},
   "outputs": [
    {
     "name": "stdout",
     "output_type": "stream",
     "text": [
      "나는 호랑이 이고, 육식동물입니다.\n",
      "나는 고기를 좋아합니다.\n",
      "나는 호랑이 이고, 육식동물입니다.\n",
      "나는 고기를 좋아합니다.\n",
      "나는 토끼 이고, 동물입니다.\n"
     ]
    },
    {
     "ename": "NameError",
     "evalue": "name 'rabii' is not defined",
     "output_type": "error",
     "traceback": [
      "\u001b[1;31m---------------------------------------------------------------------------\u001b[0m",
      "\u001b[1;31mNameError\u001b[0m                                 Traceback (most recent call last)",
      "\u001b[1;32m<ipython-input-45-a3846eaa0532>\u001b[0m in \u001b[0;36m<module>\u001b[1;34m\u001b[0m\n\u001b[0;32m     36\u001b[0m \u001b[0mrabit\u001b[0m \u001b[1;33m=\u001b[0m \u001b[0mHerbivore\u001b[0m\u001b[1;33m(\u001b[0m\u001b[1;34m'토끼'\u001b[0m\u001b[1;33m)\u001b[0m\u001b[1;33m\u001b[0m\u001b[1;33m\u001b[0m\u001b[0m\n\u001b[0;32m     37\u001b[0m \u001b[0mrabit\u001b[0m\u001b[1;33m.\u001b[0m\u001b[0mgetInfo\u001b[0m\u001b[1;33m(\u001b[0m\u001b[1;33m)\u001b[0m\u001b[1;33m\u001b[0m\u001b[1;33m\u001b[0m\u001b[0m\n\u001b[1;32m---> 38\u001b[1;33m \u001b[0mrabii\u001b[0m\u001b[1;33m.\u001b[0m\u001b[0mfavoriteFood\u001b[0m\u001b[1;33m(\u001b[0m\u001b[1;33m)\u001b[0m\u001b[1;33m\u001b[0m\u001b[1;33m\u001b[0m\u001b[0m\n\u001b[0m",
      "\u001b[1;31mNameError\u001b[0m: name 'rabii' is not defined"
     ]
    }
   ],
   "source": [
    "class Animal:\n",
    "    tribe = '동물'\n",
    "    \n",
    "    def __init__(self,name):\n",
    "        self.name = name\n",
    "    \n",
    "    def getInfo(self):\n",
    "        print('나는 %s 이고, %s입니다.'%(self.name, self.tribe))\n",
    "        \n",
    "class Carnivore(Animal):\n",
    "    def __init__(self, name):\n",
    "        self.name = name\n",
    "        self.tribe = '육식동물'\n",
    "        \n",
    "    def favoriteFood(self):\n",
    "        print('나는 고기를 좋아합니다.')\n",
    "        \n",
    "class Herbivore(Animal):\n",
    "    def __init(self, name):\n",
    "        self.name = name\n",
    "        self.tribe = '초식동물'\n",
    "        \n",
    "    def favoriteFood(self):\n",
    "        print('나는 풀을 좋아합니다.')\n",
    "        \n",
    "    \n",
    "tiger = Carnivore('호랑이')\n",
    "tiger.getInfo()\n",
    "tiger.favoriteFood()\n",
    "\n",
    "\n",
    "rabit = Herbivore('토끼')\n",
    "tiger.getInfo()\n",
    "tiger.favoriteFood()\n",
    "\n",
    "rabit = Herbivore('토끼')\n",
    "rabit.getInfo()\n",
    "rabit.favoriteFood()"
   ]
  },
  {
   "cell_type": "code",
   "execution_count": 47,
   "metadata": {},
   "outputs": [],
   "source": [
    "class Developer:\n",
    "    def __init__(self,name):\n",
    "        self.name = name\n",
    "    def coding(self):\n",
    "        print(self.name + 'is developer!!')\n",
    "        \n",
    "class PythonDeveloper(Developer):\n",
    "    def coding(self):\n",
    "        print(self.name + 'is python developer!!')\n",
    "        \n",
    "class JAVADeveloper(Developer):\n",
    "    def coding(self):\n",
    "        print(self.name + 'is java developer!!')\n",
    "class CPPDeveoper(Developer):\n",
    "    def coding(self):\n",
    "        print(self.name + 'is C++develoler~~')\n",
    "        \n",
    "pd = PythonDeveloper('찬영이')\n",
    "jd = JAVADeveloper('준영이')\n",
    "cd = CPPDeveoper('채영이')\n",
    "pd.coding()\n",
    "jd.coding()\n",
    "cd.coding()"
   ]
  },
  {
   "cell_type": "code",
   "execution_count": null,
   "metadata": {},
   "outputs": [],
   "source": [
    "# Unit 부모클래스 선언\n",
    "class Unit:\n",
    "    def __init__(self, name, energy,  is_fly):\n",
    "        self.name = name\n",
    "        self.energy = energy\n",
    "        self.is_fly = is_fly\n",
    "        self.is_alive = True\n",
    "\n",
    "    def get_tribe(self):\n",
    "        print(self.name + ' is a basic tribe !!')\n",
    "\n",
    "    def get_energy(self):\n",
    "        if self.energy > 0:\n",
    "            print(self.name + '의 현재 에너지는 ', self.energy, '입니다!')\n",
    "        else:\n",
    "            self.is_alive = False\n",
    "            print(self.name + ' 유닛은 전사했습니다. ㅠㅠ')\n",
    "        #return self.energy\n",
    "\n",
    "\n",
    "# 테란 종족 클래스\n",
    "class Terran(Unit):\n",
    "    def get_tribe(self):\n",
    "        print(self.name + ' is a Terran !!')\n",
    "\n",
    "    def be_attactted(self):\n",
    "        self.energy -= 3\n",
    "\n",
    "# 프로토스 종족 클래스\n",
    "class Protoss(Unit):\n",
    "    def get_tribe(self):\n",
    "        print(self.name + ' is a Protoss !!')\n",
    "\n",
    "    def be_attactted(self):\n",
    "        self.energy -= 2\n",
    "\n",
    "# 저그 종족 클래스\n",
    "class Zerg(Unit):\n",
    "    def get_tribe(self):\n",
    "        print(self.name + ' is a Zerg !!')\n",
    "\n",
    "    def be_attactted(self):\n",
    "        self.energy -= 4"
   ]
  },
  {
   "cell_type": "code",
   "execution_count": 4,
   "metadata": {
    "scrolled": true
   },
   "outputs": [
    {
     "data": {
      "application/vnd.jupyter.widget-view+json": {
       "model_id": "3297352d8042435299cf060233238c82",
       "version_major": 2,
       "version_minor": 0
      },
      "text/plain": [
       "HBox(children=(IntProgress(value=0, max=5), HTML(value='')))"
      ]
     },
     "metadata": {},
     "output_type": "display_data"
    },
    {
     "name": "stdout",
     "output_type": "stream",
     "text": [
      "게임 시작, 유닛의 에너지는 다음과 같습니다!! \n",
      "--------------------------------------------------\n",
      "마린의 현재 에너지는  15 입니다!\n",
      "커세어의 현재 에너지는  20 입니다!\n",
      "히드라의 현재 에너지는  10 입니다!\n",
      "\n",
      "유닛간에 1차 공방전이 이루어졌습니다! \n",
      "--------------------------------------------------\n",
      "마린의 현재 에너지는  12 입니다!\n",
      "커세어의 현재 에너지는  18 입니다!\n",
      "히드라의 현재 에너지는  6 입니다!\n",
      "\n",
      "유닛간에 2차 공방전이 이루어졌습니다! \n",
      "--------------------------------------------------\n",
      "마린의 현재 에너지는  9 입니다!\n",
      "커세어의 현재 에너지는  16 입니다!\n",
      "히드라의 현재 에너지는  2 입니다!\n",
      "\n",
      "유닛간에 3차 공방전이 이루어졌습니다! \n",
      "--------------------------------------------------\n",
      "마린의 현재 에너지는  6 입니다!\n",
      "커세어의 현재 에너지는  14 입니다!\n",
      "히드라 유닛은 전사했습니다. ㅠㅠ\n",
      "================================================== \n",
      "GG, 게임이 종료되었습니다 !!!\n"
     ]
    }
   ],
   "source": [
    "# Unit 부모클래스 선언\n",
    "class Unit:\n",
    "    def __init__(self, name, energy,  is_fly):\n",
    "        self.name = name\n",
    "        self.energy = energy\n",
    "        self.is_fly = is_fly\n",
    "        self.is_alive = True\n",
    "\n",
    "    def get_tribe(self):\n",
    "        print(self.name + ' is a basic tribe !!')\n",
    "\n",
    "    def get_energy(self):\n",
    "        if self.energy > 0:\n",
    "            print(self.name + '의 현재 에너지는 ', self.energy, '입니다!')\n",
    "        else:\n",
    "            self.is_alive = False\n",
    "            print(self.name + ' 유닛은 전사했습니다. ㅠㅠ')\n",
    "        #return self.energy\n",
    "\n",
    "\n",
    "# 테란 종족 클래스\n",
    "class Terran(Unit):\n",
    "    def get_tribe(self):\n",
    "        print(self.name + ' is a Terran !!')\n",
    "\n",
    "    def be_attactted(self):\n",
    "        self.energy -= 3\n",
    "\n",
    "# 프로토스 종족 클래스\n",
    "class Protoss(Unit):\n",
    "    def get_tribe(self):\n",
    "        print(self.name + ' is a Protoss !!')\n",
    "\n",
    "    def be_attactted(self):\n",
    "        self.energy -= 2\n",
    "\n",
    "# 저그 종족 클래스\n",
    "class Zerg(Unit):\n",
    "    def get_tribe(self):\n",
    "        print(self.name + ' is a Zerg !!')\n",
    "\n",
    "    def be_attactted(self):\n",
    "        self.energy -= 4\n",
    "import time\n",
    "from tqdm import tqdm_notebook\n",
    "\n",
    "# 종족별 유닛 생성\n",
    "marine = Terran('마린', 15, False)\n",
    "corsair = Protoss('커세어', 20, True)\n",
    "hydra = Zerg('히드라', 10, False)\n",
    "\n",
    "for x in tqdm_notebook(range(5)):\n",
    "\n",
    "    if x == 0:\n",
    "        print('게임 시작, 유닛의 에너지는 다음과 같습니다!! \\n' + '-' * 50)\n",
    "        marine.get_energy()\n",
    "        corsair.get_energy()\n",
    "        hydra.get_energy()\n",
    "        time.sleep(2)\n",
    "        continue\n",
    "\n",
    "    marine.be_attactted()\n",
    "    corsair.be_attactted()\n",
    "    hydra.be_attactted()\n",
    "\n",
    "    print('\\n유닛간에 %d차 공방전이 이루어졌습니다! \\n' % (x) + '-' * 50)\n",
    "    time.sleep(1)\n",
    "    marine.get_energy();\n",
    "    time.sleep(1)\n",
    "    corsair.get_energy();\n",
    "    time.sleep(1)\n",
    "    hydra.get_energy();\n",
    "    time.sleep(1)\n",
    "\n",
    "    if (marine.is_alive & corsair.is_alive & hydra.is_alive):\n",
    "        time.sleep(1)\n",
    "    else:\n",
    "        break\n",
    "\n",
    "print('=' * 50, '\\nGG, 게임이 종료되었습니다 !!!')"
   ]
  },
  {
   "cell_type": "code",
   "execution_count": 5,
   "metadata": {},
   "outputs": [
    {
     "name": "stdout",
     "output_type": "stream",
     "text": [
      "name 'pram' is not defined\n"
     ]
    }
   ],
   "source": [
    "try:\n",
    "    print(pram)\n",
    "except Exception as e:\n",
    "    print(e)"
   ]
  },
  {
   "cell_type": "code",
   "execution_count": null,
   "metadata": {},
   "outputs": [],
   "source": [
    "import time \n",
    "count = 1\n",
    "try:\n",
    "    while True:\n",
    "        print(count)\n",
    "        count+=1\n",
    "        time.sleep(0.5)j\n",
    "except KeyboardInterrupt:\n",
    "    print('사용자에 의해 프로그램이 중단외었습니다')"
   ]
  },
  {
   "cell_type": "code",
   "execution_count": null,
   "metadata": {},
   "outputs": [],
   "source": []
  },
  {
   "cell_type": "code",
   "execution_count": 5,
   "metadata": {},
   "outputs": [
    {
     "name": "stdout",
     "output_type": "stream",
     "text": [
      "[1]canyou add 2 and '2' in python?\n"
     ]
    },
    {
     "ename": "TypeError",
     "evalue": "unsupported operand type(s) for +: 'int' and 'str'",
     "output_type": "error",
     "traceback": [
      "\u001b[1;31m---------------------------------------------------------------------------\u001b[0m",
      "\u001b[1;31mTypeError\u001b[0m                                 Traceback (most recent call last)",
      "\u001b[1;32m<ipython-input-5-eb854da4698c>\u001b[0m in \u001b[0;36m<module>\u001b[1;34m\u001b[0m\n\u001b[0;32m      4\u001b[0m     \u001b[0mprint\u001b[0m\u001b[1;33m(\u001b[0m\u001b[1;34m\"[3] it' not possible to add integer and string together.\"\u001b[0m\u001b[1;33m)\u001b[0m\u001b[1;33m\u001b[0m\u001b[1;33m\u001b[0m\u001b[0m\n\u001b[0;32m      5\u001b[0m \u001b[1;33m\u001b[0m\u001b[0m\n\u001b[1;32m----> 6\u001b[1;33m \u001b[0mexception_test\u001b[0m\u001b[1;33m(\u001b[0m\u001b[1;33m)\u001b[0m\u001b[1;33m\u001b[0m\u001b[1;33m\u001b[0m\u001b[0m\n\u001b[0m\u001b[0;32m      7\u001b[0m \u001b[1;33m\u001b[0m\u001b[0m\n\u001b[0;32m      8\u001b[0m \u001b[1;32mdef\u001b[0m \u001b[0mexception_test2\u001b[0m\u001b[1;33m(\u001b[0m\u001b[1;33m)\u001b[0m\u001b[1;33m:\u001b[0m\u001b[1;33m\u001b[0m\u001b[1;33m\u001b[0m\u001b[0m\n",
      "\u001b[1;32m<ipython-input-5-eb854da4698c>\u001b[0m in \u001b[0;36mexception_test\u001b[1;34m()\u001b[0m\n\u001b[0;32m      1\u001b[0m \u001b[1;32mdef\u001b[0m \u001b[0mexception_test\u001b[0m\u001b[1;33m(\u001b[0m\u001b[1;33m)\u001b[0m\u001b[1;33m:\u001b[0m\u001b[1;33m\u001b[0m\u001b[1;33m\u001b[0m\u001b[0m\n\u001b[0;32m      2\u001b[0m     \u001b[0mprint\u001b[0m\u001b[1;33m(\u001b[0m\u001b[1;34m\"[1]canyou add 2 and '2' in python?\"\u001b[0m\u001b[1;33m)\u001b[0m\u001b[1;33m\u001b[0m\u001b[1;33m\u001b[0m\u001b[0m\n\u001b[1;32m----> 3\u001b[1;33m     \u001b[0mprint\u001b[0m\u001b[1;33m(\u001b[0m\u001b[1;34m'[2]try it ~!'\u001b[0m\u001b[1;33m,\u001b[0m \u001b[1;36m2\u001b[0m\u001b[1;33m+\u001b[0m \u001b[1;34m'2'\u001b[0m\u001b[1;33m)\u001b[0m\u001b[1;33m\u001b[0m\u001b[1;33m\u001b[0m\u001b[0m\n\u001b[0m\u001b[0;32m      4\u001b[0m     \u001b[0mprint\u001b[0m\u001b[1;33m(\u001b[0m\u001b[1;34m\"[3] it' not possible to add integer and string together.\"\u001b[0m\u001b[1;33m)\u001b[0m\u001b[1;33m\u001b[0m\u001b[1;33m\u001b[0m\u001b[0m\n\u001b[0;32m      5\u001b[0m \u001b[1;33m\u001b[0m\u001b[0m\n",
      "\u001b[1;31mTypeError\u001b[0m: unsupported operand type(s) for +: 'int' and 'str'"
     ]
    }
   ],
   "source": [
    "def exception_test():\n",
    "    print(\"[1]canyou add 2 and '2' in python?\")\n",
    "    print('[2]try it ~!', 2+ '2')\n",
    "    print(\"[3] it' not possible to add integer and string together.\")\n",
    "    \n",
    "exception_test()\n"
   ]
  },
  {
   "cell_type": "code",
   "execution_count": 9,
   "metadata": {},
   "outputs": [
    {
     "name": "stdout",
     "output_type": "stream",
     "text": [
      "[1] can you add 2 and '2' in python?\n",
      "[2] I got TypeError!\n",
      "[3]It's not possibleto add integer and string together. \n"
     ]
    }
   ],
   "source": [
    "\n",
    "def exception_test2():\n",
    "    print(\"[1] can you add 2 and '2' in python?\")\n",
    "    \n",
    "    try:\n",
    "        print(\"[2] try it~!\", 2+ '2')\n",
    "    except TypeError:\n",
    "        print(\"[2] I got TypeError!\")\n",
    "    print(\"[3]It's not possibleto add integer and string together. \")\n",
    "    \n",
    "exception_test2()\n"
   ]
  },
  {
   "cell_type": "code",
   "execution_count": 10,
   "metadata": {},
   "outputs": [
    {
     "ename": "SyntaxError",
     "evalue": "unexpected EOF while parsing (<ipython-input-10-0ffa4ab329d3>, line 5)",
     "output_type": "error",
     "traceback": [
      "\u001b[1;36m  File \u001b[1;32m\"<ipython-input-10-0ffa4ab329d3>\"\u001b[1;36m, line \u001b[1;32m5\u001b[0m\n\u001b[1;33m    print()\u001b[0m\n\u001b[1;37m           ^\u001b[0m\n\u001b[1;31mSyntaxError\u001b[0m\u001b[1;31m:\u001b[0m unexpected EOF while parsing\n"
     ]
    }
   ],
   "source": [
    "def exception_test3():\n",
    "    print(\"[1]can you add 2and '2 in python\")\n",
    "    \n",
    "    try:\n",
    "        print(\"[2] Try it~!\", 2+'2')\n",
    "    except TrypeError as err:\n",
    "        print(\"[2]TypeError: {}\".format(err))\n",
    "        \n",
    "    print(\"[3]it's not possible to add integer and string together.\")\n",
    "    \n",
    "exceptions_text3()"
   ]
  },
  {
   "cell_type": "code",
   "execution_count": 14,
   "metadata": {},
   "outputs": [
    {
     "name": "stdout",
     "output_type": "stream",
     "text": [
      "[1] Can you add 2 and '2' in python? \n",
      "[2] I got TypeError! Check below! \n",
      "[3] It's not possible to add integer and string together. \n"
     ]
    },
    {
     "name": "stderr",
     "output_type": "stream",
     "text": [
      "Traceback (most recent call last):\n",
      "  File \"<ipython-input-14-5f953284a1da>\", line 8, in exception_test4\n",
      "    print(\"[2] Try it~! \", 2+'2')     # TypeError 발생\n",
      "TypeError: unsupported operand type(s) for +: 'int' and 'str'\n"
     ]
    }
   ],
   "source": [
    "import traceback \n",
    "\n",
    "# 처음에 보았던 트레이스백 메시지와 함께 나타낸 함수\n",
    "def exception_test4():\n",
    "    print(\"[1] Can you add 2 and '2' in python? \")\n",
    "    \n",
    "    try:\n",
    "        print(\"[2] Try it~! \", 2+'2')     # TypeError 발생\n",
    "    except TypeError:\n",
    "        print(\"[2] I got TypeError! Check below! \")    # 에러 메시지 출력\n",
    "        traceback.print_exc()                          # 트레이스백 메시지 출력\n",
    "    \n",
    "    print(\"[3] It's not possible to add integer and string together. \")\n",
    "    \n",
    "exception_test4()"
   ]
  },
  {
   "cell_type": "code",
   "execution_count": null,
   "metadata": {},
   "outputs": [],
   "source": [
    "def exceptiontest5(file_path):\n",
    "    try:\n",
    "        f=open(file_path, 'r')\n",
    "        except IOError:\n",
    "            print('cannot open', file_path)\n",
    "            else:\n",
    "                print('File has', len(f.readlines()), 'lines')\n",
    "                f.close()\n",
    "                \n",
    "exception_tes5('README.txt')\n",
    "exception_test5('README-XXX.txt')"
   ]
  },
  {
   "cell_type": "code",
   "execution_count": 16,
   "metadata": {},
   "outputs": [
    {
     "name": "stdout",
     "output_type": "stream",
     "text": [
      "cannot open README.txt\n",
      "i just tr README.txt\n"
     ]
    }
   ],
   "source": [
    "def exception_text6(file_path):\n",
    "    try:\n",
    "        f=open(file_path,'r')\n",
    "    except IOError:\n",
    "        print('cannot open', file_path)\n",
    "    else:\n",
    "        print('File has', len(f.readlines()), 'lines')\n",
    "    finally:\n",
    "        print('i just tr', file_path)\n",
    "exception_text6('README.txt')"
   ]
  },
  {
   "cell_type": "code",
   "execution_count": 17,
   "metadata": {},
   "outputs": [
    {
     "ename": "TooBigNumError",
     "evalue": "15",
     "output_type": "error",
     "traceback": [
      "\u001b[1;31m---------------------------------------------------------------------------\u001b[0m",
      "\u001b[1;31mTooBigNumError\u001b[0m                            Traceback (most recent call last)",
      "\u001b[1;32m<ipython-input-17-9830d3874f6b>\u001b[0m in \u001b[0;36m<module>\u001b[1;34m\u001b[0m\n\u001b[0;32m      4\u001b[0m     \u001b[1;32mdef\u001b[0m \u001b[0m__str_\u001b[0m\u001b[1;33m(\u001b[0m\u001b[0mself\u001b[0m\u001b[1;33m)\u001b[0m\u001b[1;33m:\u001b[0m\u001b[1;33m\u001b[0m\u001b[1;33m\u001b[0m\u001b[0m\n\u001b[0;32m      5\u001b[0m         \u001b[1;32mreturn\u001b[0m \u001b[1;34m'toobignumber{}. use 1~10~'\u001b[0m\u001b[1;33m.\u001b[0m\u001b[0mformat\u001b[0m\u001b[1;33m(\u001b[0m\u001b[0mself\u001b[0m\u001b[1;33m.\u001b[0m\u001b[0mval\u001b[0m\u001b[1;33m)\u001b[0m\u001b[1;33m\u001b[0m\u001b[1;33m\u001b[0m\u001b[0m\n\u001b[1;32m----> 6\u001b[1;33m \u001b[1;32mraise\u001b[0m \u001b[0mTooBigNumError\u001b[0m\u001b[1;33m(\u001b[0m\u001b[1;36m15\u001b[0m\u001b[1;33m)\u001b[0m\u001b[1;33m\u001b[0m\u001b[1;33m\u001b[0m\u001b[0m\n\u001b[0m",
      "\u001b[1;31mTooBigNumError\u001b[0m: 15"
     ]
    }
   ],
   "source": [
    "class TooBigNumError(Exception):\n",
    "    def __init__(self,val):\n",
    "        self.val = val\n",
    "    def __str_(self):\n",
    "        return 'toobignumber{}. use 1~10~'.format(self.val)\n",
    "raise TooBigNumError(15)"
   ]
  },
  {
   "cell_type": "code",
   "execution_count": 18,
   "metadata": {},
   "outputs": [],
   "source": [
    "# 사용자 정의 예외를 위한 테스트 함수\n",
    "def user_defined_exception_test():\n",
    "    num = int(input('1부터 10 사이의 점수를 입력하세요! : '))   # 숫자 입력\n",
    "    if num > 10:\n",
    "        raise TooBigNumError(num)                              # 에러 발생\n",
    "    print('숫자 {} 를 입력하셨군요! '.format(num))             # 정상인 경우 출력문"
   ]
  },
  {
   "cell_type": "code",
   "execution_count": 19,
   "metadata": {},
   "outputs": [
    {
     "name": "stdout",
     "output_type": "stream",
     "text": [
      "1부터 10 사이의 점수를 입력하세요! : jkk\n"
     ]
    },
    {
     "ename": "ValueError",
     "evalue": "invalid literal for int() with base 10: 'jkk'",
     "output_type": "error",
     "traceback": [
      "\u001b[1;31m---------------------------------------------------------------------------\u001b[0m",
      "\u001b[1;31mValueError\u001b[0m                                Traceback (most recent call last)",
      "\u001b[1;32m<ipython-input-19-e8597ba18707>\u001b[0m in \u001b[0;36m<module>\u001b[1;34m\u001b[0m\n\u001b[0;32m      1\u001b[0m \u001b[1;31m# 정상 Case 입력\u001b[0m\u001b[1;33m\u001b[0m\u001b[1;33m\u001b[0m\u001b[1;33m\u001b[0m\u001b[0m\n\u001b[1;32m----> 2\u001b[1;33m \u001b[0muser_defined_exception_test\u001b[0m\u001b[1;33m(\u001b[0m\u001b[1;33m)\u001b[0m\u001b[1;33m\u001b[0m\u001b[1;33m\u001b[0m\u001b[0m\n\u001b[0m",
      "\u001b[1;32m<ipython-input-18-7e319df43c34>\u001b[0m in \u001b[0;36muser_defined_exception_test\u001b[1;34m()\u001b[0m\n\u001b[0;32m      1\u001b[0m \u001b[1;31m# 사용자 정의 예외를 위한 테스트 함수\u001b[0m\u001b[1;33m\u001b[0m\u001b[1;33m\u001b[0m\u001b[1;33m\u001b[0m\u001b[0m\n\u001b[0;32m      2\u001b[0m \u001b[1;32mdef\u001b[0m \u001b[0muser_defined_exception_test\u001b[0m\u001b[1;33m(\u001b[0m\u001b[1;33m)\u001b[0m\u001b[1;33m:\u001b[0m\u001b[1;33m\u001b[0m\u001b[1;33m\u001b[0m\u001b[0m\n\u001b[1;32m----> 3\u001b[1;33m     \u001b[0mnum\u001b[0m \u001b[1;33m=\u001b[0m \u001b[0mint\u001b[0m\u001b[1;33m(\u001b[0m\u001b[0minput\u001b[0m\u001b[1;33m(\u001b[0m\u001b[1;34m'1부터 10 사이의 점수를 입력하세요! : '\u001b[0m\u001b[1;33m)\u001b[0m\u001b[1;33m)\u001b[0m   \u001b[1;31m# 숫자 입력\u001b[0m\u001b[1;33m\u001b[0m\u001b[1;33m\u001b[0m\u001b[0m\n\u001b[0m\u001b[0;32m      4\u001b[0m     \u001b[1;32mif\u001b[0m \u001b[0mnum\u001b[0m \u001b[1;33m>\u001b[0m \u001b[1;36m10\u001b[0m\u001b[1;33m:\u001b[0m\u001b[1;33m\u001b[0m\u001b[1;33m\u001b[0m\u001b[0m\n\u001b[0;32m      5\u001b[0m         \u001b[1;32mraise\u001b[0m \u001b[0mTooBigNumError\u001b[0m\u001b[1;33m(\u001b[0m\u001b[0mnum\u001b[0m\u001b[1;33m)\u001b[0m                              \u001b[1;31m# 에러 발생\u001b[0m\u001b[1;33m\u001b[0m\u001b[1;33m\u001b[0m\u001b[0m\n",
      "\u001b[1;31mValueError\u001b[0m: invalid literal for int() with base 10: 'jkk'"
     ]
    }
   ],
   "source": [
    "# 정상 Case 입력\n",
    "user_defined_exception_test()"
   ]
  },
  {
   "cell_type": "code",
   "execution_count": 20,
   "metadata": {},
   "outputs": [
    {
     "name": "stdout",
     "output_type": "stream",
     "text": [
      "1부터 10 사이의 점수를 입력하세요! : jk\n"
     ]
    },
    {
     "ename": "ValueError",
     "evalue": "invalid literal for int() with base 10: 'jk'",
     "output_type": "error",
     "traceback": [
      "\u001b[1;31m---------------------------------------------------------------------------\u001b[0m",
      "\u001b[1;31mValueError\u001b[0m                                Traceback (most recent call last)",
      "\u001b[1;32m<ipython-input-20-7f5ebe303fc7>\u001b[0m in \u001b[0;36m<module>\u001b[1;34m\u001b[0m\n\u001b[0;32m      1\u001b[0m \u001b[1;31m# 에러 Case 입력\u001b[0m\u001b[1;33m\u001b[0m\u001b[1;33m\u001b[0m\u001b[1;33m\u001b[0m\u001b[0m\n\u001b[1;32m----> 2\u001b[1;33m \u001b[0muser_defined_exception_test\u001b[0m\u001b[1;33m(\u001b[0m\u001b[1;33m)\u001b[0m\u001b[1;33m\u001b[0m\u001b[1;33m\u001b[0m\u001b[0m\n\u001b[0m",
      "\u001b[1;32m<ipython-input-18-7e319df43c34>\u001b[0m in \u001b[0;36muser_defined_exception_test\u001b[1;34m()\u001b[0m\n\u001b[0;32m      1\u001b[0m \u001b[1;31m# 사용자 정의 예외를 위한 테스트 함수\u001b[0m\u001b[1;33m\u001b[0m\u001b[1;33m\u001b[0m\u001b[1;33m\u001b[0m\u001b[0m\n\u001b[0;32m      2\u001b[0m \u001b[1;32mdef\u001b[0m \u001b[0muser_defined_exception_test\u001b[0m\u001b[1;33m(\u001b[0m\u001b[1;33m)\u001b[0m\u001b[1;33m:\u001b[0m\u001b[1;33m\u001b[0m\u001b[1;33m\u001b[0m\u001b[0m\n\u001b[1;32m----> 3\u001b[1;33m     \u001b[0mnum\u001b[0m \u001b[1;33m=\u001b[0m \u001b[0mint\u001b[0m\u001b[1;33m(\u001b[0m\u001b[0minput\u001b[0m\u001b[1;33m(\u001b[0m\u001b[1;34m'1부터 10 사이의 점수를 입력하세요! : '\u001b[0m\u001b[1;33m)\u001b[0m\u001b[1;33m)\u001b[0m   \u001b[1;31m# 숫자 입력\u001b[0m\u001b[1;33m\u001b[0m\u001b[1;33m\u001b[0m\u001b[0m\n\u001b[0m\u001b[0;32m      4\u001b[0m     \u001b[1;32mif\u001b[0m \u001b[0mnum\u001b[0m \u001b[1;33m>\u001b[0m \u001b[1;36m10\u001b[0m\u001b[1;33m:\u001b[0m\u001b[1;33m\u001b[0m\u001b[1;33m\u001b[0m\u001b[0m\n\u001b[0;32m      5\u001b[0m         \u001b[1;32mraise\u001b[0m \u001b[0mTooBigNumError\u001b[0m\u001b[1;33m(\u001b[0m\u001b[0mnum\u001b[0m\u001b[1;33m)\u001b[0m                              \u001b[1;31m# 에러 발생\u001b[0m\u001b[1;33m\u001b[0m\u001b[1;33m\u001b[0m\u001b[0m\n",
      "\u001b[1;31mValueError\u001b[0m: invalid literal for int() with base 10: 'jk'"
     ]
    }
   ],
   "source": [
    "# 에러 Case 입력\n",
    "user_defined_exception_test()"
   ]
  },
  {
   "cell_type": "code",
   "execution_count": null,
   "metadata": {},
   "outputs": [],
   "source": []
  }
 ],
 "metadata": {
  "kernelspec": {
   "display_name": "Python 3",
   "language": "python",
   "name": "python3"
  }
 },
 "nbformat": 4,
 "nbformat_minor": 2
}
