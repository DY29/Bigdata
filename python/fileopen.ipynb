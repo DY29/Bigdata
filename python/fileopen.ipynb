{
 "cells": [
  {
   "cell_type": "code",
   "execution_count": 2,
   "metadata": {},
   "outputs": [],
   "source": [
    "fp = open('./data/hello.txt', 'r')"
   ]
  },
  {
   "cell_type": "code",
   "execution_count": 6,
   "metadata": {},
   "outputs": [
    {
     "data": {
      "text/plain": [
       "''"
      ]
     },
     "execution_count": 6,
     "metadata": {},
     "output_type": "execute_result"
    }
   ],
   "source": [
    "fp.read()"
   ]
  },
  {
   "cell_type": "code",
   "execution_count": 7,
   "metadata": {},
   "outputs": [],
   "source": [
    "fp.close()\n"
   ]
  },
  {
   "cell_type": "raw",
   "metadata": {},
   "source": [
    "fp.read()"
   ]
  },
  {
   "cell_type": "code",
   "execution_count": 11,
   "metadata": {},
   "outputs": [
    {
     "name": "stdout",
     "output_type": "stream",
     "text": [
      "Hellp, Bigdata Science!\n"
     ]
    }
   ],
   "source": [
    "with open('./data/hello.txt', 'r') as fp:\n",
    "    data = fp.read()\n",
    "print(data)"
   ]
  },
  {
   "cell_type": "code",
   "execution_count": 15,
   "metadata": {},
   "outputs": [
    {
     "name": "stdout",
     "output_type": "stream",
     "text": [
      " C 드라이브의 볼륨에는 이름이 없습니다.\n",
      " 볼륨 일련 번호: 2C50-3BD8\n",
      "\n",
      " C:\\Users\\202-001\\실습\\data 디렉터리\n",
      "\n",
      "2019-08-20  오후 03:42    <DIR>          .\n",
      "2019-08-20  오후 03:42    <DIR>          ..\n",
      "2019-08-20  오후 03:37    <DIR>          .ipynb_checkpoints\n",
      "2019-08-20  오후 03:37                23 hello.txt\n",
      "2019-08-20  오후 03:43                 0 subject.txt\n",
      "               2개 파일                  23 바이트\n",
      "               3개 디렉터리  87,103,369,216 바이트 남음\n"
     ]
    }
   ],
   "source": [
    "%ls data"
   ]
  },
  {
   "cell_type": "code",
   "execution_count": null,
   "metadata": {},
   "outputs": [],
   "source": []
  },
  {
   "cell_type": "code",
   "execution_count": 10,
   "metadata": {},
   "outputs": [
    {
     "data": {
      "text/plain": [
       "'Hellp, Bigdata Science!'"
      ]
     },
     "execution_count": 10,
     "metadata": {},
     "output_type": "execute_result"
    }
   ],
   "source": [
    "data"
   ]
  },
  {
   "cell_type": "code",
   "execution_count": 25,
   "metadata": {},
   "outputs": [],
   "source": [
    "with open('./data/company.csv', 'w') as fp:\n",
    "    data = '파이썬을 이용한 빅데이터 분석!'\n",
    "    fp.write(data)\n"
   ]
  },
  {
   "cell_type": "code",
   "execution_count": 19,
   "metadata": {},
   "outputs": [
    {
     "name": "stdout",
     "output_type": "stream",
     "text": [
      "\n"
     ]
    }
   ],
   "source": [
    "with open('./data/subject.txt', 'r') as fp:\n",
    "    data = fp.read()\n",
    "    print(data)\n"
   ]
  },
  {
   "cell_type": "code",
   "execution_count": 26,
   "metadata": {},
   "outputs": [
    {
     "name": "stdout",
     "output_type": "stream",
     "text": [
      "파이썬을 이용한 빅데이터 분석!\n"
     ]
    }
   ],
   "source": [
    "with open('./data/subject.txt', 'r') as fp:\n",
    "    data = fp.read()\n",
    "    print(data)"
   ]
  },
  {
   "cell_type": "code",
   "execution_count": 30,
   "metadata": {},
   "outputs": [],
   "source": [
    "def read_csv(filepath):\n",
    "    fp = open(filepath, 'r', encoding='utf-8')\n",
    "    data= fp.read()\n",
    "    fp.close()"
   ]
  },
  {
   "cell_type": "code",
   "execution_count": 43,
   "metadata": {},
   "outputs": [],
   "source": [
    "def read_csv(filepath):\n",
    "    \n",
    "    fp = open(filepath, 'r', encoding='utf-8')\n",
    "    data = fp.read()\n",
    "    fp.close()\n",
    "    \n",
    "    # return dataL\n",
    "    elements = []\n",
    "    \n",
    "    rows = data.split(\"\\n\")\n",
    "    # print(rows)\n",
    "    for row in rows:        \n",
    "        \n",
    "        fields = row.split(\",\")\n",
    "        # print(fields)\n",
    "        \n",
    "        element = {   \n",
    "            \"name\"   : fields[0],\n",
    "            \"school\" : fields[1],\n",
    "            \"email\"  : fields[2],\n",
    "        }\n",
    "        elements.append(element)\n",
    "    return elements"
   ]
  },
  {
   "cell_type": "code",
   "execution_count": 44,
   "metadata": {},
   "outputs": [
    {
     "data": {
      "text/plain": [
       "[{'name': '김태희', 'school': '서울대', 'email': 'thkim@gmail.com'},\n",
       " {'name': '신민아', 'school': '성균관대', 'email': 'sma@gmial.com'},\n",
       " {'name': '전지현', 'school': '중앙대', 'email': 'jhjeon@gmail.com'},\n",
       " {'name': '이영애', 'school': '숭실대', 'email': 'janggumi@gamil.com'}]"
      ]
     },
     "execution_count": 44,
     "metadata": {},
     "output_type": "execute_result"
    }
   ],
   "source": [
    "filepath = 'data/students.csv'\n",
    "read_csv(filepath)"
   ]
  },
  {
   "cell_type": "code",
   "execution_count": null,
   "metadata": {},
   "outputs": [],
   "source": [
    "# 어떤 헤더가 있는 CSV 파일이든지 읽을 수 있는 함수\n",
    "# \",\" 말고 다른 어떤 seperator 가 들어가더라도, \n",
    "# CSV 읽을 수 있는 함수\n",
    "# \"\\t\", \"::\", \"|\" 이 모든 sep 에 대한 함수!"
   ]
  },
  {
   "cell_type": "code",
   "execution_count": 51,
   "metadata": {},
   "outputs": [],
   "source": [
    "def read_csv(filepath):\n",
    "    \n",
    "    fp = open(filepath, 'r', encoding='utf-8')\n",
    "    data = fp.read()\n",
    "    fp.close()\n",
    "    \n",
    "    # return dataL\n",
    "    elements = []\n",
    "    \n",
    "    rows = data.split(\"\\n\")\n",
    "#     print(rows)\n",
    "    columns =rows[0].split(',')\n",
    "    columns = [key.replace(' ','')for key in columns]\n",
    "    print('columns =>key:', columns)\n",
    "    for row in rows[1:]:        \n",
    "        \n",
    "        fields = row.split(\",\")\n",
    "        # print(fields)\n",
    "        element = {}\n",
    "        for idx in range(len(columns)):\n",
    "             column = columns[idx]\n",
    "             field = fields[idx]\n",
    "             element[column]= field\n",
    "        elements.append(element)\n",
    "    return elements\n"
   ]
  },
  {
   "cell_type": "code",
   "execution_count": 53,
   "metadata": {},
   "outputs": [
    {
     "name": "stdout",
     "output_type": "stream",
     "text": [
      "columns =>key: ['랭킹', '회사이름', '영문명', '창업자']\n"
     ]
    },
    {
     "data": {
      "text/plain": [
       "[{'랭킹': '1', '회사이름': ' 애플', '영문명': ' Apple', '창업자': ' 스티브잡스 '},\n",
       " {'랭킹': '2', '회사이름': ' 구글', '영문명': ' Google', '창업자': ' 세르게이브린 & 레리페이지 '},\n",
       " {'랭킹': '3', '회사이름': ' 마이크로소프트', '영문명': ' Microsoft', '창업자': ' 빌게이츠 & 폴앨런 '},\n",
       " {'랭킹': '4', '회사이름': ' 페이스북', '영문명': ' Facebook', '창업자': ' 마크쥬크버그 '},\n",
       " {'랭킹': '5', '회사이름': ' 에어비엔비', '영문명': ' Airbnb', '창업자': ' 브라이언체크키 & 조게비어'}]"
      ]
     },
     "execution_count": 53,
     "metadata": {},
     "output_type": "execute_result"
    }
   ],
   "source": [
    "filepath = 'data/company.csv'\n",
    "read_csv(filepath)"
   ]
  },
  {
   "cell_type": "code",
   "execution_count": 54,
   "metadata": {},
   "outputs": [],
   "source": [
    "def read_csv(filepath):\n",
    "    \n",
    "    fp = open(filepath, 'r', encoding='utf-8')\n",
    "    data = fp.read()\n",
    "    fp.close()\n",
    "    \n",
    "    # return dataL\n",
    "    elements = []\n",
    "    \n",
    "    rows = data.split(\"\\n\")\n",
    "    column = rows[0].split(\",\")\n",
    "    \n",
    "    \n",
    "    for idx in Column:        \n",
    "        \n",
    "        fields = row.split(\",\")\n",
    "        # print(fields)\n",
    "        column1 = rows[1].split(',') \n",
    "        column2 = rows[2].split(',')\n",
    "        column3 = rows[3].split(',')\n",
    "        \n",
    "    \n",
    "    return elements"
   ]
  },
  {
   "cell_type": "code",
   "execution_count": 55,
   "metadata": {},
   "outputs": [
    {
     "name": "stdout",
     "output_type": "stream",
     "text": [
      "['랭킹, 회사이름, 영문명, 창업자 ', '1, 애플, Apple, 스티브잡스 ', '2, 구글, Google, 세르게이브린 & 레리페이지 ', '3, 마이크로소프트, Microsoft, 빌게이츠 & 폴앨런 ', '4, 페이스북, Facebook, 마크쥬크버그 ', '5, 에어비엔비, Airbnb, 브라이언체크키 & 조게비어']\n"
     ]
    },
    {
     "data": {
      "text/plain": [
       "[{'name': '랭킹', 'school': ' 회사이름', 'email': ' 영문명'},\n",
       " {'name': '1', 'school': ' 애플', 'email': ' Apple'},\n",
       " {'name': '2', 'school': ' 구글', 'email': ' Google'},\n",
       " {'name': '3', 'school': ' 마이크로소프트', 'email': ' Microsoft'},\n",
       " {'name': '4', 'school': ' 페이스북', 'email': ' Facebook'},\n",
       " {'name': '5', 'school': ' 에어비엔비', 'email': ' Airbnb'}]"
      ]
     },
     "execution_count": 55,
     "metadata": {},
     "output_type": "execute_result"
    }
   ],
   "source": [
    "filepath = 'data/company.csv'\n",
    "read_csv(filepath)"
   ]
  },
  {
   "cell_type": "code",
   "execution_count": null,
   "metadata": {},
   "outputs": [],
   "source": []
  },
  {
   "cell_type": "code",
   "execution_count": null,
   "metadata": {},
   "outputs": [],
   "source": []
  },
  {
   "cell_type": "code",
   "execution_count": null,
   "metadata": {},
   "outputs": [],
   "source": []
  },
  {
   "cell_type": "code",
   "execution_count": null,
   "metadata": {},
   "outputs": [],
   "source": [
    "import random\n",
    "class Lotto:\n",
    "    def __init__(self,주문갯수, 일련번호, 로또번호 ):\n",
    "        self.주문갯수 = 주문갯수\n",
    "        self.일련번호= 일련번호\n",
    "        self.로또번호 = 로또번호\n",
    "    \n",
    "    def 주문(self, 주문갯수):\n",
    "        \n",
    "    def 번호뽑기(self):\n",
    "        \n",
    "*주문만큼 로또 출력하는 거\n",
    "로또 번호 무작위 굴려서 6가지 뽑는거\n",
    "    \n",
    "    \n",
    "    \n",
    "    \n",
    "    \n",
    "    \n",
    "    \n",
    "    \n",
    "    \n",
    "    "
   ]
  }
 ],
 "metadata": {
  "kernelspec": {
   "display_name": "Python 3",
   "language": "python",
   "name": "python3"
  },
  "language_info": {
   "codemirror_mode": {
    "name": "ipython",
    "version": 3
   },
   "file_extension": ".py",
   "mimetype": "text/x-python",
   "name": "python",
   "nbconvert_exporter": "python",
   "pygments_lexer": "ipython3",
   "version": "3.7.3"
  }
 },
 "nbformat": 4,
 "nbformat_minor": 2
}
