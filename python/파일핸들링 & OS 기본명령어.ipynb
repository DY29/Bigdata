{
 "cells": [
  {
   "cell_type": "code",
   "execution_count": 1,
   "metadata": {},
   "outputs": [],
   "source": [
    "def write_txt(filepath):\n",
    "    # 텍스트 파일에 한줄씩 쓰기(writelines)\n",
    "    count = 1\n",
    "    data = []\n",
    "    print('파일에 내용을 저장하려면 내용을 입력하지 말고 [Enter]를 누르세요')\n",
    "\n",
    "    while True:\n",
    "        text = input('[%d] 파일에 저장할 내용을 입력하세요: ' %count)\n",
    "        if text == '':\n",
    "            break\n",
    "        data.append(text+'\\n')\n",
    "        count += 1\n",
    "\n",
    "    f = open(filepath, 'w')\n",
    "    f.writelines(data)\n",
    "    f.close()\n",
    "    \n",
    "    ret = 'TEXT 파일을 생성하였습니다.'\n",
    "    \n",
    "    \n",
    "    return ret"
   ]
  },
  {
   "cell_type": "code",
   "execution_count": 3,
   "metadata": {},
   "outputs": [
    {
     "name": "stdout",
     "output_type": "stream",
     "text": [
      "파일에 내용을 저장하려면 내용을 입력하지 말고 [Enter]를 누르세요\n",
      "[1] 파일에 저장할 내용을 입력하세요: \n"
     ]
    },
    {
     "data": {
      "text/plain": [
       "'TEXT 파일을 생성하였습니다.'"
      ]
     },
     "execution_count": 3,
     "metadata": {},
     "output_type": "execute_result"
    }
   ],
   "source": [
    "filepath = './data/mydata.txt'\n",
    "write_txt(filepath)"
   ]
  },
  {
   "cell_type": "code",
   "execution_count": 5,
   "metadata": {},
   "outputs": [
    {
     "ename": "FileNotFoundError",
     "evalue": "No such file or directory: './images/bpc_logo.png'",
     "output_type": "error",
     "traceback": [
      "\u001b[1;31m---------------------------------------------------------------------------\u001b[0m",
      "\u001b[1;31mTypeError\u001b[0m                                 Traceback (most recent call last)",
      "\u001b[1;32mC:\\python\\lib\\site-packages\\IPython\\core\\display.py\u001b[0m in \u001b[0;36m_data_and_metadata\u001b[1;34m(self, always_both)\u001b[0m\n\u001b[0;32m   1264\u001b[0m         \u001b[1;32mtry\u001b[0m\u001b[1;33m:\u001b[0m\u001b[1;33m\u001b[0m\u001b[1;33m\u001b[0m\u001b[0m\n\u001b[1;32m-> 1265\u001b[1;33m             \u001b[0mb64_data\u001b[0m \u001b[1;33m=\u001b[0m \u001b[0mb2a_base64\u001b[0m\u001b[1;33m(\u001b[0m\u001b[0mself\u001b[0m\u001b[1;33m.\u001b[0m\u001b[0mdata\u001b[0m\u001b[1;33m)\u001b[0m\u001b[1;33m.\u001b[0m\u001b[0mdecode\u001b[0m\u001b[1;33m(\u001b[0m\u001b[1;34m'ascii'\u001b[0m\u001b[1;33m)\u001b[0m\u001b[1;33m\u001b[0m\u001b[1;33m\u001b[0m\u001b[0m\n\u001b[0m\u001b[0;32m   1266\u001b[0m         \u001b[1;32mexcept\u001b[0m \u001b[0mTypeError\u001b[0m\u001b[1;33m:\u001b[0m\u001b[1;33m\u001b[0m\u001b[1;33m\u001b[0m\u001b[0m\n",
      "\u001b[1;31mTypeError\u001b[0m: a bytes-like object is required, not 'str'",
      "\nDuring handling of the above exception, another exception occurred:\n",
      "\u001b[1;31mFileNotFoundError\u001b[0m                         Traceback (most recent call last)",
      "\u001b[1;32mC:\\python\\lib\\site-packages\\IPython\\core\\formatters.py\u001b[0m in \u001b[0;36m__call__\u001b[1;34m(self, obj, include, exclude)\u001b[0m\n\u001b[0;32m    968\u001b[0m \u001b[1;33m\u001b[0m\u001b[0m\n\u001b[0;32m    969\u001b[0m             \u001b[1;32mif\u001b[0m \u001b[0mmethod\u001b[0m \u001b[1;32mis\u001b[0m \u001b[1;32mnot\u001b[0m \u001b[1;32mNone\u001b[0m\u001b[1;33m:\u001b[0m\u001b[1;33m\u001b[0m\u001b[1;33m\u001b[0m\u001b[0m\n\u001b[1;32m--> 970\u001b[1;33m                 \u001b[1;32mreturn\u001b[0m \u001b[0mmethod\u001b[0m\u001b[1;33m(\u001b[0m\u001b[0minclude\u001b[0m\u001b[1;33m=\u001b[0m\u001b[0minclude\u001b[0m\u001b[1;33m,\u001b[0m \u001b[0mexclude\u001b[0m\u001b[1;33m=\u001b[0m\u001b[0mexclude\u001b[0m\u001b[1;33m)\u001b[0m\u001b[1;33m\u001b[0m\u001b[1;33m\u001b[0m\u001b[0m\n\u001b[0m\u001b[0;32m    971\u001b[0m             \u001b[1;32mreturn\u001b[0m \u001b[1;32mNone\u001b[0m\u001b[1;33m\u001b[0m\u001b[1;33m\u001b[0m\u001b[0m\n\u001b[0;32m    972\u001b[0m         \u001b[1;32melse\u001b[0m\u001b[1;33m:\u001b[0m\u001b[1;33m\u001b[0m\u001b[1;33m\u001b[0m\u001b[0m\n",
      "\u001b[1;32mC:\\python\\lib\\site-packages\\IPython\\core\\display.py\u001b[0m in \u001b[0;36m_repr_mimebundle_\u001b[1;34m(self, include, exclude)\u001b[0m\n\u001b[0;32m   1253\u001b[0m         \u001b[1;32mif\u001b[0m \u001b[0mself\u001b[0m\u001b[1;33m.\u001b[0m\u001b[0membed\u001b[0m\u001b[1;33m:\u001b[0m\u001b[1;33m\u001b[0m\u001b[1;33m\u001b[0m\u001b[0m\n\u001b[0;32m   1254\u001b[0m             \u001b[0mmimetype\u001b[0m \u001b[1;33m=\u001b[0m \u001b[0mself\u001b[0m\u001b[1;33m.\u001b[0m\u001b[0m_mimetype\u001b[0m\u001b[1;33m\u001b[0m\u001b[1;33m\u001b[0m\u001b[0m\n\u001b[1;32m-> 1255\u001b[1;33m             \u001b[0mdata\u001b[0m\u001b[1;33m,\u001b[0m \u001b[0mmetadata\u001b[0m \u001b[1;33m=\u001b[0m \u001b[0mself\u001b[0m\u001b[1;33m.\u001b[0m\u001b[0m_data_and_metadata\u001b[0m\u001b[1;33m(\u001b[0m\u001b[0malways_both\u001b[0m\u001b[1;33m=\u001b[0m\u001b[1;32mTrue\u001b[0m\u001b[1;33m)\u001b[0m\u001b[1;33m\u001b[0m\u001b[1;33m\u001b[0m\u001b[0m\n\u001b[0m\u001b[0;32m   1256\u001b[0m             \u001b[1;32mif\u001b[0m \u001b[0mmetadata\u001b[0m\u001b[1;33m:\u001b[0m\u001b[1;33m\u001b[0m\u001b[1;33m\u001b[0m\u001b[0m\n\u001b[0;32m   1257\u001b[0m                 \u001b[0mmetadata\u001b[0m \u001b[1;33m=\u001b[0m \u001b[1;33m{\u001b[0m\u001b[0mmimetype\u001b[0m\u001b[1;33m:\u001b[0m \u001b[0mmetadata\u001b[0m\u001b[1;33m}\u001b[0m\u001b[1;33m\u001b[0m\u001b[1;33m\u001b[0m\u001b[0m\n",
      "\u001b[1;32mC:\\python\\lib\\site-packages\\IPython\\core\\display.py\u001b[0m in \u001b[0;36m_data_and_metadata\u001b[1;34m(self, always_both)\u001b[0m\n\u001b[0;32m   1266\u001b[0m         \u001b[1;32mexcept\u001b[0m \u001b[0mTypeError\u001b[0m\u001b[1;33m:\u001b[0m\u001b[1;33m\u001b[0m\u001b[1;33m\u001b[0m\u001b[0m\n\u001b[0;32m   1267\u001b[0m             raise FileNotFoundError(\n\u001b[1;32m-> 1268\u001b[1;33m                 \"No such file or directory: '%s'\" % (self.data))\n\u001b[0m\u001b[0;32m   1269\u001b[0m         \u001b[0mmd\u001b[0m \u001b[1;33m=\u001b[0m \u001b[1;33m{\u001b[0m\u001b[1;33m}\u001b[0m\u001b[1;33m\u001b[0m\u001b[1;33m\u001b[0m\u001b[0m\n\u001b[0;32m   1270\u001b[0m         \u001b[1;32mif\u001b[0m \u001b[0mself\u001b[0m\u001b[1;33m.\u001b[0m\u001b[0mmetadata\u001b[0m\u001b[1;33m:\u001b[0m\u001b[1;33m\u001b[0m\u001b[1;33m\u001b[0m\u001b[0m\n",
      "\u001b[1;31mFileNotFoundError\u001b[0m: No such file or directory: './images/bpc_logo.png'"
     ]
    },
    {
     "ename": "FileNotFoundError",
     "evalue": "No such file or directory: './images/bpc_logo.png'",
     "output_type": "error",
     "traceback": [
      "\u001b[1;31m---------------------------------------------------------------------------\u001b[0m",
      "\u001b[1;31mTypeError\u001b[0m                                 Traceback (most recent call last)",
      "\u001b[1;32mC:\\python\\lib\\site-packages\\IPython\\core\\display.py\u001b[0m in \u001b[0;36m_data_and_metadata\u001b[1;34m(self, always_both)\u001b[0m\n\u001b[0;32m   1264\u001b[0m         \u001b[1;32mtry\u001b[0m\u001b[1;33m:\u001b[0m\u001b[1;33m\u001b[0m\u001b[1;33m\u001b[0m\u001b[0m\n\u001b[1;32m-> 1265\u001b[1;33m             \u001b[0mb64_data\u001b[0m \u001b[1;33m=\u001b[0m \u001b[0mb2a_base64\u001b[0m\u001b[1;33m(\u001b[0m\u001b[0mself\u001b[0m\u001b[1;33m.\u001b[0m\u001b[0mdata\u001b[0m\u001b[1;33m)\u001b[0m\u001b[1;33m.\u001b[0m\u001b[0mdecode\u001b[0m\u001b[1;33m(\u001b[0m\u001b[1;34m'ascii'\u001b[0m\u001b[1;33m)\u001b[0m\u001b[1;33m\u001b[0m\u001b[1;33m\u001b[0m\u001b[0m\n\u001b[0m\u001b[0;32m   1266\u001b[0m         \u001b[1;32mexcept\u001b[0m \u001b[0mTypeError\u001b[0m\u001b[1;33m:\u001b[0m\u001b[1;33m\u001b[0m\u001b[1;33m\u001b[0m\u001b[0m\n",
      "\u001b[1;31mTypeError\u001b[0m: a bytes-like object is required, not 'str'",
      "\nDuring handling of the above exception, another exception occurred:\n",
      "\u001b[1;31mFileNotFoundError\u001b[0m                         Traceback (most recent call last)",
      "\u001b[1;32mC:\\python\\lib\\site-packages\\IPython\\core\\formatters.py\u001b[0m in \u001b[0;36m__call__\u001b[1;34m(self, obj)\u001b[0m\n\u001b[0;32m    343\u001b[0m             \u001b[0mmethod\u001b[0m \u001b[1;33m=\u001b[0m \u001b[0mget_real_method\u001b[0m\u001b[1;33m(\u001b[0m\u001b[0mobj\u001b[0m\u001b[1;33m,\u001b[0m \u001b[0mself\u001b[0m\u001b[1;33m.\u001b[0m\u001b[0mprint_method\u001b[0m\u001b[1;33m)\u001b[0m\u001b[1;33m\u001b[0m\u001b[1;33m\u001b[0m\u001b[0m\n\u001b[0;32m    344\u001b[0m             \u001b[1;32mif\u001b[0m \u001b[0mmethod\u001b[0m \u001b[1;32mis\u001b[0m \u001b[1;32mnot\u001b[0m \u001b[1;32mNone\u001b[0m\u001b[1;33m:\u001b[0m\u001b[1;33m\u001b[0m\u001b[1;33m\u001b[0m\u001b[0m\n\u001b[1;32m--> 345\u001b[1;33m                 \u001b[1;32mreturn\u001b[0m \u001b[0mmethod\u001b[0m\u001b[1;33m(\u001b[0m\u001b[1;33m)\u001b[0m\u001b[1;33m\u001b[0m\u001b[1;33m\u001b[0m\u001b[0m\n\u001b[0m\u001b[0;32m    346\u001b[0m             \u001b[1;32mreturn\u001b[0m \u001b[1;32mNone\u001b[0m\u001b[1;33m\u001b[0m\u001b[1;33m\u001b[0m\u001b[0m\n\u001b[0;32m    347\u001b[0m         \u001b[1;32melse\u001b[0m\u001b[1;33m:\u001b[0m\u001b[1;33m\u001b[0m\u001b[1;33m\u001b[0m\u001b[0m\n",
      "\u001b[1;32mC:\\python\\lib\\site-packages\\IPython\\core\\display.py\u001b[0m in \u001b[0;36m_repr_png_\u001b[1;34m(self)\u001b[0m\n\u001b[0;32m   1283\u001b[0m     \u001b[1;32mdef\u001b[0m \u001b[0m_repr_png_\u001b[0m\u001b[1;33m(\u001b[0m\u001b[0mself\u001b[0m\u001b[1;33m)\u001b[0m\u001b[1;33m:\u001b[0m\u001b[1;33m\u001b[0m\u001b[1;33m\u001b[0m\u001b[0m\n\u001b[0;32m   1284\u001b[0m         \u001b[1;32mif\u001b[0m \u001b[0mself\u001b[0m\u001b[1;33m.\u001b[0m\u001b[0membed\u001b[0m \u001b[1;32mand\u001b[0m \u001b[0mself\u001b[0m\u001b[1;33m.\u001b[0m\u001b[0mformat\u001b[0m \u001b[1;33m==\u001b[0m \u001b[0mself\u001b[0m\u001b[1;33m.\u001b[0m\u001b[0m_FMT_PNG\u001b[0m\u001b[1;33m:\u001b[0m\u001b[1;33m\u001b[0m\u001b[1;33m\u001b[0m\u001b[0m\n\u001b[1;32m-> 1285\u001b[1;33m             \u001b[1;32mreturn\u001b[0m \u001b[0mself\u001b[0m\u001b[1;33m.\u001b[0m\u001b[0m_data_and_metadata\u001b[0m\u001b[1;33m(\u001b[0m\u001b[1;33m)\u001b[0m\u001b[1;33m\u001b[0m\u001b[1;33m\u001b[0m\u001b[0m\n\u001b[0m\u001b[0;32m   1286\u001b[0m \u001b[1;33m\u001b[0m\u001b[0m\n\u001b[0;32m   1287\u001b[0m     \u001b[1;32mdef\u001b[0m \u001b[0m_repr_jpeg_\u001b[0m\u001b[1;33m(\u001b[0m\u001b[0mself\u001b[0m\u001b[1;33m)\u001b[0m\u001b[1;33m:\u001b[0m\u001b[1;33m\u001b[0m\u001b[1;33m\u001b[0m\u001b[0m\n",
      "\u001b[1;32mC:\\python\\lib\\site-packages\\IPython\\core\\display.py\u001b[0m in \u001b[0;36m_data_and_metadata\u001b[1;34m(self, always_both)\u001b[0m\n\u001b[0;32m   1266\u001b[0m         \u001b[1;32mexcept\u001b[0m \u001b[0mTypeError\u001b[0m\u001b[1;33m:\u001b[0m\u001b[1;33m\u001b[0m\u001b[1;33m\u001b[0m\u001b[0m\n\u001b[0;32m   1267\u001b[0m             raise FileNotFoundError(\n\u001b[1;32m-> 1268\u001b[1;33m                 \"No such file or directory: '%s'\" % (self.data))\n\u001b[0m\u001b[0;32m   1269\u001b[0m         \u001b[0mmd\u001b[0m \u001b[1;33m=\u001b[0m \u001b[1;33m{\u001b[0m\u001b[1;33m}\u001b[0m\u001b[1;33m\u001b[0m\u001b[1;33m\u001b[0m\u001b[0m\n\u001b[0;32m   1270\u001b[0m         \u001b[1;32mif\u001b[0m \u001b[0mself\u001b[0m\u001b[1;33m.\u001b[0m\u001b[0mmetadata\u001b[0m\u001b[1;33m:\u001b[0m\u001b[1;33m\u001b[0m\u001b[1;33m\u001b[0m\u001b[0m\n",
      "\u001b[1;31mFileNotFoundError\u001b[0m: No such file or directory: './images/bpc_logo.png'"
     ]
    },
    {
     "data": {
      "text/plain": [
       "<IPython.core.display.Image object>"
      ]
     },
     "execution_count": 5,
     "metadata": {},
     "output_type": "execute_result"
    }
   ],
   "source": [
    "from IPython.display import Image\n",
    "\n",
    "origin_img  = './images/bpc_logo.png'\n",
    "copied_img = './images/bpc_logo_copy.png'\n",
    "\n",
    "Image(origin_img)"
   ]
  },
  {
   "cell_type": "code",
   "execution_count": 6,
   "metadata": {},
   "outputs": [
    {
     "name": "stdout",
     "output_type": "stream",
     "text": [
      " C 드라이브의 볼륨에는 이름이 없습니다.\n",
      " 볼륨 일련 번호: 2C50-3BD8\n",
      "\n",
      " C:\\Users\\202-001\\실습\\data 디렉터리\n",
      "\n",
      "2019-08-22  오전 09:15    <DIR>          .\n",
      "2019-08-22  오전 09:15    <DIR>          ..\n",
      "2019-08-20  오후 03:37    <DIR>          .ipynb_checkpoints\n",
      "2019-08-20  오후 04:07               310 company.csv\n",
      "2019-08-20  오후 03:37                23 hello.txt\n",
      "2019-08-22  오전 09:15                 0 mydata.txt\n",
      "2019-08-20  오후 04:05               148 students.csv\n",
      "2019-08-20  오후 03:45                30 subject.txt\n",
      "               5개 파일                 511 바이트\n",
      "               3개 디렉터리  84,782,133,248 바이트 남음\n"
     ]
    }
   ],
   "source": [
    "# LS : 현재 디렉에 있는 폴더 찾는 명령어\n",
    "\n",
    "%ls data"
   ]
  },
  {
   "cell_type": "code",
   "execution_count": 11,
   "metadata": {},
   "outputs": [],
   "source": [
    "# 텍스트 파일 복사하기(read, write)\n",
    "f = open('./data/mydata.txt', 'r')\n",
    "h = open('./data/mydata_copy.txt', 'w')\n",
    "\n",
    "data = f.read()\n",
    "h.write(data)\n",
    "\n",
    "h.close()\n",
    "f.close()"
   ]
  },
  {
   "cell_type": "code",
   "execution_count": 10,
   "metadata": {},
   "outputs": [
    {
     "name": "stdout",
     "output_type": "stream",
     "text": [
      "\n"
     ]
    }
   ],
   "source": [
    "with open('./data/mydata_copy.txt', 'r') as fp:\n",
    "    data = fp.read()\n",
    "    print(data)\n",
    "    "
   ]
  },
  {
   "cell_type": "code",
   "execution_count": 13,
   "metadata": {},
   "outputs": [],
   "source": [
    "from IPython.display import Image\n",
    "\n",
    "origin_img = './images/image.png'\n",
    "copied_img = './images/image_copy.png'"
   ]
  },
  {
   "cell_type": "code",
   "execution_count": 14,
   "metadata": {},
   "outputs": [
    {
     "data": {
      "image/png": "[encoded data removed]",
      "text/plain": [
       "<IPython.core.display.Image object>"
      ]
     },
     "execution_count": 14,
     "metadata": {},
     "output_type": "execute_result"
    }
   ],
   "source": [
    "Image(origin_img)\n"
   ]
  },
  {
   "cell_type": "code",
   "execution_count": 15,
   "metadata": {},
   "outputs": [],
   "source": [
    "bufsize = 1024\n",
    "f = open(origin_img, 'rb')\n",
    "h = open(copied_img, 'wb')\n",
    "\n",
    "data= f.read(bufsize)\n",
    "while data:\n",
    "    h.write(data)\n",
    "    data = f.read(bufsize)\n",
    "    \n",
    "h.close()\n",
    "f.close()"
   ]
  },
  {
   "cell_type": "code",
   "execution_count": 16,
   "metadata": {},
   "outputs": [
    {
     "data": {
      "image/png": "[encoded data removed]",
      "text/plain": [
       "<IPython.core.display.Image object>"
      ]
     },
     "execution_count": 16,
     "metadata": {},
     "output_type": "execute_result"
    }
   ],
   "source": [
    "Image(copied_img)"
   ]
  },
  {
   "cell_type": "code",
   "execution_count": 20,
   "metadata": {},
   "outputs": [
    {
     "name": "stdout",
     "output_type": "stream",
     "text": [
      "file name : ./data/mydata_copy.txt |t file size: 0 byte\n",
      "file name : ./images/jupyter_logo.png |t file size: 2688 byte\n"
     ]
    }
   ],
   "source": [
    "from os.path import getsize\n",
    "\n",
    "file1 = './data/mydata_copy.txt'\n",
    "file2 = './images/jupyter_logo.png'\n",
    "file_size1 = getsize(file1)\n",
    "file_size2 = getsize(file2)\n",
    "print('file name : %s |t file size: %d byte' %(file1, file_size1))\n",
    "print('file name : %s |t file size: %d byte' %(file2, file_size2))\n"
   ]
  },
  {
   "cell_type": "code",
   "execution_count": 21,
   "metadata": {},
   "outputs": [
    {
     "name": "stdout",
     "output_type": "stream",
     "text": [
      "[./data/mydata_copy.txt]파일을 삭제하겠습니까? [y]/n\n",
      "[./data/mydata_copy.txt]파일을 삭제했습니다.\n"
     ]
    }
   ],
   "source": [
    "from os import remove\n",
    "target_file = './data/mydata_copy.txt'\n",
    "k = input ('[%s]파일을 삭제하겠습니까? [y]/n' % target_file)\n",
    "\n",
    "if k =='y' or k == '':\n",
    "    remove(target_file)\n",
    "    print('[%s]파일을 삭제했습니다.' %target_file)"
   ]
  },
  {
   "cell_type": "code",
   "execution_count": 26,
   "metadata": {},
   "outputs": [
    {
     "name": "stdout",
     "output_type": "stream",
     "text": [
      "[./data/mydata.txt]에 대한 새로운 파일 이름을 입력하세요: dfdf\n",
      "[./data/mydata.txt] -> [dfdf] 로 파일이름이 변경되었습니다.\n"
     ]
    }
   ],
   "source": [
    "# 파일이름 바꾸기(osrename)\n",
    "from os import rename\n",
    "\n",
    "folder_path = './data/'\n",
    "target_file = folder_path + 'mydata.txt'\n",
    "newname = input('[%s]에 대한 새로운 파일 이름을 입력하세요: ' %target_file)\n",
    "\n",
    "# new_file = folder_path + newname\n",
    "new_file = newname\n",
    "rename(target_file, new_file)\n",
    "print('[%s] -> [%s] 로 파일이름이 변경되었습니다.' %(target_file, new_file))"
   ]
  },
  {
   "cell_type": "code",
   "execution_count": 29,
   "metadata": {},
   "outputs": [
    {
     "name": "stdout",
     "output_type": "stream",
     "text": [
      "[dfdf]를 이동할 디렉터리의 절대경로를 입력하세요:/PerfLogs\n",
      "[dfdf] -> [/PerfLogs/dfdf]로 이동되었습니다.\n"
     ]
    }
   ],
   "source": [
    "from os import rename\n",
    "target_file = new_file\n",
    "newpath = input('[%s]를 이동할 디렉터리의 절대경로를 입력하세요:' %target_file)\n",
    "\n",
    "if newpath[-1] == '/':\n",
    "    newname = newpath+ target_file\n",
    "else:\n",
    "    newname = newpath+ '/'+ target_file\n",
    "    \n",
    "try:\n",
    "    rename(target_file, newname)\n",
    "    print('[%s] -> [%s]로 이동되었습니다.' %(target_file, newname))\n",
    "    \n",
    "except FileNotFoundError as e:\n",
    "    print(e)"
   ]
  },
  {
   "cell_type": "code",
   "execution_count": 31,
   "metadata": {},
   "outputs": [
    {
     "name": "stdout",
     "output_type": "stream",
     "text": [
      "C:\\Users\\202-001\\실습\n",
      "C:\\Users\\202-001\\실습\\data\n",
      "C:\\Users\\202-001\\실습\n",
      "C:\\Users\\202-001\\실습\n"
     ]
    }
   ],
   "source": [
    "import os\n",
    "\n",
    "pdir = os.getcwd(); print(pdir)\n",
    "os.chdir('data'); print(os.getcwd())\n",
    "os.chdir('..'); print(os.getcwd())\n",
    "os.chdir(pdir);  print(os.getcwd())"
   ]
  },
  {
   "cell_type": "code",
   "execution_count": 32,
   "metadata": {},
   "outputs": [
    {
     "ename": "ModuleNotFoundError",
     "evalue": "No module named 'os.glob'; 'os' is not a package",
     "output_type": "error",
     "traceback": [
      "\u001b[1;31m---------------------------------------------------------------------------\u001b[0m",
      "\u001b[1;31mModuleNotFoundError\u001b[0m                       Traceback (most recent call last)",
      "\u001b[1;32m<ipython-input-32-2d8f2a339bf7>\u001b[0m in \u001b[0;36m<module>\u001b[1;34m\u001b[0m\n\u001b[1;32m----> 1\u001b[1;33m \u001b[1;32mimport\u001b[0m \u001b[0mos\u001b[0m\u001b[1;33m.\u001b[0m \u001b[0mglob\u001b[0m\u001b[1;33m\u001b[0m\u001b[1;33m\u001b[0m\u001b[0m\n\u001b[0m\u001b[0;32m      2\u001b[0m \u001b[0mfolder\u001b[0m \u001b[1;33m=\u001b[0m \u001b[1;34m'data'\u001b[0m\u001b[1;33m\u001b[0m\u001b[1;33m\u001b[0m\u001b[0m\n\u001b[0;32m      3\u001b[0m \u001b[0mfile_list1\u001b[0m \u001b[1;33m=\u001b[0m \u001b[0mos\u001b[0m\u001b[1;33m.\u001b[0m\u001b[0mlistdir\u001b[0m\u001b[1;33m(\u001b[0m\u001b[0mfolder\u001b[0m\u001b[1;33m)\u001b[0m\u001b[1;33m\u001b[0m\u001b[1;33m\u001b[0m\u001b[0m\n\u001b[0;32m      4\u001b[0m \u001b[0mprint\u001b[0m\u001b[1;33m(\u001b[0m\u001b[0mfile_list1\u001b[0m\u001b[1;33m)\u001b[0m\u001b[1;33m\u001b[0m\u001b[1;33m\u001b[0m\u001b[0m\n\u001b[0;32m      5\u001b[0m \u001b[0mfiles\u001b[0m \u001b[1;33m=\u001b[0m \u001b[1;34m'data/*.txt'\u001b[0m\u001b[1;33m\u001b[0m\u001b[1;33m\u001b[0m\u001b[0m\n",
      "\u001b[1;31mModuleNotFoundError\u001b[0m: No module named 'os.glob'; 'os' is not a package"
     ]
    }
   ],
   "source": [
    "#glob\n",
    "import os, glob\n",
    "folder = 'data'\n",
    "file_list1 = os.listdir(folder)\n",
    "print(file_list1)\n",
    "files = 'data/*.txt'\n",
    "file_list2= glob.glob(files)\n",
    "print(file_list2)"
   ]
  },
  {
   "cell_type": "code",
   "execution_count": 34,
   "metadata": {},
   "outputs": [
    {
     "name": "stdout",
     "output_type": "stream",
     "text": [
      "새로 생성할 디렉터리 이름을 입력하세요: dfdf\n",
      "[dfdf] 디렉터리를 새로 생성했습니다.\n"
     ]
    }
   ],
   "source": [
    "# 디렉터리 생성하기(osmkdir)\n",
    "import os\n",
    "\n",
    "newfolder = input('새로 생성할 디렉터리 이름을 입력하세요: ')\n",
    "\n",
    "try:\n",
    "    os.mkdir(newfolder)\n",
    "    print('[%s] 디렉터리를 새로 생성했습니다.' %newfolder)\n",
    "except Exception as e:\n",
    "    print(e)"
   ]
  },
  {
   "cell_type": "code",
   "execution_count": 35,
   "metadata": {},
   "outputs": [
    {
     "name": "stdout",
     "output_type": "stream",
     "text": [
      "[dfdf]디렉터리를 삭제하겠습니까(y/n)y\n",
      "[dfdf]디렉터리를 삭제했습니다.\n"
     ]
    }
   ],
   "source": [
    "import os\n",
    "target_folder = newfolder\n",
    "k = input('[%s]디렉터리를 삭제하겠습니까(y/n)'%target_folder)\n",
    "if k =='y':\n",
    "    try:\n",
    "        os.rmdir(target_folder)\n",
    "        print('[%s]디렉터리를 삭제했습니다.' % target_folder)\n",
    "    except Exception as e:\n",
    "        print(e)\n",
    "        "
   ]
  },
  {
   "cell_type": "code",
   "execution_count": 38,
   "metadata": {},
   "outputs": [
    {
     "name": "stdout",
     "output_type": "stream",
     "text": [
      "새로 생성할 디렉터리 이름을 입력하세요: ㅇㄹㅇㄹ\n",
      "[ㅇㄹㅇㄹ]은(는) 이미 존재합니다.\n"
     ]
    }
   ],
   "source": [
    "# 파일이 존재하는지 체크하기(os.pathexists)\n",
    "import os\n",
    "from os.path import exists\n",
    "\n",
    "dir_name = input('새로 생성할 디렉터리 이름을 입력하세요: ')\n",
    "\n",
    "if not exists(dir_name):\n",
    "    os.mkdir(dir_name)\n",
    "    print('[%s] 디렉터리를 생성했습니다.' %dir_name)\n",
    "else:\n",
    "    print('[%s]은(는) 이미 존재합니다.' %dir_name)"
   ]
  },
  {
   "cell_type": "code",
   "execution_count": 39,
   "metadata": {},
   "outputs": [
    {
     "ename": "SyntaxError",
     "evalue": "invalid syntax (<ipython-input-39-d1c386a26f71>, line 4)",
     "output_type": "error",
     "traceback": [
      "\u001b[1;36m  File \u001b[1;32m\"<ipython-input-39-d1c386a26f71>\"\u001b[1;36m, line \u001b[1;32m4\u001b[0m\n\u001b[1;33m    Docstring:\u001b[0m\n\u001b[1;37m              ^\u001b[0m\n\u001b[1;31mSyntaxError\u001b[0m\u001b[1;31m:\u001b[0m invalid syntax\n"
     ]
    }
   ],
   "source": [
    "# os.listdir\n",
    "\n",
    "Signature: os.listdir(path=None)\n",
    "Docstring:\n",
    "Return a list containing the names of the files in the directory.\n",
    "\n",
    "path can be specified as either str or bytes.  If path is bytes,\n",
    "  the filenames returned will also be bytes; in all other circumstances\n",
    "  the filenames returned will be str.\n",
    "If path is None, uses the path='.'.\n",
    "On some platforms, path may also be specified as an open file descriptor;\\\n",
    "  the file descriptor must refer to a directory.\n",
    "  If this functionality is unavailable, using it raises NotImplementedError.\n",
    "\n",
    "The list is in arbitrary order.  It does not include the special\n",
    "entries '.' and '..' even if they are present in the directory.\n",
    "Type:      builtin_function_or_method"
   ]
  },
  {
   "cell_type": "code",
   "execution_count": 46,
   "metadata": {},
   "outputs": [
    {
     "name": "stdout",
     "output_type": "stream",
     "text": [
      "DIR: .ipynb_checkpoints\n",
      "DIR: 0822\n",
      "DIR: data\n",
      "DIR: ggggg\n",
      "DIR: images\n",
      "DIR: ㅇㄹㅇㄹ\n",
      "FILE: class.ipynb\n",
      "FILE: fileopen.ipynb\n",
      "FILE: 변수 및 자료형.ipynb\n",
      "FILE: 파일핸들링 & OS 기본명령어.ipynb\n"
     ]
    }
   ],
   "source": [
    "import os \n",
    "from os.path import exists, isdir, isfile\n",
    "#listdir() : 해당 디렉터리에 있는 파일들의 리스트를 구할 수 있다\n",
    "#exists\n",
    "#os.path.isfile\n",
    "#os.path.isdir\n",
    "files = os.listdir()\n",
    "\n",
    "for file in files:\n",
    "    if isdir(file):\n",
    "               print('DIR: %s' %file)\n",
    "for file in files:\n",
    "    if isfile(file):\n",
    "        print('FILE: %s' %file)"
   ]
  },
  {
   "cell_type": "code",
   "execution_count": 47,
   "metadata": {},
   "outputs": [
    {
     "name": "stdout",
     "output_type": "stream",
     "text": [
      "[E:/devlab/tmp] 하위 모든 디렉터리 및 파일들을 삭제합니다.\n"
     ]
    },
    {
     "ename": "FileNotFoundError",
     "evalue": "[WinError 3] 지정된 경로를 찾을 수 없습니다: 'E:/devlab/tmp'",
     "output_type": "error",
     "traceback": [
      "\u001b[1;31m---------------------------------------------------------------------------\u001b[0m",
      "\u001b[1;31mFileNotFoundError\u001b[0m                         Traceback (most recent call last)",
      "\u001b[1;32m<ipython-input-47-531c2ae1d189>\u001b[0m in \u001b[0;36m<module>\u001b[1;34m\u001b[0m\n\u001b[0;32m      6\u001b[0m \u001b[0mprint\u001b[0m\u001b[1;33m(\u001b[0m\u001b[1;34m'[%s] 하위 모든 디렉터리 및 파일들을 삭제합니다.'\u001b[0m \u001b[1;33m%\u001b[0m\u001b[0mtarget_folder\u001b[0m\u001b[1;33m)\u001b[0m\u001b[1;33m\u001b[0m\u001b[1;33m\u001b[0m\u001b[0m\n\u001b[0;32m      7\u001b[0m \u001b[1;33m\u001b[0m\u001b[0m\n\u001b[1;32m----> 8\u001b[1;33m \u001b[1;32mfor\u001b[0m \u001b[0mfile\u001b[0m \u001b[1;32min\u001b[0m \u001b[0mos\u001b[0m\u001b[1;33m.\u001b[0m\u001b[0mlistdir\u001b[0m\u001b[1;33m(\u001b[0m\u001b[0mtarget_folder\u001b[0m\u001b[1;33m)\u001b[0m\u001b[1;33m:\u001b[0m\u001b[1;33m\u001b[0m\u001b[1;33m\u001b[0m\u001b[0m\n\u001b[0m\u001b[0;32m      9\u001b[0m     \u001b[0mprint\u001b[0m\u001b[1;33m(\u001b[0m\u001b[0mfile\u001b[0m\u001b[1;33m)\u001b[0m\u001b[1;33m\u001b[0m\u001b[1;33m\u001b[0m\u001b[0m\n\u001b[0;32m     10\u001b[0m \u001b[0mk\u001b[0m \u001b[1;33m=\u001b[0m \u001b[0minput\u001b[0m\u001b[1;33m(\u001b[0m\u001b[1;34m'[%s]를 삭제하겠습니까? (y/n) '\u001b[0m \u001b[1;33m%\u001b[0m\u001b[0mtarget_folder\u001b[0m\u001b[1;33m)\u001b[0m\u001b[1;33m\u001b[0m\u001b[1;33m\u001b[0m\u001b[0m\n",
      "\u001b[1;31mFileNotFoundError\u001b[0m: [WinError 3] 지정된 경로를 찾을 수 없습니다: 'E:/devlab/tmp'"
     ]
    }
   ],
   "source": [
    "# 하위 디렉터리 및 파일 전체 삭제하기(shutil.rmtree)\n",
    "import shutil\n",
    "import os\n",
    "\n",
    "target_folder = 'E:/devlab/tmp'\n",
    "print('[%s] 하위 모든 디렉터리 및 파일들을 삭제합니다.' %target_folder)\n",
    "\n",
    "for file in os.listdir(target_folder):\n",
    "    print(file)\n",
    "k = input('[%s]를 삭제하겠습니까? (y/n) ' %target_folder)\n",
    "\n",
    "if k == 'y':\n",
    "    try:\n",
    "        shutil.rmtree(target_folder)\n",
    "        print('[%s]의 모든 하위 디렉터리와 파일들을 삭제했습니다.' %target_folder)\n",
    "    except Exception as e:\n",
    "        print(e)"
   ]
  },
  {
   "cell_type": "code",
   "execution_count": null,
   "metadata": {},
   "outputs": [],
   "source": []
  },
  {
   "cell_type": "code",
   "execution_count": 49,
   "metadata": {
    "scrolled": true
   },
   "outputs": [
    {
     "name": "stdout",
     "output_type": "stream",
     "text": [
      "2018-03-02\n"
     ]
    }
   ],
   "source": [
    "import datetime\n",
    "set_day = datetime.date(2018,3,2)\n",
    "print(set_day)"
   ]
  },
  {
   "cell_type": "code",
   "execution_count": 51,
   "metadata": {},
   "outputs": [
    {
     "name": "stdout",
     "output_type": "stream",
     "text": [
      "2018/3/2\n"
     ]
    }
   ],
   "source": [
    "print('{0}/{1}/{2}'.format(set_day.year, set_day.month, set_day.day))"
   ]
  },
  {
   "cell_type": "code",
   "execution_count": 63,
   "metadata": {
    "scrolled": true
   },
   "outputs": [
    {
     "name": "stdout",
     "output_type": "stream",
     "text": [
      "19119 days, 0:00:00\n"
     ]
    }
   ],
   "source": [
    "import datetime\n",
    "day1 = datetime.date(1967,4,18)\n",
    "day2 = datetime.date(2019, 8, 22)\n",
    "diff_day = day2- day1\n",
    "print(diff_day)"
   ]
  },
  {
   "cell_type": "code",
   "execution_count": 64,
   "metadata": {},
   "outputs": [
    {
     "data": {
      "text/plain": [
       "datetime.date"
      ]
     },
     "execution_count": 64,
     "metadata": {},
     "output_type": "execute_result"
    }
   ],
   "source": [
    "type(day1)"
   ]
  },
  {
   "cell_type": "code",
   "execution_count": 65,
   "metadata": {},
   "outputs": [
    {
     "data": {
      "text/plain": [
       "datetime.timedelta"
      ]
     },
     "execution_count": 65,
     "metadata": {},
     "output_type": "execute_result"
    }
   ],
   "source": [
    "type(diff_day)"
   ]
  },
  {
   "cell_type": "code",
   "execution_count": 66,
   "metadata": {},
   "outputs": [
    {
     "name": "stdout",
     "output_type": "stream",
     "text": [
      "** 지정된 두 날짜의 차이는 19119 일입니다. **\n"
     ]
    }
   ],
   "source": [
    "print(\"** 지정된 두 날짜의 차이는 {} 일입니다. **\".format(diff_day.days))"
   ]
  },
  {
   "cell_type": "code",
   "execution_count": null,
   "metadata": {},
   "outputs": [],
   "source": []
  },
  {
   "cell_type": "code",
   "execution_count": 67,
   "metadata": {},
   "outputs": [
    {
     "name": "stdout",
     "output_type": "stream",
     "text": [
      "2019-08-22\n"
     ]
    }
   ],
   "source": [
    "import datetime\n",
    "print(datetime.date.today())"
   ]
  },
  {
   "cell_type": "code",
   "execution_count": 78,
   "metadata": {},
   "outputs": [
    {
     "name": "stdout",
     "output_type": "stream",
     "text": [
      "   February 2019\n",
      "Su Mo Tu We Th Fr Sa\n",
      "                1  2\n",
      " 3  4  5  6  7  8  9\n",
      "10 11 12 13 14 15 16\n",
      "17 18 19 20 21 22 23\n",
      "24 25 26 27 28\n",
      "\n"
     ]
    }
   ],
   "source": [
    "import calendar\n",
    "calendar.setfirstweekday(calendar.SUNDAY)\n",
    "print(calendar.month(2019,2))"
   ]
  },
  {
   "cell_type": "code",
   "execution_count": 73,
   "metadata": {},
   "outputs": [
    {
     "name": "stdout",
     "output_type": "stream",
     "text": [
      "    August 2019\n",
      "Su Mo Tu We Th Fr Sa\n",
      "             1  2  3\n",
      " 4  5  6  7  8  9 10\n",
      "11 12 13 14 15 16 17\n",
      "18 19 20 21 22 23 24\n",
      "25 26 27 28 29 30 31\n",
      "\n"
     ]
    }
   ],
   "source": [
    "print(calendar.month(2019,8))"
   ]
  },
  {
   "cell_type": "code",
   "execution_count": 81,
   "metadata": {},
   "outputs": [
    {
     "data": {
      "text/plain": [
       "6"
      ]
     },
     "execution_count": 81,
     "metadata": {},
     "output_type": "execute_result"
    }
   ],
   "source": [
    "calendar.firstweekday()"
   ]
  },
  {
   "cell_type": "code",
   "execution_count": 86,
   "metadata": {},
   "outputs": [
    {
     "data": {
      "text/plain": [
       "1"
      ]
     },
     "execution_count": 86,
     "metadata": {},
     "output_type": "execute_result"
    }
   ],
   "source": [
    "calendar.TUESDAY"
   ]
  },
  {
   "cell_type": "code",
   "execution_count": 87,
   "metadata": {},
   "outputs": [],
   "source": [
    "import datetime"
   ]
  },
  {
   "cell_type": "code",
   "execution_count": null,
   "metadata": {},
   "outputs": [],
   "source": [
    "set_day = datetime.date(2018, 3,2)\n",
    "print(set_day)"
   ]
  },
  {
   "cell_type": "code",
   "execution_count": 88,
   "metadata": {},
   "outputs": [
    {
     "name": "stdout",
     "output_type": "stream",
     "text": [
      "2018/3/2\n"
     ]
    }
   ],
   "source": [
    "print('{0}/{1}/{2}'.format(set_day.year, set_day.month, set_day.day))"
   ]
  },
  {
   "cell_type": "code",
   "execution_count": 90,
   "metadata": {},
   "outputs": [
    {
     "name": "stdout",
     "output_type": "stream",
     "text": [
      "2019-08-22\n"
     ]
    }
   ],
   "source": [
    "print(datetime.date.today())"
   ]
  },
  {
   "cell_type": "code",
   "execution_count": 94,
   "metadata": {},
   "outputs": [
    {
     "name": "stdout",
     "output_type": "stream",
     "text": [
      "2019-08-22\n",
      "-233 days, 0:00:00\n"
     ]
    }
   ],
   "source": [
    "today = datetime.date.today()\n",
    "print(today)\n",
    "special_day = datetime.date(2019, 1,1)\n",
    "print(special_day - today)"
   ]
  },
  {
   "cell_type": "code",
   "execution_count": 95,
   "metadata": {},
   "outputs": [
    {
     "data": {
      "text/plain": [
       "datetime.timedelta(days=-240)"
      ]
     },
     "execution_count": 95,
     "metadata": {},
     "output_type": "execute_result"
    }
   ],
   "source": [
    "today = datetime.date.today()\n",
    "xmas_date = datetime.date(2018, 12,25)\n",
    "remain_days = xmas_date - today\n",
    "remain_days"
   ]
  },
  {
   "cell_type": "code",
   "execution_count": 99,
   "metadata": {},
   "outputs": [
    {
     "name": "stdout",
     "output_type": "stream",
     "text": [
      "크리스마스는 이제 -240일 남았습니다.\n"
     ]
    }
   ],
   "source": [
    "print('크리스마스는 이제 {}일 남았습니다.'.format(remain_days.days))"
   ]
  },
  {
   "cell_type": "code",
   "execution_count": 104,
   "metadata": {},
   "outputs": [],
   "source": [
    "# 현재 시간을 년-월-일 시:분:초로 출력하기(localtime, strftime)\n",
    "from time import localtime, strftime\n",
    "\n",
    "def writelog(logfile, log):\n",
    "    time_stamp = strftime('%Y-%m-%d %X\\t', localtime())\n",
    "    log = time_stamp + log + '\\n'\n",
    "\n",
    "    with open(logfile, 'a') as f:\n",
    "        f.writelines(log)\n",
    "\n",
    "logfile = 'test.log'\n",
    "# ! rm $logfile\n",
    "! del test.log \n",
    "\n",
    "writelog(logfile, '첫번째 로깅 문장입니다.')"
   ]
  },
  {
   "cell_type": "code",
   "execution_count": 106,
   "metadata": {},
   "outputs": [
    {
     "name": "stdout",
     "output_type": "stream",
     "text": [
      "2019-08-22 16:32:02\t첫번째 로깅 문장입니다.\n"
     ]
    }
   ],
   "source": [
    "! type test.log"
   ]
  },
  {
   "cell_type": "code",
   "execution_count": null,
   "metadata": {},
   "outputs": [],
   "source": []
  },
  {
   "cell_type": "code",
   "execution_count": null,
   "metadata": {},
   "outputs": [],
   "source": []
  },
  {
   "cell_type": "code",
   "execution_count": null,
   "metadata": {},
   "outputs": [],
   "source": []
  },
  {
   "cell_type": "code",
   "execution_count": null,
   "metadata": {},
   "outputs": [],
   "source": []
  },
  {
   "cell_type": "code",
   "execution_count": 120,
   "metadata": {},
   "outputs": [
    {
     "data": {
      "text/plain": [
       "'러블리~ 우리 함께한지 벌써 96일이나 지났고, 월수는 3개월, 년수는 0년이 지났네~!!'"
      ]
     },
     "execution_count": 120,
     "metadata": {},
     "output_type": "execute_result"
    }
   ],
   "source": [
    "m_day = datetime(2019, 5, 18)\n",
    "# m_day = m_day.strftime('%Y-%m-%d')\n",
    "m_day\n",
    "\n",
    "today = datetime.now()\n",
    "today\n",
    "elapsed = today - m_day\n",
    "elapsed\n",
    "elapsed.days, elapsed.seconds, elapsed.microseconds\n",
    "elapsed_day   = elapsed.days\n",
    "elapsed_month = elapsed_day / 30\n",
    "elapsed_year  = elapsed_day / 365\n",
    "\n",
    "'러블리~ 우리 함께한지 벌써 {e_dd}일이나 지났고, 월수는 {e_mm}개월, 년수는 {e_yy}년이 지났네~!!'.format(\n",
    "    e_dd = elapsed_day,\n",
    "    e_mm = int(elapsed_month),\n",
    "    e_yy = int(elapsed_year)\n",
    ")"
   ]
  },
  {
   "cell_type": "code",
   "execution_count": 122,
   "metadata": {},
   "outputs": [
    {
     "name": "stdout",
     "output_type": "stream",
     "text": [
      "pi =  3.14\n"
     ]
    }
   ],
   "source": [
    "from modules.my_area import PI\n",
    "print('pi = ', PI)"
   ]
  },
  {
   "cell_type": "code",
   "execution_count": 121,
   "metadata": {},
   "outputs": [
    {
     "ename": "NameError",
     "evalue": "name 'PI' is not defined",
     "output_type": "error",
     "traceback": [
      "\u001b[1;31m---------------------------------------------------------------------------\u001b[0m",
      "\u001b[1;31mNameError\u001b[0m                                 Traceback (most recent call last)",
      "\u001b[1;32m<ipython-input-121-8f1a6267f1d5>\u001b[0m in \u001b[0;36m<module>\u001b[1;34m\u001b[0m\n\u001b[1;32m----> 1\u001b[1;33m \u001b[0mprint\u001b[0m\u001b[1;33m(\u001b[0m\u001b[1;34m'pi = '\u001b[0m\u001b[1;33m,\u001b[0m \u001b[0mPI\u001b[0m\u001b[1;33m)\u001b[0m\u001b[1;33m\u001b[0m\u001b[1;33m\u001b[0m\u001b[0m\n\u001b[0m",
      "\u001b[1;31mNameError\u001b[0m: name 'PI' is not defined"
     ]
    }
   ],
   "source": []
  },
  {
   "cell_type": "code",
   "execution_count": 123,
   "metadata": {},
   "outputs": [
    {
     "name": "stdout",
     "output_type": "stream",
     "text": [
      "Overwriting modules/my_module_test1.py\n"
     ]
    }
   ],
   "source": [
    "# 뒤에 경로 + 파일 명을 만들어서 씌우는 명령어 %%writefile  : 주피터 노트북 명령어\n",
    "%%writefile modules/my_module_test1.py\n",
    "\n",
    "def func(a):\n",
    "    print('입력숫자:', a)\n",
    "    \n",
    "func(3)"
   ]
  },
  {
   "cell_type": "code",
   "execution_count": 124,
   "metadata": {},
   "outputs": [
    {
     "name": "stdout",
     "output_type": "stream",
     "text": [
      "입력숫자: 3\n"
     ]
    }
   ],
   "source": [
    "%run ./modules/my_module_test1.py"
   ]
  },
  {
   "cell_type": "code",
   "execution_count": 125,
   "metadata": {},
   "outputs": [
    {
     "name": "stdout",
     "output_type": "stream",
     "text": [
      "입력숫자: 3\n"
     ]
    }
   ],
   "source": [
    "from modules import my_module_test1"
   ]
  },
  {
   "cell_type": "code",
   "execution_count": 126,
   "metadata": {},
   "outputs": [
    {
     "name": "stdout",
     "output_type": "stream",
     "text": [
      "Writing modules/my_module_test2.py\n"
     ]
    }
   ],
   "source": [
    "%%writefile modules/my_module_test2.py\n",
    "\n",
    "def func(a):\n",
    "    print('입력숫자:', a)\n",
    "    \n",
    "if __name__ == \"__main__\":\n",
    "    print('모듈을 직접 실행')\n",
    "    func(3)\n",
    "    func(4)"
   ]
  },
  {
   "cell_type": "code",
   "execution_count": 129,
   "metadata": {},
   "outputs": [
    {
     "name": "stdout",
     "output_type": "stream",
     "text": [
      "모듈을 직접 실행\n",
      "입력숫자: 3\n",
      "입력숫자: 4\n"
     ]
    }
   ],
   "source": [
    "%run ./modules/my_module_test2.py"
   ]
  },
  {
   "cell_type": "code",
   "execution_count": 130,
   "metadata": {},
   "outputs": [],
   "source": [
    "from modules import my_module_test2"
   ]
  },
  {
   "cell_type": "code",
   "execution_count": 131,
   "metadata": {},
   "outputs": [
    {
     "name": "stdout",
     "output_type": "stream",
     "text": [
      "Overwriting modules/my_module_test3.py\n"
     ]
    }
   ],
   "source": [
    "%%writefile modules/my_module_test3.py\n",
    "def func(a):\n",
    "    print('입력숫자: ',a)\n",
    "    \n",
    "if __name__== \"__main__\"\n",
    "    print('모듈을 직접 실행')\n",
    "    func(3)\n",
    "    func(4)\n",
    "else:\n",
    "    print('모듈을 임포트 해서 실행')\n",
    "    "
   ]
  },
  {
   "cell_type": "code",
   "execution_count": null,
   "metadata": {},
   "outputs": [],
   "source": []
  },
  {
   "cell_type": "code",
   "execution_count": 133,
   "metadata": {},
   "outputs": [
    {
     "name": "stdout",
     "output_type": "stream",
     "text": [
      "2018-03-02\n"
     ]
    }
   ],
   "source": [
    "import datetime\n",
    "set_day = datetime.date(2018,3,2)\n",
    "print(set_day)\n"
   ]
  },
  {
   "cell_type": "code",
   "execution_count": 135,
   "metadata": {},
   "outputs": [
    {
     "name": "stdout",
     "output_type": "stream",
     "text": [
      "2018/3/2\n"
     ]
    }
   ],
   "source": [
    "print('{0}/{1}/{2}'.format(set_day.year, set_day.month, set_day.day))"
   ]
  },
  {
   "cell_type": "code",
   "execution_count": null,
   "metadata": {},
   "outputs": [],
   "source": []
  },
  {
   "cell_type": "code",
   "execution_count": null,
   "metadata": {},
   "outputs": [],
   "source": []
  },
  {
   "cell_type": "code",
   "execution_count": null,
   "metadata": {},
   "outputs": [],
   "source": []
  },
  {
   "cell_type": "code",
   "execution_count": null,
   "metadata": {},
   "outputs": [],
   "source": []
  },
  {
   "cell_type": "code",
   "execution_count": null,
   "metadata": {},
   "outputs": [],
   "source": []
  },
  {
   "cell_type": "code",
   "execution_count": null,
   "metadata": {},
   "outputs": [],
   "source": []
  },
  {
   "cell_type": "code",
   "execution_count": null,
   "metadata": {},
   "outputs": [],
   "source": [
    "\n",
    "\n"
   ]
  },
  {
   "cell_type": "code",
   "execution_count": null,
   "metadata": {},
   "outputs": [],
   "source": []
  }
 ],
 "metadata": {
  "kernelspec": {
   "display_name": "Python 3",
   "language": "python",
   "name": "python3"
  },
  "language_info": {
   "codemirror_mode": {
    "name": "ipython",
    "version": 3
   },
   "file_extension": ".py",
   "mimetype": "text/x-python",
   "name": "python",
   "nbconvert_exporter": "python",
   "pygments_lexer": "ipython3",
   "version": "3.7.3"
  }
 },
 "nbformat": 4,
 "nbformat_minor": 2
}
